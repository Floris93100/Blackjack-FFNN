{
 "cells": [
  {
   "cell_type": "code",
   "execution_count": 2,
   "metadata": {},
   "outputs": [
    {
     "name": "stderr",
     "output_type": "stream",
     "text": [
      "c:\\Python39\\lib\\site-packages\\scipy\\__init__.py:146: UserWarning: A NumPy version >=1.16.5 and <1.23.0 is required for this version of SciPy (detected version 1.26.2\n",
      "  warnings.warn(f\"A NumPy version >={np_minversion} and <{np_maxversion}\"\n"
     ]
    }
   ],
   "source": [
    "import pandas as pd\n",
    "import numpy as np\n",
    "from sklearn.model_selection import train_test_split\n",
    "import torch\n",
    "import torch.nn as nn\n",
    "from torch.nn.functional import normalize\n",
    "from tqdm import tqdm"
   ]
  },
  {
   "cell_type": "code",
   "execution_count": 3,
   "metadata": {},
   "outputs": [],
   "source": [
    "def read_data(file):\n",
    "    return pd.read_csv(file, delimiter=',')"
   ]
  },
  {
   "cell_type": "code",
   "execution_count": 4,
   "metadata": {},
   "outputs": [],
   "source": [
    "def split_data(data):\n",
    "    x = data[:, :5]\n",
    "    y = data[:, 5]\n",
    "    x_train, x_test, y_train, y_test = train_test_split(x, y, test_size=0.2, random_state=37)\n",
    "    return x_train, x_test, y_train, y_test\n",
    "\n",
    "def transform(data):\n",
    "    data = torch.tensor(data, dtype=torch.float32)\n",
    "    # data = normalize(data)\n",
    "    return data"
   ]
  },
  {
   "cell_type": "code",
   "execution_count": 5,
   "metadata": {},
   "outputs": [],
   "source": [
    "def preprocess(filename):\n",
    "    df_raw = read_data(filename)\n",
    "    print(df_raw.head())\n",
    "    d_raw = df_raw.to_numpy() # data to binary?\n",
    "    x, x_test, y, y_test = split_data(d_raw)\n",
    "\n",
    "    x, x_test = transform(x), transform(x_test)\n",
    "    \n",
    "    return x, x_test, y, y_test"
   ]
  },
  {
   "cell_type": "code",
   "execution_count": 6,
   "metadata": {},
   "outputs": [
    {
     "name": "stdout",
     "output_type": "stream",
     "text": [
      "   Player sum  Dealer card  Usable ace  Double down allowed  Split allowed  \\\n",
      "0          15            9           0                    1              0   \n",
      "1          19           10           0                    1              0   \n",
      "2          11           10           0                    1              0   \n",
      "3          20           10           0                    1              1   \n",
      "4          20            9           0                    1              1   \n",
      "\n",
      "   Action  \n",
      "0       1  \n",
      "1       0  \n",
      "2       2  \n",
      "3       0  \n",
      "4       0  \n"
     ]
    }
   ],
   "source": [
    "datafile = '../data/basic_strategy_agent.csv'\n",
    "x_train, x_test, y_train, y_test = preprocess(datafile)"
   ]
  },
  {
   "cell_type": "code",
   "execution_count": 7,
   "metadata": {},
   "outputs": [],
   "source": [
    "def one_hot_encode(y, n):\n",
    "    return torch.eye(n)[y]\n",
    "\n",
    "def combine_input_and_label(x, y, n):\n",
    "    y_one_hot = one_hot_encode(y, n)\n",
    "    return torch.concat((x, y_one_hot), 1)\n",
    "\n",
    "def generate_neg_labels(y, n):\n",
    "    y_ = y.copy()\n",
    "    for i in range(len(y)):\n",
    "        negative_labels = [j for j in range(n) if j != y[i]]\n",
    "        y_[i] = np.random.choice(negative_labels)\n",
    "\n",
    "    return y_"
   ]
  },
  {
   "cell_type": "code",
   "execution_count": 17,
   "metadata": {},
   "outputs": [
    {
     "name": "stdout",
     "output_type": "stream",
     "text": [
      "x_pos[0]: tensor([19.,  3.,  1.,  0.,  0.,  1.,  0.,  0.,  0.])\n",
      "x_neg[0]: tensor([19.,  3.,  1.,  0.,  0.,  0.,  0.,  1.,  0.])\n",
      "Train size: 1197\n",
      "Test size: 300\n"
     ]
    }
   ],
   "source": [
    "x_pos = combine_input_and_label(x_train, y_train, 4)\n",
    "\n",
    "y_neg = generate_neg_labels(y_train, 4)\n",
    "x_neg = combine_input_and_label(x_train, y_neg, 4)\n",
    "\n",
    "y_train_OH = one_hot_encode(y_train, 4)\n",
    "y_test_OH = one_hot_encode(y_test, 4)\n",
    "\n",
    "\n",
    "print(f\"x_pos[0]: {x_pos[0]}\")\n",
    "print(f\"x_neg[0]: {x_neg[0]}\")\n",
    "print(f\"Train size: {len(x_train)}\")\n",
    "print(f\"Test size: {len(x_test)}\")"
   ]
  },
  {
   "cell_type": "markdown",
   "metadata": {},
   "source": [
    "## Forward-Forward"
   ]
  },
  {
   "cell_type": "code",
   "execution_count": 1,
   "metadata": {},
   "outputs": [
    {
     "name": "stdout",
     "output_type": "stream",
     "text": [
      "using cpu\n"
     ]
    }
   ],
   "source": [
    "from FFNN import FFNN\n",
    "import torch\n",
    "\n",
    "# Hyperparameters\n",
    "layers = [9, 2000, 2000, 2000, 2000]\n",
    "bias = True\n",
    "threshold = 0.8\n",
    "epochs = 60\n",
    "learning_rate = 0.03\n",
    "\n",
    "model = FFNN(\n",
    "    layers=layers,\n",
    "    bias=bias,\n",
    "    threshold=threshold,\n",
    "    epochs=epochs,\n",
    "    learning_rate=learning_rate,\n",
    "    )\n",
    "\n",
    "if torch.cuda.is_available():\n",
    "    device = torch.device('cuda')\n",
    "    print(\"using gpu: \", torch.cuda.get_device_name())\n",
    "else:\n",
    "    device = torch.device('cpu')\n",
    "    print(\"using cpu\")\n",
    "\n",
    "model.to(device)\n",
    "\n",
    "# x = torch.Tensor([[1,1,5,2,0], [1,1,2,2,1]])\n",
    "# print(x.shape)\n",
    "# print(x / torch.sqrt(torch.sum(x**2, dim=1, keepdim=True)))\n",
    "# print(x / (x.norm(2, 1, keepdim=True)))\n",
    "# print(x / (torch.sqrt(torch.mean(x ** 2, dim=-1, keepdim=True))))"
   ]
  },
  {
   "cell_type": "code",
   "execution_count": 11,
   "metadata": {},
   "outputs": [
    {
     "name": "stdout",
     "output_type": "stream",
     "text": [
      "Training Layer: 1\n"
     ]
    },
    {
     "name": "stderr",
     "output_type": "stream",
     "text": [
      "100%|██████████| 60/60 [00:00<00:00, 411.37it/s]\n"
     ]
    },
    {
     "name": "stdout",
     "output_type": "stream",
     "text": [
      "Avg Loss: 12.68347699244817\n",
      "Training Layer: 2\n"
     ]
    },
    {
     "name": "stderr",
     "output_type": "stream",
     "text": [
      "100%|██████████| 60/60 [00:02<00:00, 28.09it/s]\n"
     ]
    },
    {
     "name": "stdout",
     "output_type": "stream",
     "text": [
      "Avg Loss: 4.990047407150269\n",
      "Training Layer: 3\n"
     ]
    },
    {
     "name": "stderr",
     "output_type": "stream",
     "text": [
      "100%|██████████| 60/60 [00:02<00:00, 27.17it/s]\n"
     ]
    },
    {
     "name": "stdout",
     "output_type": "stream",
     "text": [
      "Avg Loss: 4.211366581916809\n",
      "Training Layer: 4\n"
     ]
    },
    {
     "name": "stderr",
     "output_type": "stream",
     "text": [
      "100%|██████████| 60/60 [00:02<00:00, 26.38it/s]"
     ]
    },
    {
     "name": "stdout",
     "output_type": "stream",
     "text": [
      "Avg Loss: nan\n"
     ]
    },
    {
     "name": "stderr",
     "output_type": "stream",
     "text": [
      "\n"
     ]
    }
   ],
   "source": [
    "model.train(x_pos.to(device), x_neg.to(device))\n",
    "torch.save(model.state_dict(), 'model.pth')"
   ]
  },
  {
   "cell_type": "code",
   "execution_count": 12,
   "metadata": {},
   "outputs": [
    {
     "name": "stdout",
     "output_type": "stream",
     "text": [
      "tensor([[15., 10.,  0.,  0.,  0.]])\n",
      "[1]\n"
     ]
    },
    {
     "data": {
      "text/plain": [
       "tensor([[0]])"
      ]
     },
     "execution_count": 12,
     "metadata": {},
     "output_type": "execute_result"
    }
   ],
   "source": [
    "print(x_test)\n",
    "print(y_test)\n",
    "\n",
    "model.predict_accumulated_goodness(x_test)"
   ]
  },
  {
   "cell_type": "code",
   "execution_count": 13,
   "metadata": {},
   "outputs": [
    {
     "name": "stdout",
     "output_type": "stream",
     "text": [
      "1.0\n"
     ]
    }
   ],
   "source": [
    "test_error = 1 - model.predict_accumulated_goodness(x_test).eq(torch.from_numpy(y_test)).float().mean().item() # heet dit accuracy?\n",
    "print(test_error)"
   ]
  },
  {
   "cell_type": "markdown",
   "metadata": {},
   "source": [
    "## Backpropegation"
   ]
  },
  {
   "cell_type": "code",
   "execution_count": 26,
   "metadata": {},
   "outputs": [],
   "source": [
    "def train(model, x, y, epochs, loss_function, optimizer, batch_size):\n",
    "    \n",
    "    model.train()\n",
    "    num_batches = len(x) // batch_size\n",
    "    \n",
    "    for epoch in range(epochs):\n",
    "        losses = []\n",
    "        for batch in tqdm(range(num_batches)):\n",
    "            start_idx = batch * batch_size\n",
    "            end_idx = start_idx + batch_size\n",
    "            \n",
    "            x_batch = x[start_idx:end_idx]\n",
    "            y_batch = y[start_idx:end_idx]\n",
    "            \n",
    "            predictions = model(x_batch)\n",
    "            loss = loss_function(predictions, y_batch)\n",
    "            losses.append(loss.item())\n",
    "            loss.backward()\n",
    "            optimizer.step()\n",
    "            optimizer.zero_grad()\n",
    "            \n",
    "        print(f\"epoch: {epoch + 1}/{epochs} avg. loss: {sum(losses)/len(losses)}\")"
   ]
  },
  {
   "cell_type": "code",
   "execution_count": 27,
   "metadata": {},
   "outputs": [],
   "source": [
    "def test(model, x_test, y_test, loss_function):\n",
    "    \n",
    "    model.eval()\n",
    "    \n",
    "    with torch.no_grad():\n",
    "        predictions = model(x_test)\n",
    "        test_loss = loss_function(predictions, y_test).item()\n",
    "        \n",
    "    print(f\"avg. test loss: {test_loss}\")   \n",
    "    \n",
    "def predict_action(model, x):\n",
    "    model.eval()\n",
    "    \n",
    "    with torch.no_grad():\n",
    "        predictions = model(x)\n",
    "        return predictions.argmax(1)"
   ]
  },
  {
   "cell_type": "code",
   "execution_count": 28,
   "metadata": {},
   "outputs": [],
   "source": [
    "from backpropNN import BackpropNN\n",
    "\n",
    "input_size = 5\n",
    "output_size = 4\n",
    "\n",
    "# hyperparameters\n",
    "hidden_size = 30\n",
    "activation_function = nn.ReLU()\n",
    "\n",
    "# fully connected neural network with 4 hidden layers\n",
    "backprop_model = BackpropNN(input_size, output_size, hidden_size, activation_function)"
   ]
  },
  {
   "cell_type": "code",
   "execution_count": 32,
   "metadata": {},
   "outputs": [
    {
     "name": "stderr",
     "output_type": "stream",
     "text": [
      "100%|██████████| 26/26 [00:00<00:00, 519.77it/s]\n"
     ]
    },
    {
     "name": "stdout",
     "output_type": "stream",
     "text": [
      "epoch: 1/10 avg. loss: 1.3648410806289086\n"
     ]
    },
    {
     "name": "stderr",
     "output_type": "stream",
     "text": [
      "100%|██████████| 26/26 [00:00<00:00, 806.64it/s]\n"
     ]
    },
    {
     "name": "stdout",
     "output_type": "stream",
     "text": [
      "epoch: 2/10 avg. loss: 1.268617909688216\n"
     ]
    },
    {
     "name": "stderr",
     "output_type": "stream",
     "text": [
      "100%|██████████| 26/26 [00:00<00:00, 812.50it/s]\n"
     ]
    },
    {
     "name": "stdout",
     "output_type": "stream",
     "text": [
      "epoch: 3/10 avg. loss: 1.1571954580453725\n"
     ]
    },
    {
     "name": "stderr",
     "output_type": "stream",
     "text": [
      "100%|██████████| 26/26 [00:00<00:00, 649.74it/s]\n"
     ]
    },
    {
     "name": "stdout",
     "output_type": "stream",
     "text": [
      "epoch: 4/10 avg. loss: 1.072003308397073\n"
     ]
    },
    {
     "name": "stderr",
     "output_type": "stream",
     "text": [
      "100%|██████████| 26/26 [00:00<00:00, 788.24it/s]\n"
     ]
    },
    {
     "name": "stdout",
     "output_type": "stream",
     "text": [
      "epoch: 5/10 avg. loss: 1.028952459876354\n"
     ]
    },
    {
     "name": "stderr",
     "output_type": "stream",
     "text": [
      "100%|██████████| 26/26 [00:00<00:00, 896.65it/s]\n"
     ]
    },
    {
     "name": "stdout",
     "output_type": "stream",
     "text": [
      "epoch: 6/10 avg. loss: 1.009978154530892\n"
     ]
    },
    {
     "name": "stderr",
     "output_type": "stream",
     "text": [
      "100%|██████████| 26/26 [00:00<00:00, 758.64it/s]\n"
     ]
    },
    {
     "name": "stdout",
     "output_type": "stream",
     "text": [
      "epoch: 7/10 avg. loss: 0.9906617953227117\n"
     ]
    },
    {
     "name": "stderr",
     "output_type": "stream",
     "text": [
      "100%|██████████| 26/26 [00:00<00:00, 684.24it/s]\n"
     ]
    },
    {
     "name": "stdout",
     "output_type": "stream",
     "text": [
      "epoch: 8/10 avg. loss: 0.970029585636579\n"
     ]
    },
    {
     "name": "stderr",
     "output_type": "stream",
     "text": [
      "100%|██████████| 26/26 [00:00<00:00, 837.89it/s]\n"
     ]
    },
    {
     "name": "stdout",
     "output_type": "stream",
     "text": [
      "epoch: 9/10 avg. loss: 0.9461542574258951\n"
     ]
    },
    {
     "name": "stderr",
     "output_type": "stream",
     "text": [
      "100%|██████████| 26/26 [00:00<00:00, 896.49it/s]\n"
     ]
    },
    {
     "name": "stdout",
     "output_type": "stream",
     "text": [
      "epoch: 10/10 avg. loss: 0.9243824871686789\n"
     ]
    }
   ],
   "source": [
    "# hyperparameters\n",
    "epochs = 100\n",
    "batch_size = 64\n",
    "learning_rate = 0.001\n",
    "\n",
    "optimizer = torch.optim.Adam(backprop_model.parameters(), lr=learning_rate);\n",
    "loss_fn = nn.CrossEntropyLoss()\n",
    "\n",
    "train(backprop_model, x_train, y_train_OH, epochs, loss_fn, optimizer, batch_size)"
   ]
  },
  {
   "cell_type": "code",
   "execution_count": 152,
   "metadata": {},
   "outputs": [
    {
     "name": "stdout",
     "output_type": "stream",
     "text": [
      "avg. test loss: 0.9507748484611511\n"
     ]
    }
   ],
   "source": [
    "test(backprop_model, x_test, y_test_OH, loss_fn)"
   ]
  },
  {
   "cell_type": "code",
   "execution_count": 153,
   "metadata": {},
   "outputs": [
    {
     "name": "stdout",
     "output_type": "stream",
     "text": [
      "tensor([0, 1, 1,  ..., 1, 0, 0])\n",
      "tensor([0, 0, 0,  ..., 0, 0, 0])\n",
      "0.5006591975688934\n"
     ]
    }
   ],
   "source": [
    "# print(torch.from_numpy(y_test))\n",
    "# print(predict_action(backprop_model, x_test))\n",
    "accuracy = 1 - predict_action(backprop_model, x_test).eq(torch.from_numpy(y_test)).float().mean().item() # heet dit accuracy?\n",
    "print(accuracy)"
   ]
  }
 ],
 "metadata": {
  "kernelspec": {
   "display_name": "Python 3",
   "language": "python",
   "name": "python3"
  },
  "language_info": {
   "codemirror_mode": {
    "name": "ipython",
    "version": 3
   },
   "file_extension": ".py",
   "mimetype": "text/x-python",
   "name": "python",
   "nbconvert_exporter": "python",
   "pygments_lexer": "ipython3",
   "version": "3.9.6"
  }
 },
 "nbformat": 4,
 "nbformat_minor": 2
}
