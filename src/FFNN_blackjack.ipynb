{
 "cells": [
  {
   "cell_type": "code",
   "execution_count": 4,
   "metadata": {},
   "outputs": [
    {
     "name": "stderr",
     "output_type": "stream",
     "text": [
      "c:\\Python39\\lib\\site-packages\\scipy\\__init__.py:146: UserWarning: A NumPy version >=1.16.5 and <1.23.0 is required for this version of SciPy (detected version 1.26.2\n",
      "  warnings.warn(f\"A NumPy version >={np_minversion} and <{np_maxversion}\"\n"
     ]
    },
    {
     "name": "stdout",
     "output_type": "stream",
     "text": [
      "using cpu\n"
     ]
    }
   ],
   "source": [
    "import pandas as pd\n",
    "import numpy as np\n",
    "from sklearn.model_selection import train_test_split\n",
    "from sklearn.metrics import ConfusionMatrixDisplay\n",
    "import torch\n",
    "import torch.nn as nn\n",
    "from tqdm import tqdm\n",
    "import csv\n",
    "import matplotlib.pyplot as plt\n",
    "import gymnasium as gym\n",
    "\n",
    "from FFNN import FFNN\n",
    "from blackjackenv_extended import BlackjackEnv\n",
    "\n",
    "from random_agent import RandomAgent\n",
    "from basic_strategy_agent import BasicStrategyAgent\n",
    "from backprop_agent import BackpropAgent\n",
    "from FFNN_agent import FFNNAgent\n",
    "from DQFFNN_BJ_agent import DQFFNNAgentBJ\n",
    "from DQFFNN_agent import DQFFNNAgent\n",
    "\n",
    "if torch.cuda.is_available():\n",
    "    device = torch.device('cuda')\n",
    "    print(\"using gpu: \", torch.cuda.get_device_name())\n",
    "else:\n",
    "    device = torch.device('cpu')\n",
    "    print(\"using cpu\")\n",
    "\n",
    "np.random.seed(43)"
   ]
  },
  {
   "cell_type": "markdown",
   "metadata": {},
   "source": [
    "## Blackjack"
   ]
  },
  {
   "cell_type": "code",
   "execution_count": 2,
   "metadata": {},
   "outputs": [],
   "source": [
    "env = BlackjackEnv(natural=True)\n",
    "\n",
    "episodes = 20\n",
    "collect_data = True"
   ]
  },
  {
   "cell_type": "code",
   "execution_count": 2,
   "metadata": {},
   "outputs": [],
   "source": [
    "KEY = {0: 'STAND', 1:'HIT', 2:'DOUBLE', 3: 'SPLIT'}\n",
    "\n",
    "def one_hot_encode(observation, n):\n",
    "    one_hot = np.zeros(n)\n",
    "    one_hot[observation] = 1\n",
    "    return one_hot\n",
    "\n",
    "def play_game(env, episodes, agent, collect_data=False, print_rewards=True, OH_encode=False):\n",
    "    rewards = []\n",
    "\n",
    "    for episode in tqdm(range(episodes)):\n",
    "        observation, info = env.reset()\n",
    "        done = False\n",
    "        \n",
    "        # print(f\"Episode: {episode+1}/{episodes}\")\n",
    "        # print(\"-\"*40)\n",
    "        # print(\"hand 1\", env.player)\n",
    "        # print(\"hand 2\", env.player2)\n",
    "        # print(\"Start Observation: \", observation)\n",
    "        \n",
    "        \n",
    "        while not done:\n",
    "            if OH_encode:\n",
    "                observation = one_hot_encode(observation, env.observation_space.n)\n",
    "            \n",
    "            action = agent.get_action(observation)\n",
    "            #print(\"Action: \", KEY[action])\n",
    "\n",
    "            # save data for training\n",
    "            if collect_data:\n",
    "                agent.collect_data(observation, action)\n",
    "            \n",
    "            next_observation, reward, terminated, truncated, info = env.step(action) \n",
    "            \n",
    "            if OH_encode:\n",
    "                agent.learn(observation, \n",
    "                            action, \n",
    "                            reward, \n",
    "                            one_hot_encode(next_observation, env.observation_space.n), \n",
    "                            terminated or truncated)\n",
    "            else:  \n",
    "                agent.learn(observation, action, reward, next_observation, terminated or truncated)\n",
    "            observation = next_observation\n",
    "            \n",
    "            # print(\"hand 1\", env.player)\n",
    "            # print(\"hand 2\", env.player2)\n",
    "            # print(\"Observation: \", observation, \"Reward: \", reward)\n",
    "            \n",
    "\n",
    "            if terminated or truncated:\n",
    "                # print(f\"Dealer hand: \", env.dealer)\n",
    "                rewards.append(reward)\n",
    "                observation = env.reset()\n",
    "                done = True\n",
    "        \n",
    "        agent.decay_epsilon()    \n",
    "\n",
    "    if collect_data:\n",
    "        agent.save_data()\n",
    "    \n",
    "    average_reward = sum(rewards)/episodes\n",
    "    variance = sum([((x - average_reward) ** 2) for x in rewards]) / (episodes - 1)\n",
    "\n",
    "    if print_rewards:\n",
    "        #print(\"Rewards: \", rewards)\n",
    "        print(\"Average Reward: \", average_reward)\n",
    "        print(\"Variance: \", variance)\n",
    "    \n",
    "    return rewards"
   ]
  },
  {
   "cell_type": "code",
   "execution_count": 3,
   "metadata": {},
   "outputs": [],
   "source": [
    "def plot_reward(data, title, filename, labels, plot_variance=False, rolling_length=1000):\n",
    "    data = np.array(data)\n",
    "    np.savetxt(f'../data/{filename}.csv', data.reshape(data.shape[0], -1), delimiter=',')\n",
    "    \n",
    "    _, ax = plt.subplots()\n",
    "    \n",
    "    rolling_mean = np.zeros((len(data), len(data[0]) - (rolling_length - 1))) \n",
    "    for i in range(len(data)):\n",
    "        rolling_mean[i] = (np.convolve(np.array(data[i]).flatten(), np.ones(rolling_length), mode=\"valid\")\n",
    "            / rolling_length)\n",
    "            \n",
    "    if plot_variance:\n",
    "        mean = rolling_mean.mean(axis=0)\n",
    "        variance = rolling_mean.var(axis=0)\n",
    "        upper_bound_sd = mean + np.sqrt(variance)\n",
    "        lower_bound_sd = mean - np.sqrt(variance)\n",
    "        plt.plot(mean, label='Mean', color='blue')\n",
    "        plt.fill_between(range(len(mean)),upper_bound_sd, lower_bound_sd, alpha=0.2, label='Standard Deviation')\n",
    "    else:\n",
    "        for i in range(len(data)):\n",
    "            ax.plot(rolling_mean[i], label=labels[i])\n",
    "\n",
    "    plt.ylabel(\"Reward\")\n",
    "    plt.xlabel(\"Episodes\")\n",
    "    plt.title(title)\n",
    "    plt.legend()\n",
    "    plt.savefig(f\"../data/{filename}.png\", dpi='figure', format=None)\n",
    "    plt.show()"
   ]
  },
  {
   "cell_type": "markdown",
   "metadata": {},
   "source": [
    "### Random & Basic Agents"
   ]
  },
  {
   "cell_type": "code",
   "execution_count": null,
   "metadata": {},
   "outputs": [],
   "source": [
    "agent = RandomAgent(env, filename=\"random_agent\")\n",
    "rewards_random = play_game(env, episodes, agent, collect_data)\n",
    "\n",
    "\n",
    "agent = BasicStrategyAgent(env, filename=\"basic_strategy_agent\")\n",
    "rewards_basic_strategy = play_game(env, episodes, agent, collect_data)\n",
    "plot_reward([rewards_random, rewards_basic_strategy], \"Random vs Basic Strategy Agent\", \"random_basic_strategy\", [\"Random Agent\", \"Basic Strategy Agent\"])"
   ]
  },
  {
   "cell_type": "markdown",
   "metadata": {},
   "source": [
    "## Data Generation"
   ]
  },
  {
   "cell_type": "markdown",
   "metadata": {},
   "source": [
    "### Simulated Data"
   ]
  },
  {
   "cell_type": "code",
   "execution_count": 16,
   "metadata": {},
   "outputs": [],
   "source": [
    "def read_data(file):\n",
    "    return pd.read_csv(file, delimiter=',')"
   ]
  },
  {
   "cell_type": "code",
   "execution_count": 17,
   "metadata": {},
   "outputs": [],
   "source": [
    "def split_data(data):\n",
    "    x = data[:, :5]\n",
    "    y = data[:, 5]\n",
    "    x_train, x_test, y_train, y_test = train_test_split(x, y, test_size=0.2, random_state=37)\n",
    "    return x_train, x_test, y_train, y_test\n",
    "\n",
    "def transform(data):\n",
    "    data = torch.tensor(data, dtype=torch.float32)\n",
    "    return data"
   ]
  },
  {
   "cell_type": "code",
   "execution_count": 18,
   "metadata": {},
   "outputs": [],
   "source": [
    "def preprocess(filename):\n",
    "    df_raw = read_data(filename)\n",
    "    print(df_raw.head())\n",
    "    d_raw = df_raw.to_numpy() # data to binary?\n",
    "    x, x_test, y, y_test = split_data(d_raw)\n",
    "    x, x_test = transform(x), transform(x_test)\n",
    "    \n",
    "    return x, x_test, y, y_test"
   ]
  },
  {
   "cell_type": "code",
   "execution_count": 19,
   "metadata": {},
   "outputs": [
    {
     "name": "stdout",
     "output_type": "stream",
     "text": [
      "   Player sum  Dealer card  Usable ace  Double down allowed  Split allowed  \\\n",
      "0          18            9           0                    1              0   \n",
      "1          15            5           0                    1              0   \n",
      "2          20            8           0                    1              1   \n",
      "3          11           10           0                    1              0   \n",
      "4          20            4           1                    1              0   \n",
      "\n",
      "   Action  \n",
      "0       0  \n",
      "1       0  \n",
      "2       0  \n",
      "3       2  \n",
      "4       0  \n"
     ]
    }
   ],
   "source": [
    "datafile = '../data/basic_strategy_agent.csv'\n",
    "x_train, x_test, y_train, y_test = preprocess(datafile)"
   ]
  },
  {
   "cell_type": "code",
   "execution_count": 20,
   "metadata": {},
   "outputs": [],
   "source": [
    "def one_hot_encode(y, n):\n",
    "    return torch.eye(n)[y]\n",
    "\n",
    "def combine_input_and_label(x, y, n):\n",
    "    y_one_hot = one_hot_encode(y, n)\n",
    "    return torch.concat((x, y_one_hot), 1)\n",
    "\n",
    "def generate_neg_labels(y, n):\n",
    "    y_ = y.copy()\n",
    "    for i in range(len(y)):\n",
    "        negative_labels = [j for j in range(n) if j != y[i]]\n",
    "        y_[i] = np.random.choice(negative_labels)\n",
    "\n",
    "    return y_"
   ]
  },
  {
   "cell_type": "code",
   "execution_count": 21,
   "metadata": {},
   "outputs": [
    {
     "name": "stdout",
     "output_type": "stream",
     "text": [
      "x_pos[0]: tensor([18.,  9.,  0.,  0.,  0.,  1.,  0.,  0.,  0.])\n",
      "x_neg[0]: tensor([18.,  9.,  0.,  0.,  0.,  0.,  0.,  1.,  0.])\n",
      "Train size: 22\n",
      "Test size: 6\n"
     ]
    }
   ],
   "source": [
    "x_pos = combine_input_and_label(x_train, y_train, 4)\n",
    "\n",
    "y_neg = generate_neg_labels(y_train, 4)\n",
    "x_neg = combine_input_and_label(x_train, y_neg, 4)\n",
    "\n",
    "y_train_OH = one_hot_encode(y_train, 4)\n",
    "y_test_OH = one_hot_encode(y_test, 4)\n",
    "\n",
    "print(f\"x_pos[0]: {x_pos[0]}\")\n",
    "print(f\"x_neg[0]: {x_neg[0]}\")\n",
    "print(f\"Train size: {len(x_train)}\")\n",
    "print(f\"Test size: {len(x_test)}\")"
   ]
  },
  {
   "cell_type": "markdown",
   "metadata": {},
   "source": [
    "### Balanced Data"
   ]
  },
  {
   "cell_type": "code",
   "execution_count": 22,
   "metadata": {},
   "outputs": [],
   "source": [
    "env = BlackjackEnv(natural=True)\n",
    "basic_strategy_agent = BasicStrategyAgent(env, filename='../data/blackjack_combinations')\n",
    "\n",
    "def create_combinations():\n",
    "    for player_hand in range(4, 22):\n",
    "        for dealer_hand in range(2, 12):\n",
    "            for usable_ace in range(2):\n",
    "                for can_double_down in range(2):\n",
    "                    for can_split in range(2):\n",
    "                        observation = (player_hand, dealer_hand, usable_ace, can_double_down, can_split)\n",
    "                        if (dealer_hand == 11 and usable_ace) == 1:\n",
    "                            # impossible combination    \n",
    "                            continue\n",
    "                        action = basic_strategy_agent.get_action(observation)\n",
    "                        basic_strategy_agent.collect_data(observation, action)\n",
    "    \n",
    "    basic_strategy_agent.save_data()\n",
    "                        \n",
    "            \n",
    "def get_combinations_for_action(action):\n",
    "    samples = []\n",
    "    with open('../data/blackjack_combinations.csv', 'r') as file:\n",
    "        reader = csv.reader(file)\n",
    "        next(reader)\n",
    "        for row in reader:\n",
    "            if int(row[-1]) == action:\n",
    "                samples.append(row)\n",
    "    return samples\n",
    "\n",
    "def sample_balanced_data(n_samples):\n",
    "    data = []\n",
    "    combinations = np.empty(4, dtype=object)\n",
    "    \n",
    "    for action in range(4):\n",
    "        combinations[action] = get_combinations_for_action(action)\n",
    "        \n",
    "        for i in range(n_samples):\n",
    "            sample_idx = np.random.choice(len(combinations[action]))\n",
    "            data.append(combinations[action][sample_idx])\n",
    "\n",
    "    with open('../data/balanced_data.csv', 'w', newline='') as file:\n",
    "        writer = csv.writer(file)\n",
    "        \n",
    "        writer.writerow([\"Player sum\", \"Dealer card\", \"Usable ace\", \"Double down allowed\", \"Split allowed\", \"Action\"])\n",
    "        writer.writerows(data)"
   ]
  },
  {
   "cell_type": "code",
   "execution_count": 23,
   "metadata": {},
   "outputs": [],
   "source": [
    "create_combinations()\n",
    "samples_per_action = 30_000\n",
    "sample_balanced_data(samples_per_action)"
   ]
  },
  {
   "cell_type": "code",
   "execution_count": 24,
   "metadata": {},
   "outputs": [
    {
     "name": "stdout",
     "output_type": "stream",
     "text": [
      "   Player sum  Dealer card  Usable ace  Double down allowed  Split allowed  \\\n",
      "0          19            8           1                    1              0   \n",
      "1          20            2           0                    1              1   \n",
      "2          20           10           1                    0              1   \n",
      "3          19            9           0                    1              1   \n",
      "4          20            3           0                    1              0   \n",
      "\n",
      "   Action  \n",
      "0       0  \n",
      "1       0  \n",
      "2       0  \n",
      "3       0  \n",
      "4       0  \n",
      "x_pos[0]: tensor([14.,  2.,  1.,  1.,  0.,  0.,  1.,  0.,  0.])\n",
      "x_neg[0]: tensor([14.,  2.,  1.,  1.,  0.,  0.,  0.,  1.,  0.])\n",
      "Train size: 96000\n",
      "Test size: 24000\n"
     ]
    }
   ],
   "source": [
    "datafile = '../data/balanced_data.csv'\n",
    "x_train_bal, x_test_bal, y_train_bal, y_test_bal = preprocess(datafile)\n",
    "\n",
    "x_pos_bal = combine_input_and_label(x_train_bal, y_train_bal, 4)\n",
    "\n",
    "y_neg_bal = generate_neg_labels(y_train_bal, 4)\n",
    "x_neg_bal = combine_input_and_label(x_train_bal, y_neg_bal, 4)\n",
    "\n",
    "y_train_OH_bal = one_hot_encode(y_train_bal, 4)\n",
    "y_test_OH_bal = one_hot_encode(y_test_bal, 4)\n",
    "\n",
    "\n",
    "print(f\"x_pos[0]: {x_pos_bal[0]}\")\n",
    "print(f\"x_neg[0]: {x_neg_bal[0]}\")\n",
    "print(f\"Train size: {len(x_train_bal)}\")\n",
    "print(f\"Test size: {len(x_test_bal)}\")"
   ]
  },
  {
   "cell_type": "markdown",
   "metadata": {},
   "source": [
    "## Forward-Forward"
   ]
  },
  {
   "cell_type": "code",
   "execution_count": 9,
   "metadata": {},
   "outputs": [],
   "source": [
    "def print_accuracy(model_predictions, y):\n",
    "    predictions = np.array(torch.Tensor.cpu(model_predictions)).flatten()\n",
    "    accuracy =  model_predictions.eq(torch.from_numpy(y).to(device)).float().mean().item()\n",
    "    \n",
    "    print(y)\n",
    "    print(predictions)\n",
    "    print(f'Accuracy: {accuracy}')\n",
    "\n",
    "    ConfusionMatrixDisplay.from_predictions(y, predictions)\n",
    "    \n",
    "def plot_losses(data, title, filename):\n",
    "    np.savetxt(f'../data/{filename}_losses.csv', data, delimiter=',')\n",
    "\n",
    "    plt.plot(np.array(data))\n",
    "\n",
    "    plt.ylabel(\"Loss\")\n",
    "    plt.xlabel(\"Epochs\")\n",
    "    plt.title(title)\n",
    "    plt.savefig(f\"../data/{filename}_losses.png\", dpi='figure', format=None)\n",
    "    plt.show()"
   ]
  },
  {
   "cell_type": "markdown",
   "metadata": {},
   "source": [
    "### Balanced Data FFNN"
   ]
  },
  {
   "cell_type": "code",
   "execution_count": 25,
   "metadata": {},
   "outputs": [],
   "source": [
    "# Hyperparameters\n",
    "layers = [9, 2000, 2000, 2000, 2000]\n",
    "threshold = 0.5 # 6?\n",
    "learning_rate = 0.001\n",
    "epochs = 120\n",
    "batch_size = 64\n",
    "lr_decay = False\n",
    "\n",
    "model = FFNN(\n",
    "    device=device,\n",
    "    layers=layers,\n",
    "    threshold=threshold,\n",
    "    learning_rate=learning_rate,\n",
    "    epochs=epochs,\n",
    "    batch_size=batch_size,\n",
    "    lr_decay=lr_decay,\n",
    "    ).to(device)\n"
   ]
  },
  {
   "cell_type": "code",
   "execution_count": null,
   "metadata": {},
   "outputs": [],
   "source": [
    "last_layer_losses = model.train(x_pos_bal, x_neg_bal)\n",
    "model.save_model('../models/model_balanced.pth')"
   ]
  },
  {
   "cell_type": "code",
   "execution_count": null,
   "metadata": {},
   "outputs": [
    {
     "name": "stdout",
     "output_type": "stream",
     "text": [
      "Accuracy: 0.7909356951713562\n"
     ]
    },
    {
     "data": {
      "text/plain": [
       "<sklearn.metrics._plot.confusion_matrix.ConfusionMatrixDisplay at 0x17d8db17af0>"
      ]
     },
     "metadata": {},
     "output_type": "display_data"
    },
    {
     "data": {
      "image/png": "[encoded data removed]",
      "text/plain": [
       "<Figure size 640x480 with 2 Axes>"
      ]
     },
     "metadata": {},
     "output_type": "display_data"
    }
   ],
   "source": [
    "plot_losses(last_layer_losses, \"Training Loss Last Layer Balanced Model\", \"model_balanced\")\n",
    "print_accuracy(model.predict_accumulated_goodness(x_test_bal), y_test_bal)"
   ]
  },
  {
   "cell_type": "markdown",
   "metadata": {},
   "source": [
    "### FFNN"
   ]
  },
  {
   "cell_type": "code",
   "execution_count": 8,
   "metadata": {},
   "outputs": [],
   "source": [
    "def cross_validation(x_pos, x_neg,architectures, thresholds, learning_rates, n_epochs, n_folds, batch_sizes, lr_decays):\n",
    "    \n",
    "    size_subset = len(x_pos) // n_folds\n",
    "    validation_risks = []\n",
    "    \n",
    "    for architecture in tqdm(architectures):\n",
    "        for threshold in thresholds:\n",
    "            for lr in learning_rates:\n",
    "                for batch_size in batch_sizes:\n",
    "                    for lr_decay in lr_decays:\n",
    "                        #print(\"-\"*40)\n",
    "                        print(f\"Current Model:{architecture}, thr={threshold}, lr={lr}, batch_size={batch_size}, lr_decay={lr_decay}\")\n",
    "                        val_risks_model = []\n",
    "                        \n",
    "                        for fold in range(n_folds):\n",
    "                            #print(f\"Fold {fold}\")\n",
    "                            #print(\"-\"*40)\n",
    "                            \n",
    "                            # Split data into training and validation\n",
    "                            start_idx = fold * size_subset\n",
    "                            end_idx = (fold + 1) * size_subset\n",
    "                            x_pos_train = torch.cat((x_pos[:start_idx], x_pos[end_idx:]))\n",
    "                            x_neg_train = torch.cat((x_neg[:start_idx], x_neg[end_idx:]))\n",
    "                            x_val = x_train[start_idx:end_idx]\n",
    "                            y_val = y_train[start_idx:end_idx]\n",
    "                            \n",
    "                            # Initialize current model\n",
    "                            model = FFNN(\n",
    "                                device=device,\n",
    "                                layers=architecture,\n",
    "                                bias=True,\n",
    "                                threshold=threshold,\n",
    "                                learning_rate=lr,\n",
    "                                epochs=n_epochs,\n",
    "                                batch_size=batch_size,\n",
    "                                lr_decay=lr_decay,\n",
    "                                verbose=False\n",
    "                            ).to(device)\n",
    "                            \n",
    "                            # Train model\n",
    "                            model.train(x_pos_train, x_neg_train)\n",
    "                            \n",
    "                            # Compute validation risk\n",
    "                            predictions = model.predict_accumulated_goodness(x_val) # juiste risk?\n",
    "                            val_risk = 1 - predictions.eq(torch.from_numpy(y_val).to(device)).float().mean().item()\n",
    "                            val_risks_model.append(val_risk)\n",
    "                            \n",
    "                            #print(f\"\\n validation risk: {val_risk}\")\n",
    "                            \n",
    "                        avg_val_risk = np.mean(val_risks_model)\n",
    "                        validation_risks.append((architecture, threshold, lr, batch_size, lr_decay, avg_val_risk ))\n",
    "                        #model.save_model(f'../models/model_{architecture}_{threshold}_{lr}_{avg_val_risk}.pth')\n",
    "                        \n",
    "                        with open('../data/cxv_results.csv', 'a', newline='') as file:\n",
    "                            writer = csv.writer(file)\n",
    "                            writer.writerow([architecture, threshold, lr, batch_size, lr_decay, avg_val_risk])\n",
    "                            \n",
    "                        #print(f\"validation risks for model {architecture}, thr={threshold}, lr={lr}: {val_risks_model}\")\n",
    "                        print(f\"average validation risk: {avg_val_risk}\")\n",
    "                        print(\"-\"*40)\n",
    "    \n",
    "    print(\"total validation risks:\" , validation_risks)  \n",
    "    min_risk_model = min(validation_risks, key=lambda x: x[-1])\n",
    "    print(f\"Best model: {min_risk_model}\")   \n",
    "    return min_risk_model               "
   ]
  },
  {
   "cell_type": "code",
   "execution_count": null,
   "metadata": {},
   "outputs": [],
   "source": [
    "# Hyperparameters\n",
    "architectures = [\n",
    "    [9,30,30],\n",
    "    [9,100,100],\n",
    "    [9,500,500],\n",
    "    [9,100,100,100],\n",
    "    [9,200,200,200],\n",
    "    [9,1000,1000,1000],\n",
    "    [9,2000,2000,2000,2000],\n",
    "]\n",
    "thresholds = [0.3, 0.4, 0.5, 0.6, 0.7, 0.8, 1, 3, 5, 7]\n",
    "learning_rates = [0.0001,0.001,0.01,0.03]\n",
    "n_epochs = 240\n",
    "n_folds = 10\n",
    "batch_sizes = [32, 64, 500, len(x_train)]\n",
    "lr_decays = [0, 1]\n",
    "\n",
    "best_model = cross_validation(\n",
    "    x_pos, \n",
    "    x_neg, \n",
    "    architectures,\n",
    "    thresholds,\n",
    "    learning_rates,\n",
    "    n_epochs,\n",
    "    n_folds,\n",
    "    batch_sizes,\n",
    "    lr_decays\n",
    ")"
   ]
  },
  {
   "cell_type": "code",
   "execution_count": 18,
   "metadata": {},
   "outputs": [
    {
     "name": "stdout",
     "output_type": "stream",
     "text": [
      "Best model: [9, 30, 30], thr=0.3, lr=0.0001, batch_size=22, lr_decay=1\n"
     ]
    }
   ],
   "source": [
    "# Best model hyperparameters\n",
    "architecture_best = best_model[0]\n",
    "threshold_best = best_model[1]\n",
    "learning_rate_best = best_model[2]\n",
    "epochs = 1000 # of 240?\n",
    "batch_size = best_model[3]\n",
    "lr_decay = best_model[4]\n",
    "\n",
    "print(f\"Best model: {architecture_best}, thr={threshold_best}, lr={learning_rate_best}, batch_size={batch_size}, lr_decay={lr_decay}\")\n",
    "\n",
    "model = FFNN(\n",
    "    device=device,\n",
    "    layers=architecture_best,\n",
    "    threshold=threshold_best,\n",
    "    learning_rate=learning_rate_best,\n",
    "    epochs=epochs,\n",
    "    batch_size=batch_size,\n",
    "    lr_decay=lr_decay\n",
    ").to(device)"
   ]
  },
  {
   "cell_type": "code",
   "execution_count": 19,
   "metadata": {},
   "outputs": [
    {
     "name": "stderr",
     "output_type": "stream",
     "text": [
      "100%|██████████| 1000/1000 [00:01<00:00, 719.37it/s]\n",
      "100%|██████████| 1000/1000 [00:01<00:00, 717.59it/s]\n"
     ]
    }
   ],
   "source": [
    "last_layer_losses = model.train(x_pos, x_neg)\n",
    "model.save_model('../models/best_model.pth')"
   ]
  },
  {
   "cell_type": "code",
   "execution_count": 20,
   "metadata": {},
   "outputs": [
    {
     "data": {
      "image/png": "[encoded data removed]",
      "text/plain": [
       "<Figure size 640x480 with 1 Axes>"
      ]
     },
     "metadata": {},
     "output_type": "display_data"
    },
    {
     "name": "stdout",
     "output_type": "stream",
     "text": [
      "[0 0 0 0 0 0]\n",
      "[0 0 0 0 0 0]\n",
      "Accuracy: 1.0\n"
     ]
    },
    {
     "data": {
      "image/png": "[encoded data removed]",
      "text/plain": [
       "<Figure size 640x480 with 2 Axes>"
      ]
     },
     "metadata": {},
     "output_type": "display_data"
    }
   ],
   "source": [
    "print_accuracy(model.predict_accumulated_goodness(x_test), y_test)\n",
    "plot_losses(last_layer_losses, \"Training Loss Last Layer Best Model\", \"best_model\")\n"
   ]
  },
  {
   "cell_type": "markdown",
   "metadata": {},
   "source": [
    "### FFNN with Softmax Classifier"
   ]
  },
  {
   "cell_type": "code",
   "execution_count": 21,
   "metadata": {},
   "outputs": [],
   "source": [
    "architecture_best = best_model[0]\n",
    "threshold_best = best_model[1]\n",
    "learning_rate_best = best_model[2]\n",
    "batch_size = best_model[3]\n",
    "lr_decay = best_model[4]\n",
    "\n",
    "# Create equal model with classifier\n",
    "model = FFNN(\n",
    "    device=device,\n",
    "    layers=architecture_best,\n",
    "    threshold=threshold_best,\n",
    "    learning_rate=learning_rate_best,\n",
    "    epochs=epochs,\n",
    "    batch_size=batch_size,\n",
    "    lr_decay=lr_decay,\n",
    "    classifier=True\n",
    ").to(device)\n",
    "\n",
    "model.load_model('../models/best_model.pth')"
   ]
  },
  {
   "cell_type": "code",
   "execution_count": 22,
   "metadata": {},
   "outputs": [
    {
     "name": "stdout",
     "output_type": "stream",
     "text": [
      "\n",
      "Training Softmax\n",
      "----------------------------------------\n"
     ]
    },
    {
     "name": "stderr",
     "output_type": "stream",
     "text": [
      "100%|██████████| 120/120 [00:00<00:00, 421.63it/s]"
     ]
    },
    {
     "name": "stdout",
     "output_type": "stream",
     "text": [
      "Last epoch loss: 1.4525036811828613\n"
     ]
    },
    {
     "name": "stderr",
     "output_type": "stream",
     "text": [
      "\n"
     ]
    }
   ],
   "source": [
    "classifier_layer_loss = model.train_classifier(x_train, y_train_OH, epochs)\n",
    "torch.save(model.classifier.state_dict(), '../models/softmax_model_classifier.pth')"
   ]
  },
  {
   "cell_type": "code",
   "execution_count": 24,
   "metadata": {},
   "outputs": [
    {
     "name": "stdout",
     "output_type": "stream",
     "text": [
      "[0 0 0 0 0 0]\n",
      "[1 1 1 1 1 1]\n",
      "Accuracy: 0.0\n"
     ]
    },
    {
     "data": {
      "image/png": "[encoded data removed]",
      "text/plain": [
       "<Figure size 640x480 with 2 Axes>"
      ]
     },
     "metadata": {},
     "output_type": "display_data"
    }
   ],
   "source": [
    "plot_losses(classifier_layer_loss, \"Training Loss Classifier\", \"classifier\")\n",
    "print_accuracy(model.predict_classifier(x_test),y_test)"
   ]
  },
  {
   "cell_type": "code",
   "execution_count": null,
   "metadata": {},
   "outputs": [
    {
     "name": "stdout",
     "output_type": "stream",
     "text": [
      "Best model: [9, 100, 100, 100], thr=0.5, lr=0.03\n",
      "\n",
      "Training Layer: 1\n",
      "----------------------------------------\n"
     ]
    },
    {
     "name": "stderr",
     "output_type": "stream",
     "text": [
      "100%|██████████| 500/500 [00:10<00:00, 47.17it/s]\n"
     ]
    },
    {
     "name": "stdout",
     "output_type": "stream",
     "text": [
      "\n",
      "Training Layer: 2\n",
      "----------------------------------------\n"
     ]
    },
    {
     "name": "stderr",
     "output_type": "stream",
     "text": [
      "100%|██████████| 500/500 [00:08<00:00, 59.46it/s]\n"
     ]
    },
    {
     "name": "stdout",
     "output_type": "stream",
     "text": [
      "\n",
      "Training Layer: 3\n",
      "----------------------------------------\n"
     ]
    },
    {
     "name": "stderr",
     "output_type": "stream",
     "text": [
      "100%|██████████| 500/500 [00:08<00:00, 59.07it/s]\n"
     ]
    },
    {
     "name": "stdout",
     "output_type": "stream",
     "text": [
      "\n",
      "Training Softmax\n",
      "----------------------------------------\n"
     ]
    },
    {
     "name": "stderr",
     "output_type": "stream",
     "text": [
      "100%|██████████| 500/500 [00:04<00:00, 112.71it/s]"
     ]
    },
    {
     "name": "stdout",
     "output_type": "stream",
     "text": [
      "Last epoch loss: 0.8680144197900187\n"
     ]
    },
    {
     "name": "stderr",
     "output_type": "stream",
     "text": [
      "\n"
     ]
    }
   ],
   "source": [
    "# testing!\n",
    "\n",
    "# Best model hyperparameters\n",
    "architecture_best = [9,100,100,100]\n",
    "threshold_best = 0.5\n",
    "learning_rate_best = 0.03\n",
    "epochs = 500\n",
    "batch_size = 1\n",
    "lr_decay = False\n",
    "\n",
    "print(f\"Best model: {architecture_best}, thr={threshold_best}, lr={learning_rate_best}\")\n",
    "\n",
    "model = FFNN(\n",
    "    device=device,\n",
    "    layers=architecture_best,\n",
    "    threshold=threshold_best,\n",
    "    learning_rate=learning_rate_best,\n",
    "    epochs=epochs,\n",
    "    batch_size=batch_size,\n",
    "    lr_decay=lr_decay,\n",
    "    classifier=True\n",
    ").to(device)\n",
    "\n",
    "model.train(x_pos, x_neg)\n",
    "classifier_layer_loss = model.train_classifier(x_train, y_train_OH, epochs, batch_size=1)\n",
    "model.save_model('../models/softmax_model.pth')\n",
    "torch.save(model.classifier.state_dict(), '../models/softmax_model_classifier.pth')"
   ]
  },
  {
   "cell_type": "code",
   "execution_count": 19,
   "metadata": {},
   "outputs": [
    {
     "data": {
      "image/png": "[encoded data removed]",
      "text/plain": [
       "<Figure size 640x480 with 1 Axes>"
      ]
     },
     "metadata": {},
     "output_type": "display_data"
    },
    {
     "name": "stdout",
     "output_type": "stream",
     "text": [
      "[0 0 0 0 1 0 0 0 1 0 1 3 1 1 0 1 2 0 0 0 1 1]\n",
      "[0 0 0 0 0 0 0 0 0 0 0 0 0 0 0 0 0 0 0 0 0 0]\n",
      "Accuracy: 0.5454545617103577\n"
     ]
    },
    {
     "data": {
      "image/png": "[encoded data removed]",
      "text/plain": [
       "<Figure size 640x480 with 2 Axes>"
      ]
     },
     "metadata": {},
     "output_type": "display_data"
    }
   ],
   "source": [
    "plot_losses(classifier_layer_loss, \"Training Loss Classifier\", \"classifier\")\n",
    "print_accuracy(model.predict_classifier(x_train.to(device)),y_train)"
   ]
  },
  {
   "cell_type": "markdown",
   "metadata": {},
   "source": [
    "## Backpropagation"
   ]
  },
  {
   "cell_type": "code",
   "execution_count": 25,
   "metadata": {},
   "outputs": [],
   "source": [
    "def train(model, x, y, epochs, loss_function, optimizer, batch_size):\n",
    "    \n",
    "    model.train()\n",
    "    num_batches = len(x) // batch_size\n",
    "    \n",
    "    for epoch in range(epochs):\n",
    "        losses = []\n",
    "        for batch in range(num_batches):\n",
    "            start_idx = batch * batch_size\n",
    "            end_idx = start_idx + batch_size\n",
    "            \n",
    "            x_batch = x[start_idx:end_idx]\n",
    "            y_batch = y[start_idx:end_idx]\n",
    "            \n",
    "            predictions = model(x_batch)\n",
    "            loss = loss_function(predictions, y_batch)\n",
    "            losses.append(loss.item())\n",
    "            loss.backward()\n",
    "            optimizer.step()\n",
    "            optimizer.zero_grad()\n",
    "            \n",
    "        print(f\"epoch: {epoch + 1}/{epochs} avg. loss: {sum(losses)/len(losses)}\")"
   ]
  },
  {
   "cell_type": "code",
   "execution_count": 26,
   "metadata": {},
   "outputs": [],
   "source": [
    "def test(model, x_test, y_test, loss_function):\n",
    "    \n",
    "    model.eval()\n",
    "    \n",
    "    with torch.no_grad():\n",
    "        predictions = model(x_test)\n",
    "        test_loss = loss_function(predictions, y_test).item()\n",
    "        \n",
    "    print(f\"avg. test loss: {test_loss}\")   \n",
    "    \n",
    "def predict_actions(model, x):\n",
    "    model.eval()\n",
    "    \n",
    "    with torch.no_grad():\n",
    "        predictions = model(x)\n",
    "        return predictions.argmax(1)"
   ]
  },
  {
   "cell_type": "code",
   "execution_count": 27,
   "metadata": {},
   "outputs": [],
   "source": [
    "from backpropNN import BackpropNN\n",
    "\n",
    "input_size = 5\n",
    "output_size = 4\n",
    "\n",
    "# hyperparameters\n",
    "hidden_size = 30\n",
    "activation_function = nn.ReLU()\n",
    "\n",
    "# fully connected neural network with 4 hidden layers\n",
    "backprop_model = BackpropNN(input_size, output_size, hidden_size, activation_function)"
   ]
  },
  {
   "cell_type": "code",
   "execution_count": 29,
   "metadata": {},
   "outputs": [
    {
     "name": "stdout",
     "output_type": "stream",
     "text": [
      "epoch: 1/100 avg. loss: 1.3811665773391724\n",
      "epoch: 2/100 avg. loss: 1.357580542564392\n",
      "epoch: 3/100 avg. loss: 1.334404468536377\n",
      "epoch: 4/100 avg. loss: 1.311065435409546\n",
      "epoch: 5/100 avg. loss: 1.2879376411437988\n",
      "epoch: 6/100 avg. loss: 1.26528799533844\n",
      "epoch: 7/100 avg. loss: 1.2429842948913574\n",
      "epoch: 8/100 avg. loss: 1.2205528020858765\n",
      "epoch: 9/100 avg. loss: 1.1978294849395752\n",
      "epoch: 10/100 avg. loss: 1.1748849153518677\n",
      "epoch: 11/100 avg. loss: 1.1524611711502075\n",
      "epoch: 12/100 avg. loss: 1.1310367584228516\n",
      "epoch: 13/100 avg. loss: 1.110477328300476\n",
      "epoch: 14/100 avg. loss: 1.0900460481643677\n",
      "epoch: 15/100 avg. loss: 1.0695176124572754\n",
      "epoch: 16/100 avg. loss: 1.0487796068191528\n",
      "epoch: 17/100 avg. loss: 1.0281648635864258\n",
      "epoch: 18/100 avg. loss: 1.0079175233840942\n",
      "epoch: 19/100 avg. loss: 0.9884127974510193\n",
      "epoch: 20/100 avg. loss: 0.9698008894920349\n",
      "epoch: 21/100 avg. loss: 0.9519705176353455\n",
      "epoch: 22/100 avg. loss: 0.9350654482841492\n",
      "epoch: 23/100 avg. loss: 0.9194095730781555\n",
      "epoch: 24/100 avg. loss: 0.9049276113510132\n",
      "epoch: 25/100 avg. loss: 0.8911256790161133\n",
      "epoch: 26/100 avg. loss: 0.8782206177711487\n",
      "epoch: 27/100 avg. loss: 0.8666576743125916\n",
      "epoch: 28/100 avg. loss: 0.8567408919334412\n",
      "epoch: 29/100 avg. loss: 0.8481756448745728\n",
      "epoch: 30/100 avg. loss: 0.8406491875648499\n",
      "epoch: 31/100 avg. loss: 0.8343096375465393\n",
      "epoch: 32/100 avg. loss: 0.8286166787147522\n",
      "epoch: 33/100 avg. loss: 0.8232322931289673\n",
      "epoch: 34/100 avg. loss: 0.8178808689117432\n",
      "epoch: 35/100 avg. loss: 0.8125455975532532\n",
      "epoch: 36/100 avg. loss: 0.8067871332168579\n",
      "epoch: 37/100 avg. loss: 0.8005642294883728\n",
      "epoch: 38/100 avg. loss: 0.7937565445899963\n",
      "epoch: 39/100 avg. loss: 0.7860057353973389\n",
      "epoch: 40/100 avg. loss: 0.7776387929916382\n",
      "epoch: 41/100 avg. loss: 0.7689153552055359\n",
      "epoch: 42/100 avg. loss: 0.7598870992660522\n",
      "epoch: 43/100 avg. loss: 0.7507827281951904\n",
      "epoch: 44/100 avg. loss: 0.7416500449180603\n",
      "epoch: 45/100 avg. loss: 0.7323951721191406\n",
      "epoch: 46/100 avg. loss: 0.7228571176528931\n",
      "epoch: 47/100 avg. loss: 0.7132209539413452\n",
      "epoch: 48/100 avg. loss: 0.7035108208656311\n",
      "epoch: 49/100 avg. loss: 0.6938685774803162\n",
      "epoch: 50/100 avg. loss: 0.6842516660690308\n",
      "epoch: 51/100 avg. loss: 0.6745161414146423\n",
      "epoch: 52/100 avg. loss: 0.6647905111312866\n",
      "epoch: 53/100 avg. loss: 0.6552067399024963\n",
      "epoch: 54/100 avg. loss: 0.645622968673706\n",
      "epoch: 55/100 avg. loss: 0.6360464692115784\n",
      "epoch: 56/100 avg. loss: 0.6266672611236572\n",
      "epoch: 57/100 avg. loss: 0.6177234649658203\n",
      "epoch: 58/100 avg. loss: 0.6092604398727417\n",
      "epoch: 59/100 avg. loss: 0.6008055210113525\n",
      "epoch: 60/100 avg. loss: 0.5927712917327881\n",
      "epoch: 61/100 avg. loss: 0.5852177143096924\n",
      "epoch: 62/100 avg. loss: 0.5784282684326172\n",
      "epoch: 63/100 avg. loss: 0.572063148021698\n",
      "epoch: 64/100 avg. loss: 0.5659837126731873\n",
      "epoch: 65/100 avg. loss: 0.560414731502533\n",
      "epoch: 66/100 avg. loss: 0.5553556680679321\n",
      "epoch: 67/100 avg. loss: 0.5504787564277649\n",
      "epoch: 68/100 avg. loss: 0.5457141995429993\n",
      "epoch: 69/100 avg. loss: 0.5412687659263611\n",
      "epoch: 70/100 avg. loss: 0.537014901638031\n",
      "epoch: 71/100 avg. loss: 0.5329430103302002\n",
      "epoch: 72/100 avg. loss: 0.52902752161026\n",
      "epoch: 73/100 avg. loss: 0.5253417491912842\n",
      "epoch: 74/100 avg. loss: 0.5217345952987671\n",
      "epoch: 75/100 avg. loss: 0.5182098746299744\n",
      "epoch: 76/100 avg. loss: 0.5146689414978027\n",
      "epoch: 77/100 avg. loss: 0.5110597610473633\n",
      "epoch: 78/100 avg. loss: 0.5077323317527771\n",
      "epoch: 79/100 avg. loss: 0.5045101642608643\n",
      "epoch: 80/100 avg. loss: 0.501359224319458\n",
      "epoch: 81/100 avg. loss: 0.49832114577293396\n",
      "epoch: 82/100 avg. loss: 0.49532070755958557\n",
      "epoch: 83/100 avg. loss: 0.4924127459526062\n",
      "epoch: 84/100 avg. loss: 0.48957374691963196\n",
      "epoch: 85/100 avg. loss: 0.4868798553943634\n",
      "epoch: 86/100 avg. loss: 0.48426124453544617\n",
      "epoch: 87/100 avg. loss: 0.4816870391368866\n",
      "epoch: 88/100 avg. loss: 0.47924840450286865\n",
      "epoch: 89/100 avg. loss: 0.476763516664505\n",
      "epoch: 90/100 avg. loss: 0.47429248690605164\n",
      "epoch: 91/100 avg. loss: 0.4718269109725952\n",
      "epoch: 92/100 avg. loss: 0.4694444537162781\n",
      "epoch: 93/100 avg. loss: 0.4670370817184448\n",
      "epoch: 94/100 avg. loss: 0.46472853422164917\n",
      "epoch: 95/100 avg. loss: 0.46245077252388\n",
      "epoch: 96/100 avg. loss: 0.46027421951293945\n",
      "epoch: 97/100 avg. loss: 0.4581312835216522\n",
      "epoch: 98/100 avg. loss: 0.45600301027297974\n",
      "epoch: 99/100 avg. loss: 0.45384207367897034\n",
      "epoch: 100/100 avg. loss: 0.45182082056999207\n"
     ]
    }
   ],
   "source": [
    "# hyperparameters\n",
    "epochs = 100\n",
    "batch_size = 64\n",
    "learning_rate = 0.001\n",
    "\n",
    "optimizer = torch.optim.Adam(backprop_model.parameters(), lr=learning_rate);\n",
    "loss_fn = nn.CrossEntropyLoss()\n",
    "\n",
    "train(backprop_model, x_train, y_train_OH, epochs, loss_fn, optimizer, batch_size)\n",
    "torch.save(backprop_model.state_dict(), '../models/backprop_model.pth')"
   ]
  },
  {
   "cell_type": "code",
   "execution_count": 30,
   "metadata": {},
   "outputs": [
    {
     "name": "stdout",
     "output_type": "stream",
     "text": [
      "avg. test loss: 0.047363728284835815\n"
     ]
    }
   ],
   "source": [
    "test(backprop_model, x_test, y_test_OH, loss_fn)"
   ]
  },
  {
   "cell_type": "code",
   "execution_count": 31,
   "metadata": {},
   "outputs": [
    {
     "name": "stdout",
     "output_type": "stream",
     "text": [
      "1.0\n"
     ]
    }
   ],
   "source": [
    "# print(torch.from_numpy(y_test))\n",
    "# print(predict_action(backprop_model, x_test))\n",
    "accuracy = predict_actions(backprop_model, x_test).eq(torch.from_numpy(y_test)).float().mean().item() # heet dit accuracy?\n",
    "print(accuracy)"
   ]
  },
  {
   "cell_type": "markdown",
   "metadata": {},
   "source": [
    "## FFNN Blackjack"
   ]
  },
  {
   "cell_type": "markdown",
   "metadata": {},
   "source": [
    "### FFNN & Backpropagation"
   ]
  },
  {
   "cell_type": "code",
   "execution_count": 32,
   "metadata": {},
   "outputs": [
    {
     "name": "stderr",
     "output_type": "stream",
     "text": [
      "100%|██████████| 20/20 [00:00<00:00, 356.21it/s]"
     ]
    },
    {
     "name": "stdout",
     "output_type": "stream",
     "text": [
      "Average Reward:  -0.25\n",
      "Variance:  0.8289473684210527\n"
     ]
    },
    {
     "name": "stderr",
     "output_type": "stream",
     "text": [
      "\n"
     ]
    },
    {
     "ename": "ValueError",
     "evalue": "negative dimensions are not allowed",
     "output_type": "error",
     "traceback": [
      "\u001b[1;31m---------------------------------------------------------------------------\u001b[0m",
      "\u001b[1;31mValueError\u001b[0m                                Traceback (most recent call last)",
      "Cell \u001b[1;32mIn [32], line 18\u001b[0m\n\u001b[0;32m      7\u001b[0m agent \u001b[38;5;241m=\u001b[39m FFNNAgent(\n\u001b[0;32m      8\u001b[0m     env,\n\u001b[0;32m      9\u001b[0m     model_path\u001b[38;5;241m=\u001b[39mmodel_path,\n\u001b[1;32m   (...)\u001b[0m\n\u001b[0;32m     14\u001b[0m     filename\u001b[38;5;241m=\u001b[39m\u001b[38;5;124m\"\u001b[39m\u001b[38;5;124mffnn_agent\u001b[39m\u001b[38;5;124m\"\u001b[39m\n\u001b[0;32m     15\u001b[0m )\n\u001b[0;32m     17\u001b[0m rewards_FFNN \u001b[38;5;241m=\u001b[39m play_game(env, episodes, agent, collect_data)\n\u001b[1;32m---> 18\u001b[0m \u001b[43mplot_reward\u001b[49m\u001b[43m(\u001b[49m\u001b[43m[\u001b[49m\u001b[43mrewards_FFNN\u001b[49m\u001b[43m]\u001b[49m\u001b[43m,\u001b[49m\u001b[43m \u001b[49m\u001b[38;5;124;43m\"\u001b[39;49m\u001b[38;5;124;43mFFNN Agent\u001b[39;49m\u001b[38;5;124;43m\"\u001b[39;49m\u001b[43m,\u001b[49m\u001b[43m \u001b[49m\u001b[38;5;124;43m\"\u001b[39;49m\u001b[38;5;124;43mffnn_agent\u001b[39;49m\u001b[38;5;124;43m\"\u001b[39;49m\u001b[43m,\u001b[49m\u001b[43m \u001b[49m\u001b[43m[\u001b[49m\u001b[38;5;124;43m\"\u001b[39;49m\u001b[38;5;124;43mFFNN Agent\u001b[39;49m\u001b[38;5;124;43m\"\u001b[39;49m\u001b[43m]\u001b[49m\u001b[43m)\u001b[49m\n",
      "Cell \u001b[1;32mIn [4], line 15\u001b[0m, in \u001b[0;36mplot_reward\u001b[1;34m(data, title, filename, labels, plot_variance)\u001b[0m\n\u001b[0;32m     13\u001b[0m     plt\u001b[38;5;241m.\u001b[39mfill_between(mean \u001b[38;5;241m-\u001b[39m variance, mean \u001b[38;5;241m+\u001b[39m variance, alpha\u001b[38;5;241m=\u001b[39m\u001b[38;5;241m0.2\u001b[39m, label\u001b[38;5;241m=\u001b[39m\u001b[38;5;124m'\u001b[39m\u001b[38;5;124mVariance\u001b[39m\u001b[38;5;124m'\u001b[39m)\n\u001b[0;32m     14\u001b[0m \u001b[38;5;28;01melse\u001b[39;00m:\n\u001b[1;32m---> 15\u001b[0m     rolling_mean \u001b[38;5;241m=\u001b[39m \u001b[43mnp\u001b[49m\u001b[38;5;241;43m.\u001b[39;49m\u001b[43mzeros\u001b[49m\u001b[43m(\u001b[49m\u001b[43m(\u001b[49m\u001b[38;5;28;43mlen\u001b[39;49m\u001b[43m(\u001b[49m\u001b[43mdata\u001b[49m\u001b[43m)\u001b[49m\u001b[43m,\u001b[49m\u001b[43m \u001b[49m\u001b[38;5;28;43mlen\u001b[39;49m\u001b[43m(\u001b[49m\u001b[43mdata\u001b[49m\u001b[43m[\u001b[49m\u001b[38;5;241;43m0\u001b[39;49m\u001b[43m]\u001b[49m\u001b[43m)\u001b[49m\u001b[43m \u001b[49m\u001b[38;5;241;43m-\u001b[39;49m\u001b[43m \u001b[49m\u001b[43m(\u001b[49m\u001b[43mrolling_length\u001b[49m\u001b[43m \u001b[49m\u001b[38;5;241;43m-\u001b[39;49m\u001b[43m \u001b[49m\u001b[38;5;241;43m1\u001b[39;49m\u001b[43m)\u001b[49m\u001b[43m)\u001b[49m\u001b[43m)\u001b[49m \n\u001b[0;32m     16\u001b[0m     \u001b[38;5;28;01mfor\u001b[39;00m i \u001b[38;5;129;01min\u001b[39;00m \u001b[38;5;28mrange\u001b[39m(\u001b[38;5;28mlen\u001b[39m(data)):\n\u001b[0;32m     17\u001b[0m         rolling_mean[i] \u001b[38;5;241m=\u001b[39m (np\u001b[38;5;241m.\u001b[39mconvolve(np\u001b[38;5;241m.\u001b[39marray(data[i])\u001b[38;5;241m.\u001b[39mflatten(), np\u001b[38;5;241m.\u001b[39mones(rolling_length), mode\u001b[38;5;241m=\u001b[39m\u001b[38;5;124m\"\u001b[39m\u001b[38;5;124mvalid\u001b[39m\u001b[38;5;124m\"\u001b[39m)\n\u001b[0;32m     18\u001b[0m             \u001b[38;5;241m/\u001b[39m rolling_length)\n",
      "\u001b[1;31mValueError\u001b[0m: negative dimensions are not allowed"
     ]
    },
    {
     "data": {
      "image/png": "[encoded data removed]",
      "text/plain": [
       "<Figure size 640x480 with 1 Axes>"
      ]
     },
     "metadata": {},
     "output_type": "display_data"
    }
   ],
   "source": [
    "# FFNN hyperparameters\n",
    "model_path = '../models/best_model.pth'\n",
    "layers = best_model[0]\n",
    "threshold = best_model[1]\n",
    "lr = best_model[2]\n",
    "\n",
    "agent = FFNNAgent(\n",
    "    env,\n",
    "    model_path=model_path,\n",
    "    device=device,\n",
    "    layers=layers,\n",
    "    threshold=threshold,\n",
    "    lr=lr,\n",
    "    filename=\"ffnn_agent\"\n",
    ")\n",
    "\n",
    "rewards_FFNN = play_game(env, episodes, agent, collect_data)\n",
    "plot_reward([rewards_FFNN], \"FFNN Agent\", \"ffnn_agent\", [\"FFNN Agent\"])"
   ]
  },
  {
   "cell_type": "code",
   "execution_count": null,
   "metadata": {},
   "outputs": [
    {
     "name": "stderr",
     "output_type": "stream",
     "text": [
      "100%|██████████| 10000/10000 [00:06<00:00, 1530.05it/s]\n"
     ]
    },
    {
     "name": "stdout",
     "output_type": "stream",
     "text": [
      "Average Reward:  -0.0039\n",
      "Variance:  1.2864134313432152\n"
     ]
    },
    {
     "data": {
      "image/png": "[encoded data removed]",
      "text/plain": [
       "<Figure size 640x480 with 1 Axes>"
      ]
     },
     "metadata": {},
     "output_type": "display_data"
    }
   ],
   "source": [
    "# Backprop hyperparameters\n",
    "input_size = 5\n",
    "output_size = 4\n",
    "hidden_size = 30\n",
    "activation_fn = nn.ReLU()\n",
    "\n",
    "agent = BackpropAgent(\n",
    "    env, \n",
    "    model=torch.load('../models/backprop_model.pth'),\n",
    "    input_size=input_size, \n",
    "    output_size=output_size, \n",
    "    hidden_size=hidden_size, \n",
    "    activation_fn=activation_fn,\n",
    "    filename=\"backprop_agent\"\n",
    ")\n",
    "\n",
    "rewards_BP = play_game(env, episodes, agent, collect_data)\n",
    "plot_reward([rewards_BP, rewards_random, rewards_basic_strategy], \"Backpropagation Agent\", \"backprop_random_basic_agent\", [\"Backpropagation Agent\", \"Random Agent\", \"Basic Strategy Agent\"])"
   ]
  },
  {
   "cell_type": "markdown",
   "metadata": {},
   "source": [
    "### DQFFNN"
   ]
  },
  {
   "cell_type": "code",
   "execution_count": null,
   "metadata": {},
   "outputs": [],
   "source": [
    "# DQFFNN hyperparameters\n",
    "layers = [9,200,200,200]\n",
    "threshold = 6\n",
    "lr = 0.01\n",
    "\n",
    "episodes = 100000\n",
    "epsilon = 1.0\n",
    "epsilon_decay = epsilon / (episodes / 2)\n",
    "discount_factor = 0.99\n",
    "batch_size = 5\n",
    "update_td_target = 50\n",
    "buffer_size = 100000\n",
    "\n",
    "agent = DQFFNNAgentBJ(\n",
    "    env,\n",
    "    device=device,\n",
    "    layers=layers,\n",
    "    threshold=threshold,\n",
    "    lr=lr,\n",
    "    epsilon=epsilon,\n",
    "    epsilon_decay=epsilon_decay,\n",
    "    discount_factor=discount_factor,\n",
    "    batch_size=batch_size,\n",
    "    update_td_target=update_td_target,\n",
    "    buffer_size=buffer_size,\n",
    "    filename=\"dqffnn_agent\"\n",
    ")\n",
    "\n",
    "#agent.model.save_model(path='../models/DQFFNN_model.pth')\n",
    "rewards_DQFFNN = play_game(env, episodes, agent, collect_data)\n",
    "plot_reward([rewards_DQFFNN, rewards_random], \"DQFFNN Agent\", f\"DQFFNN_agent_lr={lr}_df={discount_factor}_batch={batch_size}_update={update_td_target}_buffer={buffer_size}\", [\"DQFFNN Agent\", \"Random Agent\"])"
   ]
  },
  {
   "cell_type": "code",
   "execution_count": null,
   "metadata": {},
   "outputs": [],
   "source": [
    "print_accuracy(agent.model.predict_accumulated_goodness(x_test), y_test)"
   ]
  },
  {
   "cell_type": "markdown",
   "metadata": {},
   "source": [
    "#### Frozen Lake"
   ]
  },
  {
   "cell_type": "code",
   "execution_count": 6,
   "metadata": {},
   "outputs": [
    {
     "name": "stderr",
     "output_type": "stream",
     "text": [
      "100%|██████████| 2000/2000 [02:50<00:00, 11.73it/s]\n"
     ]
    },
    {
     "data": {
      "image/png": "[encoded data removed]",
      "text/plain": [
       "<Figure size 640x480 with 1 Axes>"
      ]
     },
     "metadata": {},
     "output_type": "display_data"
    }
   ],
   "source": [
    "layers = [20,100,100,100]\n",
    "threshold = 0.5\n",
    "lr = 0.001\n",
    "\n",
    "episodes = 2000\n",
    "epsilon = 0.99\n",
    "epsilon_decay = epsilon / (episodes)\n",
    "discount_factor = 0.9\n",
    "batch_size = 32\n",
    "update_td_target = 10\n",
    "buffer_size = 1000\n",
    "\n",
    "env = gym.make(\"FrozenLake-v1\", max_episode_steps=100, desc=None, map_name=\"4x4\", is_slippery=False)\n",
    "env = gym.wrappers.RecordEpisodeStatistics(env, deque_size=episodes)\n",
    "\n",
    "\n",
    "total_rewards = []\n",
    "for i in range(1):\n",
    "    agent = DQFFNNAgent(\n",
    "        env,\n",
    "        device=device,\n",
    "        layers=layers,\n",
    "        threshold=threshold,\n",
    "        lr=lr,\n",
    "        epsilon=epsilon,\n",
    "        epsilon_decay=epsilon_decay,\n",
    "        discount_factor=discount_factor,\n",
    "        batch_size=batch_size,\n",
    "        update_td_target=update_td_target,\n",
    "        buffer_size=buffer_size\n",
    "    )\n",
    "\n",
    "    play_game(env, episodes, agent, False, False, True)\n",
    "    rewards = np.array(env.return_queue).flatten()\n",
    "    total_rewards.append(rewards)\n",
    "\n",
    "average_reward = sum(rewards)/episodes\n",
    "variance = sum([((x - average_reward) ** 2) for x in rewards]) / (episodes - 1)\n",
    "agent.model.save_model(path='../models/FrozenLake_DQFFNN_model.pth')\n",
    "\n",
    "#print(\"Rewards: \", rewards)\n",
    "# print(\"Average Reward: \", average_reward)\n",
    "# print(\"Variance: \", variance)\n",
    "plot_reward(total_rewards, \"FrozenLake\", f\"FrozenLake_DQFFNN_agent_lr={lr}_df={discount_factor}_batch={batch_size}_update={update_td_target}_buffer={buffer_size}\", [\"Frozen Lake\"],plot_variance=True , rolling_length=50)"
   ]
  }
 ],
 "metadata": {
  "kernelspec": {
   "display_name": "Python 3",
   "language": "python",
   "name": "python3"
  },
  "language_info": {
   "codemirror_mode": {
    "name": "ipython",
    "version": 3
   },
   "file_extension": ".py",
   "mimetype": "text/x-python",
   "name": "python",
   "nbconvert_exporter": "python",
   "pygments_lexer": "ipython3",
   "version": "3.9.6"
  }
 },
 "nbformat": 4,
 "nbformat_minor": 2
}
