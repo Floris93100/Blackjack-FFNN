{
 "cells": [
  {
   "cell_type": "code",
   "execution_count": 76,
   "metadata": {},
   "outputs": [
    {
     "name": "stdout",
     "output_type": "stream",
     "text": [
      "using cpu\n"
     ]
    }
   ],
   "source": [
    "import pandas as pd\n",
    "import numpy as np\n",
    "from sklearn.model_selection import train_test_split\n",
    "from sklearn.metrics import ConfusionMatrixDisplay\n",
    "import torch\n",
    "import torch.nn as nn\n",
    "from tqdm import tqdm\n",
    "import csv\n",
    "import matplotlib.pyplot as plt\n",
    "import gymnasium as gym\n",
    "\n",
    "from FFNN import FFNN\n",
    "from blackjackenv_extended import BlackjackEnv\n",
    "\n",
    "from random_agent import RandomAgent\n",
    "from basic_strategy_agent import BasicStrategyAgent\n",
    "from backprop_agent import BackpropAgent\n",
    "from FFNN_agent import FFNNAgent\n",
    "from DQFFNN_BJ_agent import DQFFNNAgentBJ\n",
    "from DQFFNN_agent import DQFFNNAgent\n",
    "\n",
    "if torch.cuda.is_available():\n",
    "    device = torch.device('cuda')\n",
    "    print(\"using gpu: \", torch.cuda.get_device_name())\n",
    "else:\n",
    "    device = torch.device('cpu')\n",
    "    print(\"using cpu\")\n",
    "\n",
    "seed = 43\n",
    "np.random.seed(seed)"
   ]
  },
  {
   "cell_type": "markdown",
   "metadata": {},
   "source": [
    "## Blackjack"
   ]
  },
  {
   "cell_type": "code",
   "execution_count": 157,
   "metadata": {},
   "outputs": [],
   "source": [
    "env = BlackjackEnv(natural=True)\n",
    "\n",
    "episodes = 1500\n",
    "collect_data = True"
   ]
  },
  {
   "cell_type": "code",
   "execution_count": 78,
   "metadata": {},
   "outputs": [],
   "source": [
    "KEY = {0: 'STAND', 1:'HIT', 2:'DOUBLE', 3: 'SPLIT'}\n",
    "\n",
    "def one_hot_encode(observation, n):\n",
    "    one_hot = np.zeros(n)\n",
    "    one_hot[observation] = 1\n",
    "    return one_hot\n",
    "\n",
    "def play_game(env, episodes, agent, collect_data=False, print_rewards=True, OH_encode=False):\n",
    "    rewards = []\n",
    "\n",
    "    for episode in tqdm(range(episodes)):\n",
    "        observation, info = env.reset()\n",
    "        done = False\n",
    "        \n",
    "        # print(f\"Episode: {episode+1}/{episodes}\")\n",
    "        # print(\"-\"*40)\n",
    "        # print(\"hand 1\", env.player)\n",
    "        # print(\"hand 2\", env.player2)\n",
    "        # print(\"Start Observation: \", observation)\n",
    "        \n",
    "        \n",
    "        while not done:\n",
    "            if OH_encode:\n",
    "                observation = one_hot_encode(observation, env.observation_space.n)\n",
    "            \n",
    "            action = agent.get_action(observation)\n",
    "            #print(\"Action: \", KEY[action])\n",
    "\n",
    "            # save data for training\n",
    "            if collect_data:\n",
    "                agent.collect_data(observation, action)\n",
    "            \n",
    "            next_observation, reward, terminated, truncated, info = env.step(action) \n",
    "            \n",
    "            if OH_encode:\n",
    "                agent.learn(observation, \n",
    "                            action, \n",
    "                            reward, \n",
    "                            one_hot_encode(next_observation, env.observation_space.n), \n",
    "                            terminated or truncated)\n",
    "            else:  \n",
    "                agent.learn(observation, action, reward, next_observation, terminated or truncated)\n",
    "            observation = next_observation\n",
    "            \n",
    "            # print(\"hand 1\", env.player)\n",
    "            # print(\"hand 2\", env.player2)\n",
    "            # print(\"Observation: \", observation, \"Reward: \", reward)\n",
    "            \n",
    "\n",
    "            if terminated or truncated:\n",
    "                # print(f\"Dealer hand: \", env.dealer)\n",
    "                rewards.append(reward)\n",
    "                observation = env.reset()\n",
    "                done = True\n",
    "        \n",
    "        agent.decay_epsilon()    \n",
    "\n",
    "    if collect_data:\n",
    "        agent.save_data()\n",
    "    \n",
    "    average_reward = sum(rewards)/episodes\n",
    "    variance = sum([((x - average_reward) ** 2) for x in rewards]) / (episodes - 1)\n",
    "\n",
    "    if print_rewards:\n",
    "        #print(\"Rewards: \", rewards)\n",
    "        print(\"Average Reward: \", average_reward)\n",
    "        print(\"Variance: \", variance)\n",
    "    \n",
    "    return rewards"
   ]
  },
  {
   "cell_type": "code",
   "execution_count": 79,
   "metadata": {},
   "outputs": [],
   "source": [
    "def plot_reward(data, title, filename, labels, plot_variance=False, rolling_length=1000):\n",
    "    data = np.array(data)\n",
    "    np.savetxt(f'../data/{filename}_rewards.csv', data.reshape(data.shape[0], -1), delimiter=',')\n",
    "    \n",
    "    _, ax = plt.subplots()\n",
    "    \n",
    "    rolling_mean = np.zeros((len(data), len(data[0]) - (rolling_length - 1))) \n",
    "    for i in range(len(data)):\n",
    "        rolling_mean[i] = (np.convolve(np.array(data[i]).flatten(), np.ones(rolling_length), mode=\"valid\")\n",
    "            / rolling_length)\n",
    "            \n",
    "    if plot_variance:\n",
    "        mean = rolling_mean.mean(axis=0)\n",
    "        variance = rolling_mean.var(axis=0)\n",
    "        upper_bound_sd = mean + np.sqrt(variance)\n",
    "        lower_bound_sd = mean - np.sqrt(variance)\n",
    "        plt.plot(mean, label='Mean', color='blue')\n",
    "        plt.fill_between(range(len(mean)),upper_bound_sd, lower_bound_sd, alpha=0.2, label='Standard Deviation')\n",
    "    else:\n",
    "        for i in range(len(data)):\n",
    "            ax.plot(rolling_mean[i], label=labels[i])\n",
    "\n",
    "    plt.ylabel(\"Reward\")\n",
    "    plt.xlabel(\"Episodes\")\n",
    "    plt.legend()\n",
    "    plt.savefig(f\"../figures/{filename}_rewards.png\", dpi='figure', format=None)\n",
    "    plt.show()"
   ]
  },
  {
   "cell_type": "markdown",
   "metadata": {},
   "source": [
    "### Random & Basic Agents"
   ]
  },
  {
   "cell_type": "code",
   "execution_count": 159,
   "metadata": {},
   "outputs": [
    {
     "name": "stderr",
     "output_type": "stream",
     "text": [
      "100%|██████████| 1500/1500 [00:00<00:00, 8310.54it/s]\n"
     ]
    },
    {
     "name": "stdout",
     "output_type": "stream",
     "text": [
      "Average Reward:  -0.498\n",
      "Variance:  1.4389553035356826\n"
     ]
    },
    {
     "name": "stderr",
     "output_type": "stream",
     "text": [
      "100%|██████████| 1500/1500 [00:00<00:00, 7734.98it/s]\n"
     ]
    },
    {
     "name": "stdout",
     "output_type": "stream",
     "text": [
      "Average Reward:  0.029333333333333333\n",
      "Variance:  1.2879982210362273\n"
     ]
    },
    {
     "data": {
      "image/png": "[encoded data removed]",
      "text/plain": [
       "<Figure size 640x480 with 1 Axes>"
      ]
     },
     "metadata": {},
     "output_type": "display_data"
    }
   ],
   "source": [
    "agent = RandomAgent(env, filename=\"random_agent\")\n",
    "rewards_random = play_game(env, episodes, agent, collect_data)\n",
    "\n",
    "\n",
    "agent = BasicStrategyAgent(env, filename=\"basic_strategy_agent\")\n",
    "rewards_basic_strategy = play_game(env, episodes, agent, collect_data)\n",
    "plot_reward([rewards_random, rewards_basic_strategy], \"Random vs Basic Strategy Agent\", \"random_basic_strategy\", [\"Random Agent\", \"Basic Strategy Agent\"])"
   ]
  },
  {
   "cell_type": "markdown",
   "metadata": {},
   "source": [
    "## Data Generation"
   ]
  },
  {
   "cell_type": "markdown",
   "metadata": {},
   "source": [
    "### Simulated Data"
   ]
  },
  {
   "cell_type": "code",
   "execution_count": 131,
   "metadata": {},
   "outputs": [],
   "source": [
    "def read_data(file):\n",
    "    return pd.read_csv(file, delimiter=',')"
   ]
  },
  {
   "cell_type": "code",
   "execution_count": 132,
   "metadata": {},
   "outputs": [],
   "source": [
    "def split_data(data):\n",
    "    x = data[:, :5]\n",
    "    y = data[:, 5]\n",
    "    x_train, x_test, y_train, y_test = train_test_split(x, y, test_size=0.2, random_state=seed)\n",
    "    return x_train, x_test, y_train, y_test\n",
    "\n",
    "def transform(data):\n",
    "    data = torch.tensor(data, dtype=torch.float32)\n",
    "    return data"
   ]
  },
  {
   "cell_type": "code",
   "execution_count": 133,
   "metadata": {},
   "outputs": [],
   "source": [
    "def preprocess(filename):\n",
    "    df_raw = read_data(filename)\n",
    "    print(df_raw.head())\n",
    "    d_raw = df_raw.to_numpy() # data to binary?\n",
    "    x, x_test, y, y_test = split_data(d_raw)\n",
    "    x, x_test = transform(x), transform(x_test)\n",
    "    \n",
    "    return x, x_test, y, y_test"
   ]
  },
  {
   "cell_type": "code",
   "execution_count": 134,
   "metadata": {},
   "outputs": [
    {
     "name": "stdout",
     "output_type": "stream",
     "text": [
      "   Player sum  Dealer card  Usable ace  Double down allowed  Split allowed  \\\n",
      "0          14            1           0                    1              0   \n",
      "1          12           10           0                    1              0   \n",
      "2          17           10           0                    0              0   \n",
      "3           5            1           0                    1              0   \n",
      "4          15            1           0                    0              0   \n",
      "\n",
      "   Action  \n",
      "0       1  \n",
      "1       1  \n",
      "2       0  \n",
      "3       1  \n",
      "4       1  \n"
     ]
    }
   ],
   "source": [
    "datafile = '../data/basic_strategy_agent.csv'\n",
    "x_train, x_test, y_train, y_test = preprocess(datafile)"
   ]
  },
  {
   "cell_type": "code",
   "execution_count": 135,
   "metadata": {},
   "outputs": [],
   "source": [
    "def one_hot_encode(y, n):\n",
    "    return torch.eye(n)[y]\n",
    "\n",
    "def combine_input_and_label(x, y, n):\n",
    "    y_one_hot = one_hot_encode(y, n)\n",
    "    return torch.concat((x, y_one_hot), 1)\n",
    "\n",
    "def generate_neg_labels(y, n):\n",
    "    y_ = y.copy()\n",
    "    for i in range(len(y)):\n",
    "        negative_labels = [j for j in range(n) if j != y[i]]\n",
    "        y_[i] = np.random.choice(negative_labels)\n",
    "\n",
    "    return y_"
   ]
  },
  {
   "cell_type": "code",
   "execution_count": 137,
   "metadata": {},
   "outputs": [
    {
     "name": "stdout",
     "output_type": "stream",
     "text": [
      "x_pos[0]: tensor([8., 9., 0., 1., 0., 0., 1., 0., 0.])\n",
      "x_neg[0]: tensor([8., 9., 0., 1., 0., 0., 0., 0., 1.])\n",
      "Train size: 76\n",
      "Test size: 19\n"
     ]
    }
   ],
   "source": [
    "x_pos = combine_input_and_label(x_train, y_train, 4)\n",
    "\n",
    "y_neg = generate_neg_labels(y_train, 4)\n",
    "x_neg = combine_input_and_label(x_train, y_neg, 4)\n",
    "\n",
    "y_train_OH = one_hot_encode(y_train, 4)\n",
    "y_test_OH = one_hot_encode(y_test, 4)\n",
    "\n",
    "print(f\"x_pos[0]: {x_pos[0]}\")\n",
    "print(f\"x_neg[0]: {x_neg[0]}\")\n",
    "print(f\"Train size: {len(x_train)}\")\n",
    "print(f\"Test size: {len(x_test)}\")"
   ]
  },
  {
   "cell_type": "markdown",
   "metadata": {},
   "source": [
    "### Balanced Data"
   ]
  },
  {
   "cell_type": "code",
   "execution_count": 89,
   "metadata": {},
   "outputs": [],
   "source": [
    "env = BlackjackEnv(natural=True)\n",
    "basic_strategy_agent = BasicStrategyAgent(env, filename='../data/blackjack_combinations')\n",
    "\n",
    "def create_combinations():\n",
    "    for player_hand in range(4, 22):\n",
    "        for dealer_hand in range(2, 12):\n",
    "            for usable_ace in range(2):\n",
    "                for can_double_down in range(2):\n",
    "                    for can_split in range(2):\n",
    "                        observation = (player_hand, dealer_hand, usable_ace, can_double_down, can_split)\n",
    "                        if (dealer_hand == 11 and usable_ace) == 1:\n",
    "                            # impossible combination    \n",
    "                            continue\n",
    "                        action = basic_strategy_agent.get_action(observation)\n",
    "                        basic_strategy_agent.collect_data(observation, action)\n",
    "    \n",
    "    basic_strategy_agent.save_data()\n",
    "                        \n",
    "            \n",
    "def get_combinations_for_action(action):\n",
    "    samples = []\n",
    "    with open('../data/blackjack_combinations.csv', 'r') as file:\n",
    "        reader = csv.reader(file)\n",
    "        next(reader)\n",
    "        for row in reader:\n",
    "            if int(row[-1]) == action:\n",
    "                samples.append(row)\n",
    "    return samples\n",
    "\n",
    "def sample_balanced_data(n_samples):\n",
    "    data = []\n",
    "    combinations = np.empty(4, dtype=object)\n",
    "    \n",
    "    for action in range(4):\n",
    "        combinations[action] = get_combinations_for_action(action)\n",
    "        \n",
    "        for i in range(n_samples):\n",
    "            sample_idx = np.random.choice(len(combinations[action]))\n",
    "            data.append(combinations[action][sample_idx])\n",
    "\n",
    "    with open('../data/balanced_data.csv', 'w', newline='') as file:\n",
    "        writer = csv.writer(file)\n",
    "        \n",
    "        writer.writerow([\"Player sum\", \"Dealer card\", \"Usable ace\", \"Double down allowed\", \"Split allowed\", \"Action\"])\n",
    "        writer.writerows(data)"
   ]
  },
  {
   "cell_type": "code",
   "execution_count": 90,
   "metadata": {},
   "outputs": [],
   "source": [
    "create_combinations()\n",
    "samples_per_action = 20\n",
    "sample_balanced_data(samples_per_action)"
   ]
  },
  {
   "cell_type": "code",
   "execution_count": 91,
   "metadata": {},
   "outputs": [
    {
     "name": "stdout",
     "output_type": "stream",
     "text": [
      "   Player sum  Dealer card  Usable ace  Double down allowed  Split allowed  \\\n",
      "0          19            8           1                    1              1   \n",
      "1          19            4           1                    1              1   \n",
      "2          21            3           0                    1              1   \n",
      "3          20            4           1                    0              1   \n",
      "4          21            4           1                    0              1   \n",
      "\n",
      "   Action  \n",
      "0       0  \n",
      "1       0  \n",
      "2       0  \n",
      "3       0  \n",
      "4       0  \n",
      "\n",
      "x_pos[0]: tensor([15.,  5.,  1.,  1.,  1.,  0.,  0.,  1.,  0.])\n",
      "x_neg[0]: tensor([15.,  5.,  1.,  1.,  1.,  0.,  1.,  0.,  0.])\n",
      "\n",
      "Train size: 64\n",
      "Test size: 16\n"
     ]
    }
   ],
   "source": [
    "datafile = '../data/balanced_data.csv'\n",
    "x_train_bal, x_test_bal, y_train_bal, y_test_bal = preprocess(datafile)\n",
    "\n",
    "x_pos_bal = combine_input_and_label(x_train_bal, y_train_bal, 4)\n",
    "\n",
    "y_neg_bal = generate_neg_labels(y_train_bal, 4)\n",
    "x_neg_bal = combine_input_and_label(x_train_bal, y_neg_bal, 4)\n",
    "\n",
    "y_train_OH_bal = one_hot_encode(y_train_bal, 4)\n",
    "y_test_OH_bal = one_hot_encode(y_test_bal, 4)\n",
    "\n",
    "\n",
    "print(f\"\\nx_pos[0]: {x_pos_bal[0]}\")\n",
    "print(f\"x_neg[0]: {x_neg_bal[0]}\")\n",
    "print(f\"\\nTrain size: {len(x_train_bal)}\")\n",
    "print(f\"Test size: {len(x_test_bal)}\")"
   ]
  },
  {
   "cell_type": "markdown",
   "metadata": {},
   "source": [
    "## Forward-Forward"
   ]
  },
  {
   "cell_type": "code",
   "execution_count": 92,
   "metadata": {},
   "outputs": [],
   "source": [
    "def print_accuracy(model_predictions, y):\n",
    "    predictions = np.array(torch.Tensor.cpu(model_predictions)).flatten()\n",
    "    accuracy =  model_predictions.eq(torch.from_numpy(y).to(device)).float().mean().item()\n",
    "    \n",
    "    print(y)\n",
    "    print(predictions)\n",
    "    print(f'Accuracy: {accuracy}')\n",
    "\n",
    "    ConfusionMatrixDisplay.from_predictions(y, predictions, normalize=\"true\")\n",
    "    \n",
    "def plot_losses(data, title, filename):\n",
    "    np.savetxt(f'../data/{filename}_losses.csv', data, delimiter=',')\n",
    "\n",
    "    plt.plot(np.array(data))\n",
    "\n",
    "    plt.ylabel(\"Loss\")\n",
    "    plt.xlabel(\"Epochs\")\n",
    "    plt.savefig(f\"../figures/{filename}_losses.png\", dpi='figure', format=None)\n",
    "    plt.show()"
   ]
  },
  {
   "cell_type": "markdown",
   "metadata": {},
   "source": [
    "### Balanced Data FFNN"
   ]
  },
  {
   "cell_type": "code",
   "execution_count": 93,
   "metadata": {},
   "outputs": [],
   "source": [
    "# Hyperparameters\n",
    "layers = [9, 2000, 2000, 2000, 2000]\n",
    "threshold = 0.5\n",
    "learning_rate = 0.001\n",
    "epochs = 120\n",
    "batch_size = 64\n",
    "lr_decay = False\n",
    "\n",
    "model = FFNN(\n",
    "    device=device,\n",
    "    layers=layers,\n",
    "    threshold=threshold,\n",
    "    learning_rate=learning_rate,\n",
    "    epochs=epochs,\n",
    "    batch_size=batch_size,\n",
    "    lr_decay=lr_decay,\n",
    "    ).to(device)\n"
   ]
  },
  {
   "cell_type": "code",
   "execution_count": 94,
   "metadata": {},
   "outputs": [
    {
     "name": "stdout",
     "output_type": "stream",
     "text": [
      "\n",
      "Training Layer: 1\n",
      "----------------------------------------\n"
     ]
    },
    {
     "name": "stderr",
     "output_type": "stream",
     "text": [
      "100%|██████████| 120/120 [00:00<00:00, 514.39it/s]\n"
     ]
    },
    {
     "name": "stdout",
     "output_type": "stream",
     "text": [
      "\n",
      "Training Layer: 2\n",
      "----------------------------------------\n"
     ]
    },
    {
     "name": "stderr",
     "output_type": "stream",
     "text": [
      "100%|██████████| 120/120 [00:06<00:00, 17.40it/s]\n"
     ]
    },
    {
     "name": "stdout",
     "output_type": "stream",
     "text": [
      "\n",
      "Training Layer: 3\n",
      "----------------------------------------\n"
     ]
    },
    {
     "name": "stderr",
     "output_type": "stream",
     "text": [
      "100%|██████████| 120/120 [00:06<00:00, 17.64it/s]\n"
     ]
    },
    {
     "name": "stdout",
     "output_type": "stream",
     "text": [
      "\n",
      "Training Layer: 4\n",
      "----------------------------------------\n"
     ]
    },
    {
     "name": "stderr",
     "output_type": "stream",
     "text": [
      "100%|██████████| 120/120 [00:06<00:00, 17.85it/s]\n"
     ]
    }
   ],
   "source": [
    "last_layer_losses = model.train(x_pos_bal, x_neg_bal)\n",
    "model.save_model('../models/model_balanced.pth')"
   ]
  },
  {
   "cell_type": "code",
   "execution_count": 95,
   "metadata": {},
   "outputs": [
    {
     "data": {
      "image/png": "[encoded data removed]",
      "text/plain": [
       "<Figure size 640x480 with 1 Axes>"
      ]
     },
     "metadata": {},
     "output_type": "display_data"
    },
    {
     "name": "stdout",
     "output_type": "stream",
     "text": [
      "[1 1 3 3 0 0 1 2 3 3 0 0 0 2 2 0]\n",
      "[1 1 0 2 2 3 2 0 2 2 0 2 2 0 2 3]\n",
      "Accuracy: 0.25\n"
     ]
    },
    {
     "data": {
      "image/png": "[encoded data removed]",
      "text/plain": [
       "<Figure size 640x480 with 2 Axes>"
      ]
     },
     "metadata": {},
     "output_type": "display_data"
    }
   ],
   "source": [
    "plot_losses(last_layer_losses, \"Training Loss Last Layer Balanced Model\", \"model_balanced\")\n",
    "print_accuracy(model.predict_accumulated_goodness(x_test_bal), y_test_bal)"
   ]
  },
  {
   "cell_type": "markdown",
   "metadata": {},
   "source": [
    "### FFNN"
   ]
  },
  {
   "cell_type": "code",
   "execution_count": 109,
   "metadata": {},
   "outputs": [],
   "source": [
    "def cross_validation(x_pos, x_neg,architectures, thresholds, learning_rates, n_epochs, n_folds, batch_sizes, lr_decays):\n",
    "    \n",
    "    size_subset = len(x_pos) // n_folds\n",
    "    validation_risks = []\n",
    "    \n",
    "    for architecture in tqdm(architectures):\n",
    "        for threshold in thresholds:\n",
    "            for lr in learning_rates:\n",
    "                for batch_size in batch_sizes:\n",
    "                    for lr_decay in lr_decays:\n",
    "                        #print(\"-\"*40)\n",
    "                        print(f\"Current Model:{architecture}, thr={threshold}, lr={lr}, batch_size={batch_size}, lr_decay={lr_decay}\")\n",
    "                        val_risks_model = []\n",
    "                        \n",
    "                        for fold in range(n_folds):\n",
    "                            #print(f\"Fold {fold}\")\n",
    "                            #print(\"-\"*40)\n",
    "                            \n",
    "                            # Split data into training and validation\n",
    "                            start_idx = fold * size_subset\n",
    "                            end_idx = (fold + 1) * size_subset\n",
    "                            x_pos_train = torch.cat((x_pos[:start_idx], x_pos[end_idx:]))\n",
    "                            x_neg_train = torch.cat((x_neg[:start_idx], x_neg[end_idx:]))\n",
    "                            x_val = x_train[start_idx:end_idx]\n",
    "                            y_val = y_train[start_idx:end_idx]\n",
    "                            \n",
    "                            # Initialize current model\n",
    "                            model = FFNN(\n",
    "                                device=device,\n",
    "                                layers=architecture,\n",
    "                                bias=True,\n",
    "                                threshold=threshold,\n",
    "                                learning_rate=lr,\n",
    "                                epochs=n_epochs,\n",
    "                                batch_size=batch_size,\n",
    "                                lr_decay=lr_decay,\n",
    "                                verbose=False\n",
    "                            ).to(device)\n",
    "                            \n",
    "                            # Train model\n",
    "                            model.train(x_pos_train, x_neg_train)\n",
    "                            \n",
    "                            # Compute validation risk\n",
    "                            predictions = model.predict_accumulated_goodness(x_val) # juiste risk?\n",
    "                            val_risk = 1 - predictions.eq(torch.from_numpy(y_val).to(device)).float().mean().item()\n",
    "                            val_risks_model.append(val_risk)\n",
    "                            \n",
    "                            #print(f\"\\n validation risk: {val_risk}\")\n",
    "                            \n",
    "                        avg_val_risk = np.mean(val_risks_model)\n",
    "                        validation_risks.append((architecture, threshold, lr, batch_size, lr_decay, avg_val_risk ))\n",
    "                        #model.save_model(f'../models/model_{architecture}_{threshold}_{lr}_{avg_val_risk}.pth')\n",
    "                        \n",
    "                        with open('../data/cxv_results.csv', 'a', newline='') as file:\n",
    "                            writer = csv.writer(file)\n",
    "                            writer.writerow([architecture, threshold, lr, batch_size, lr_decay, avg_val_risk])\n",
    "                            \n",
    "                        #print(f\"validation risks for model {architecture}, thr={threshold}, lr={lr}: {val_risks_model}\")\n",
    "                        print(f\"average validation risk: {avg_val_risk}\")\n",
    "                        print(\"-\"*40)\n",
    "    \n",
    "    #print(\"total validation risks:\" , validation_risks)  \n",
    "    min_risk_model = min(validation_risks, key=lambda x: x[-1])\n",
    "    print(f\"Best model: {min_risk_model[:-1]}, with risk: {min_risk_model[-1]}\")   \n",
    "    return min_risk_model               "
   ]
  },
  {
   "cell_type": "code",
   "execution_count": 110,
   "metadata": {},
   "outputs": [
    {
     "name": "stderr",
     "output_type": "stream",
     "text": [
      "  0%|          | 0/1 [00:00<?, ?it/s]"
     ]
    },
    {
     "name": "stdout",
     "output_type": "stream",
     "text": [
      "Current Model:[9, 30, 30], thr=0.3, lr=0.0001, batch_size=32, lr_decay=0\n",
      "average validation risk: 0.7\n",
      "----------------------------------------\n",
      "Current Model:[9, 30, 30], thr=0.3, lr=0.0001, batch_size=32, lr_decay=1\n",
      "average validation risk: 0.6\n",
      "----------------------------------------\n",
      "Current Model:[9, 30, 30], thr=0.3, lr=0.0001, batch_size=64, lr_decay=0\n",
      "average validation risk: 0.8\n",
      "----------------------------------------\n",
      "Current Model:[9, 30, 30], thr=0.3, lr=0.0001, batch_size=64, lr_decay=1\n",
      "average validation risk: 0.7\n",
      "----------------------------------------\n",
      "Current Model:[9, 30, 30], thr=0.3, lr=0.0001, batch_size=500, lr_decay=0\n",
      "average validation risk: 0.6\n",
      "----------------------------------------\n",
      "Current Model:[9, 30, 30], thr=0.3, lr=0.0001, batch_size=500, lr_decay=1\n",
      "average validation risk: 0.9\n",
      "----------------------------------------\n",
      "Current Model:[9, 30, 30], thr=0.3, lr=0.0001, batch_size=12, lr_decay=0\n",
      "average validation risk: 0.9\n",
      "----------------------------------------\n",
      "Current Model:[9, 30, 30], thr=0.3, lr=0.0001, batch_size=12, lr_decay=1\n",
      "average validation risk: 0.8\n",
      "----------------------------------------\n",
      "Current Model:[9, 30, 30], thr=0.3, lr=0.001, batch_size=32, lr_decay=0\n",
      "average validation risk: 0.9\n",
      "----------------------------------------\n",
      "Current Model:[9, 30, 30], thr=0.3, lr=0.001, batch_size=32, lr_decay=1\n",
      "average validation risk: 0.7\n",
      "----------------------------------------\n",
      "Current Model:[9, 30, 30], thr=0.3, lr=0.001, batch_size=64, lr_decay=0\n",
      "average validation risk: 0.7\n",
      "----------------------------------------\n",
      "Current Model:[9, 30, 30], thr=0.3, lr=0.001, batch_size=64, lr_decay=1\n",
      "average validation risk: 0.8\n",
      "----------------------------------------\n",
      "Current Model:[9, 30, 30], thr=0.3, lr=0.001, batch_size=500, lr_decay=0\n",
      "average validation risk: 0.7\n",
      "----------------------------------------\n",
      "Current Model:[9, 30, 30], thr=0.3, lr=0.001, batch_size=500, lr_decay=1\n",
      "average validation risk: 0.6\n",
      "----------------------------------------\n",
      "Current Model:[9, 30, 30], thr=0.3, lr=0.001, batch_size=12, lr_decay=0\n",
      "average validation risk: 0.7\n",
      "----------------------------------------\n",
      "Current Model:[9, 30, 30], thr=0.3, lr=0.001, batch_size=12, lr_decay=1\n",
      "average validation risk: 0.7\n",
      "----------------------------------------\n",
      "Current Model:[9, 30, 30], thr=0.3, lr=0.01, batch_size=32, lr_decay=0\n",
      "average validation risk: 0.7\n",
      "----------------------------------------\n",
      "Current Model:[9, 30, 30], thr=0.3, lr=0.01, batch_size=32, lr_decay=1\n",
      "average validation risk: 1.0\n",
      "----------------------------------------\n",
      "Current Model:[9, 30, 30], thr=0.3, lr=0.01, batch_size=64, lr_decay=0\n",
      "average validation risk: 0.7\n",
      "----------------------------------------\n",
      "Current Model:[9, 30, 30], thr=0.3, lr=0.01, batch_size=64, lr_decay=1\n",
      "average validation risk: 0.8\n",
      "----------------------------------------\n",
      "Current Model:[9, 30, 30], thr=0.3, lr=0.01, batch_size=500, lr_decay=0\n",
      "average validation risk: 0.9\n",
      "----------------------------------------\n",
      "Current Model:[9, 30, 30], thr=0.3, lr=0.01, batch_size=500, lr_decay=1\n",
      "average validation risk: 0.8\n",
      "----------------------------------------\n",
      "Current Model:[9, 30, 30], thr=0.3, lr=0.01, batch_size=12, lr_decay=0\n",
      "average validation risk: 0.8\n",
      "----------------------------------------\n",
      "Current Model:[9, 30, 30], thr=0.3, lr=0.01, batch_size=12, lr_decay=1\n",
      "average validation risk: 0.5\n",
      "----------------------------------------\n",
      "Current Model:[9, 30, 30], thr=0.3, lr=0.03, batch_size=32, lr_decay=0\n",
      "average validation risk: 0.7\n",
      "----------------------------------------\n",
      "Current Model:[9, 30, 30], thr=0.3, lr=0.03, batch_size=32, lr_decay=1\n",
      "average validation risk: 1.0\n",
      "----------------------------------------\n",
      "Current Model:[9, 30, 30], thr=0.3, lr=0.03, batch_size=64, lr_decay=0\n",
      "average validation risk: 0.6\n",
      "----------------------------------------\n",
      "Current Model:[9, 30, 30], thr=0.3, lr=0.03, batch_size=64, lr_decay=1\n",
      "average validation risk: 0.8\n",
      "----------------------------------------\n",
      "Current Model:[9, 30, 30], thr=0.3, lr=0.03, batch_size=500, lr_decay=0\n",
      "average validation risk: 0.7\n",
      "----------------------------------------\n",
      "Current Model:[9, 30, 30], thr=0.3, lr=0.03, batch_size=500, lr_decay=1\n",
      "average validation risk: 0.6\n",
      "----------------------------------------\n",
      "Current Model:[9, 30, 30], thr=0.3, lr=0.03, batch_size=12, lr_decay=0\n",
      "average validation risk: 0.7\n",
      "----------------------------------------\n",
      "Current Model:[9, 30, 30], thr=0.3, lr=0.03, batch_size=12, lr_decay=1\n",
      "average validation risk: 0.9\n",
      "----------------------------------------\n",
      "Current Model:[9, 30, 30], thr=0.4, lr=0.0001, batch_size=32, lr_decay=0\n",
      "average validation risk: 0.7\n",
      "----------------------------------------\n",
      "Current Model:[9, 30, 30], thr=0.4, lr=0.0001, batch_size=32, lr_decay=1\n",
      "average validation risk: 0.7\n",
      "----------------------------------------\n",
      "Current Model:[9, 30, 30], thr=0.4, lr=0.0001, batch_size=64, lr_decay=0\n",
      "average validation risk: 0.8\n",
      "----------------------------------------\n",
      "Current Model:[9, 30, 30], thr=0.4, lr=0.0001, batch_size=64, lr_decay=1\n",
      "average validation risk: 0.9\n",
      "----------------------------------------\n",
      "Current Model:[9, 30, 30], thr=0.4, lr=0.0001, batch_size=500, lr_decay=0\n",
      "average validation risk: 0.8\n",
      "----------------------------------------\n",
      "Current Model:[9, 30, 30], thr=0.4, lr=0.0001, batch_size=500, lr_decay=1\n",
      "average validation risk: 0.7\n",
      "----------------------------------------\n",
      "Current Model:[9, 30, 30], thr=0.4, lr=0.0001, batch_size=12, lr_decay=0\n",
      "average validation risk: 0.8\n",
      "----------------------------------------\n",
      "Current Model:[9, 30, 30], thr=0.4, lr=0.0001, batch_size=12, lr_decay=1\n",
      "average validation risk: 0.8\n",
      "----------------------------------------\n",
      "Current Model:[9, 30, 30], thr=0.4, lr=0.001, batch_size=32, lr_decay=0\n",
      "average validation risk: 0.7\n",
      "----------------------------------------\n",
      "Current Model:[9, 30, 30], thr=0.4, lr=0.001, batch_size=32, lr_decay=1\n",
      "average validation risk: 0.9\n",
      "----------------------------------------\n",
      "Current Model:[9, 30, 30], thr=0.4, lr=0.001, batch_size=64, lr_decay=0\n",
      "average validation risk: 0.9\n",
      "----------------------------------------\n",
      "Current Model:[9, 30, 30], thr=0.4, lr=0.001, batch_size=64, lr_decay=1\n",
      "average validation risk: 0.9\n",
      "----------------------------------------\n",
      "Current Model:[9, 30, 30], thr=0.4, lr=0.001, batch_size=500, lr_decay=0\n",
      "average validation risk: 0.8\n",
      "----------------------------------------\n",
      "Current Model:[9, 30, 30], thr=0.4, lr=0.001, batch_size=500, lr_decay=1\n",
      "average validation risk: 0.6\n",
      "----------------------------------------\n",
      "Current Model:[9, 30, 30], thr=0.4, lr=0.001, batch_size=12, lr_decay=0\n",
      "average validation risk: 0.8\n",
      "----------------------------------------\n",
      "Current Model:[9, 30, 30], thr=0.4, lr=0.001, batch_size=12, lr_decay=1\n",
      "average validation risk: 0.5\n",
      "----------------------------------------\n",
      "Current Model:[9, 30, 30], thr=0.4, lr=0.01, batch_size=32, lr_decay=0\n",
      "average validation risk: 0.8\n",
      "----------------------------------------\n",
      "Current Model:[9, 30, 30], thr=0.4, lr=0.01, batch_size=32, lr_decay=1\n",
      "average validation risk: 0.8\n",
      "----------------------------------------\n",
      "Current Model:[9, 30, 30], thr=0.4, lr=0.01, batch_size=64, lr_decay=0\n",
      "average validation risk: 0.7\n",
      "----------------------------------------\n",
      "Current Model:[9, 30, 30], thr=0.4, lr=0.01, batch_size=64, lr_decay=1\n",
      "average validation risk: 0.8\n",
      "----------------------------------------\n",
      "Current Model:[9, 30, 30], thr=0.4, lr=0.01, batch_size=500, lr_decay=0\n",
      "average validation risk: 1.0\n",
      "----------------------------------------\n",
      "Current Model:[9, 30, 30], thr=0.4, lr=0.01, batch_size=500, lr_decay=1\n",
      "average validation risk: 0.8\n",
      "----------------------------------------\n",
      "Current Model:[9, 30, 30], thr=0.4, lr=0.01, batch_size=12, lr_decay=0\n",
      "average validation risk: 0.7\n",
      "----------------------------------------\n",
      "Current Model:[9, 30, 30], thr=0.4, lr=0.01, batch_size=12, lr_decay=1\n",
      "average validation risk: 0.7\n",
      "----------------------------------------\n",
      "Current Model:[9, 30, 30], thr=0.4, lr=0.03, batch_size=32, lr_decay=0\n",
      "average validation risk: 0.8\n",
      "----------------------------------------\n",
      "Current Model:[9, 30, 30], thr=0.4, lr=0.03, batch_size=32, lr_decay=1\n",
      "average validation risk: 0.8\n",
      "----------------------------------------\n",
      "Current Model:[9, 30, 30], thr=0.4, lr=0.03, batch_size=64, lr_decay=0\n",
      "average validation risk: 0.5\n",
      "----------------------------------------\n",
      "Current Model:[9, 30, 30], thr=0.4, lr=0.03, batch_size=64, lr_decay=1\n",
      "average validation risk: 0.7\n",
      "----------------------------------------\n",
      "Current Model:[9, 30, 30], thr=0.4, lr=0.03, batch_size=500, lr_decay=0\n",
      "average validation risk: 0.9\n",
      "----------------------------------------\n",
      "Current Model:[9, 30, 30], thr=0.4, lr=0.03, batch_size=500, lr_decay=1\n",
      "average validation risk: 0.9\n",
      "----------------------------------------\n",
      "Current Model:[9, 30, 30], thr=0.4, lr=0.03, batch_size=12, lr_decay=0\n",
      "average validation risk: 0.9\n",
      "----------------------------------------\n",
      "Current Model:[9, 30, 30], thr=0.4, lr=0.03, batch_size=12, lr_decay=1\n",
      "average validation risk: 0.7\n",
      "----------------------------------------\n",
      "Current Model:[9, 30, 30], thr=0.5, lr=0.0001, batch_size=32, lr_decay=0\n",
      "average validation risk: 0.6\n",
      "----------------------------------------\n",
      "Current Model:[9, 30, 30], thr=0.5, lr=0.0001, batch_size=32, lr_decay=1\n",
      "average validation risk: 1.0\n",
      "----------------------------------------\n",
      "Current Model:[9, 30, 30], thr=0.5, lr=0.0001, batch_size=64, lr_decay=0\n",
      "average validation risk: 0.8\n",
      "----------------------------------------\n",
      "Current Model:[9, 30, 30], thr=0.5, lr=0.0001, batch_size=64, lr_decay=1\n",
      "average validation risk: 0.9\n",
      "----------------------------------------\n",
      "Current Model:[9, 30, 30], thr=0.5, lr=0.0001, batch_size=500, lr_decay=0\n",
      "average validation risk: 1.0\n",
      "----------------------------------------\n",
      "Current Model:[9, 30, 30], thr=0.5, lr=0.0001, batch_size=500, lr_decay=1\n",
      "average validation risk: 1.0\n",
      "----------------------------------------\n",
      "Current Model:[9, 30, 30], thr=0.5, lr=0.0001, batch_size=12, lr_decay=0\n",
      "average validation risk: 0.8\n",
      "----------------------------------------\n",
      "Current Model:[9, 30, 30], thr=0.5, lr=0.0001, batch_size=12, lr_decay=1\n",
      "average validation risk: 0.7\n",
      "----------------------------------------\n",
      "Current Model:[9, 30, 30], thr=0.5, lr=0.001, batch_size=32, lr_decay=0\n",
      "average validation risk: 0.8\n",
      "----------------------------------------\n",
      "Current Model:[9, 30, 30], thr=0.5, lr=0.001, batch_size=32, lr_decay=1\n",
      "average validation risk: 0.8\n",
      "----------------------------------------\n",
      "Current Model:[9, 30, 30], thr=0.5, lr=0.001, batch_size=64, lr_decay=0\n",
      "average validation risk: 0.8\n",
      "----------------------------------------\n",
      "Current Model:[9, 30, 30], thr=0.5, lr=0.001, batch_size=64, lr_decay=1\n",
      "average validation risk: 0.7\n",
      "----------------------------------------\n",
      "Current Model:[9, 30, 30], thr=0.5, lr=0.001, batch_size=500, lr_decay=0\n",
      "average validation risk: 0.8\n",
      "----------------------------------------\n",
      "Current Model:[9, 30, 30], thr=0.5, lr=0.001, batch_size=500, lr_decay=1\n",
      "average validation risk: 0.7\n",
      "----------------------------------------\n",
      "Current Model:[9, 30, 30], thr=0.5, lr=0.001, batch_size=12, lr_decay=0\n",
      "average validation risk: 0.7\n",
      "----------------------------------------\n",
      "Current Model:[9, 30, 30], thr=0.5, lr=0.001, batch_size=12, lr_decay=1\n",
      "average validation risk: 0.5\n",
      "----------------------------------------\n",
      "Current Model:[9, 30, 30], thr=0.5, lr=0.01, batch_size=32, lr_decay=0\n",
      "average validation risk: 0.7\n",
      "----------------------------------------\n",
      "Current Model:[9, 30, 30], thr=0.5, lr=0.01, batch_size=32, lr_decay=1\n",
      "average validation risk: 1.0\n",
      "----------------------------------------\n",
      "Current Model:[9, 30, 30], thr=0.5, lr=0.01, batch_size=64, lr_decay=0\n",
      "average validation risk: 0.8\n",
      "----------------------------------------\n",
      "Current Model:[9, 30, 30], thr=0.5, lr=0.01, batch_size=64, lr_decay=1\n",
      "average validation risk: 0.8\n",
      "----------------------------------------\n",
      "Current Model:[9, 30, 30], thr=0.5, lr=0.01, batch_size=500, lr_decay=0\n",
      "average validation risk: 0.7\n",
      "----------------------------------------\n",
      "Current Model:[9, 30, 30], thr=0.5, lr=0.01, batch_size=500, lr_decay=1\n",
      "average validation risk: 0.7\n",
      "----------------------------------------\n",
      "Current Model:[9, 30, 30], thr=0.5, lr=0.01, batch_size=12, lr_decay=0\n",
      "average validation risk: 0.5\n",
      "----------------------------------------\n",
      "Current Model:[9, 30, 30], thr=0.5, lr=0.01, batch_size=12, lr_decay=1\n",
      "average validation risk: 0.7\n",
      "----------------------------------------\n",
      "Current Model:[9, 30, 30], thr=0.5, lr=0.03, batch_size=32, lr_decay=0\n",
      "average validation risk: 0.7\n",
      "----------------------------------------\n",
      "Current Model:[9, 30, 30], thr=0.5, lr=0.03, batch_size=32, lr_decay=1\n",
      "average validation risk: 0.5\n",
      "----------------------------------------\n",
      "Current Model:[9, 30, 30], thr=0.5, lr=0.03, batch_size=64, lr_decay=0\n",
      "average validation risk: 0.8\n",
      "----------------------------------------\n",
      "Current Model:[9, 30, 30], thr=0.5, lr=0.03, batch_size=64, lr_decay=1\n",
      "average validation risk: 1.0\n",
      "----------------------------------------\n",
      "Current Model:[9, 30, 30], thr=0.5, lr=0.03, batch_size=500, lr_decay=0\n",
      "average validation risk: 0.6\n",
      "----------------------------------------\n",
      "Current Model:[9, 30, 30], thr=0.5, lr=0.03, batch_size=500, lr_decay=1\n",
      "average validation risk: 0.7\n",
      "----------------------------------------\n",
      "Current Model:[9, 30, 30], thr=0.5, lr=0.03, batch_size=12, lr_decay=0\n",
      "average validation risk: 0.6\n",
      "----------------------------------------\n",
      "Current Model:[9, 30, 30], thr=0.5, lr=0.03, batch_size=12, lr_decay=1\n",
      "average validation risk: 0.6\n",
      "----------------------------------------\n",
      "Current Model:[9, 30, 30], thr=0.6, lr=0.0001, batch_size=32, lr_decay=0\n",
      "average validation risk: 0.8\n",
      "----------------------------------------\n",
      "Current Model:[9, 30, 30], thr=0.6, lr=0.0001, batch_size=32, lr_decay=1\n",
      "average validation risk: 0.6\n",
      "----------------------------------------\n",
      "Current Model:[9, 30, 30], thr=0.6, lr=0.0001, batch_size=64, lr_decay=0\n",
      "average validation risk: 0.7\n",
      "----------------------------------------\n",
      "Current Model:[9, 30, 30], thr=0.6, lr=0.0001, batch_size=64, lr_decay=1\n",
      "average validation risk: 0.6\n",
      "----------------------------------------\n",
      "Current Model:[9, 30, 30], thr=0.6, lr=0.0001, batch_size=500, lr_decay=0\n",
      "average validation risk: 0.9\n",
      "----------------------------------------\n",
      "Current Model:[9, 30, 30], thr=0.6, lr=0.0001, batch_size=500, lr_decay=1\n",
      "average validation risk: 0.8\n",
      "----------------------------------------\n",
      "Current Model:[9, 30, 30], thr=0.6, lr=0.0001, batch_size=12, lr_decay=0\n",
      "average validation risk: 0.7\n",
      "----------------------------------------\n",
      "Current Model:[9, 30, 30], thr=0.6, lr=0.0001, batch_size=12, lr_decay=1\n",
      "average validation risk: 0.5\n",
      "----------------------------------------\n",
      "Current Model:[9, 30, 30], thr=0.6, lr=0.001, batch_size=32, lr_decay=0\n",
      "average validation risk: 0.9\n",
      "----------------------------------------\n",
      "Current Model:[9, 30, 30], thr=0.6, lr=0.001, batch_size=32, lr_decay=1\n",
      "average validation risk: 0.9\n",
      "----------------------------------------\n",
      "Current Model:[9, 30, 30], thr=0.6, lr=0.001, batch_size=64, lr_decay=0\n",
      "average validation risk: 0.6\n",
      "----------------------------------------\n",
      "Current Model:[9, 30, 30], thr=0.6, lr=0.001, batch_size=64, lr_decay=1\n",
      "average validation risk: 0.7\n",
      "----------------------------------------\n",
      "Current Model:[9, 30, 30], thr=0.6, lr=0.001, batch_size=500, lr_decay=0\n",
      "average validation risk: 0.8\n",
      "----------------------------------------\n",
      "Current Model:[9, 30, 30], thr=0.6, lr=0.001, batch_size=500, lr_decay=1\n",
      "average validation risk: 0.9\n",
      "----------------------------------------\n",
      "Current Model:[9, 30, 30], thr=0.6, lr=0.001, batch_size=12, lr_decay=0\n",
      "average validation risk: 0.8\n",
      "----------------------------------------\n",
      "Current Model:[9, 30, 30], thr=0.6, lr=0.001, batch_size=12, lr_decay=1\n",
      "average validation risk: 0.8\n",
      "----------------------------------------\n",
      "Current Model:[9, 30, 30], thr=0.6, lr=0.01, batch_size=32, lr_decay=0\n",
      "average validation risk: 0.9\n",
      "----------------------------------------\n",
      "Current Model:[9, 30, 30], thr=0.6, lr=0.01, batch_size=32, lr_decay=1\n",
      "average validation risk: 0.8\n",
      "----------------------------------------\n",
      "Current Model:[9, 30, 30], thr=0.6, lr=0.01, batch_size=64, lr_decay=0\n",
      "average validation risk: 0.7\n",
      "----------------------------------------\n",
      "Current Model:[9, 30, 30], thr=0.6, lr=0.01, batch_size=64, lr_decay=1\n",
      "average validation risk: 0.8\n",
      "----------------------------------------\n",
      "Current Model:[9, 30, 30], thr=0.6, lr=0.01, batch_size=500, lr_decay=0\n",
      "average validation risk: 0.8\n",
      "----------------------------------------\n",
      "Current Model:[9, 30, 30], thr=0.6, lr=0.01, batch_size=500, lr_decay=1\n",
      "average validation risk: 0.5\n",
      "----------------------------------------\n",
      "Current Model:[9, 30, 30], thr=0.6, lr=0.01, batch_size=12, lr_decay=0\n",
      "average validation risk: 0.8\n",
      "----------------------------------------\n",
      "Current Model:[9, 30, 30], thr=0.6, lr=0.01, batch_size=12, lr_decay=1\n",
      "average validation risk: 0.7\n",
      "----------------------------------------\n",
      "Current Model:[9, 30, 30], thr=0.6, lr=0.03, batch_size=32, lr_decay=0\n",
      "average validation risk: 0.8\n",
      "----------------------------------------\n",
      "Current Model:[9, 30, 30], thr=0.6, lr=0.03, batch_size=32, lr_decay=1\n",
      "average validation risk: 0.8\n",
      "----------------------------------------\n",
      "Current Model:[9, 30, 30], thr=0.6, lr=0.03, batch_size=64, lr_decay=0\n",
      "average validation risk: 0.9\n",
      "----------------------------------------\n",
      "Current Model:[9, 30, 30], thr=0.6, lr=0.03, batch_size=64, lr_decay=1\n",
      "average validation risk: 0.6\n",
      "----------------------------------------\n",
      "Current Model:[9, 30, 30], thr=0.6, lr=0.03, batch_size=500, lr_decay=0\n",
      "average validation risk: 0.8\n",
      "----------------------------------------\n",
      "Current Model:[9, 30, 30], thr=0.6, lr=0.03, batch_size=500, lr_decay=1\n",
      "average validation risk: 0.4\n",
      "----------------------------------------\n",
      "Current Model:[9, 30, 30], thr=0.6, lr=0.03, batch_size=12, lr_decay=0\n",
      "average validation risk: 0.5\n",
      "----------------------------------------\n",
      "Current Model:[9, 30, 30], thr=0.6, lr=0.03, batch_size=12, lr_decay=1\n",
      "average validation risk: 0.6\n",
      "----------------------------------------\n",
      "Current Model:[9, 30, 30], thr=0.7, lr=0.0001, batch_size=32, lr_decay=0\n",
      "average validation risk: 0.9\n",
      "----------------------------------------\n",
      "Current Model:[9, 30, 30], thr=0.7, lr=0.0001, batch_size=32, lr_decay=1\n",
      "average validation risk: 0.8\n",
      "----------------------------------------\n",
      "Current Model:[9, 30, 30], thr=0.7, lr=0.0001, batch_size=64, lr_decay=0\n",
      "average validation risk: 0.9\n",
      "----------------------------------------\n",
      "Current Model:[9, 30, 30], thr=0.7, lr=0.0001, batch_size=64, lr_decay=1\n",
      "average validation risk: 0.6\n",
      "----------------------------------------\n",
      "Current Model:[9, 30, 30], thr=0.7, lr=0.0001, batch_size=500, lr_decay=0\n",
      "average validation risk: 0.6\n",
      "----------------------------------------\n",
      "Current Model:[9, 30, 30], thr=0.7, lr=0.0001, batch_size=500, lr_decay=1\n",
      "average validation risk: 1.0\n",
      "----------------------------------------\n",
      "Current Model:[9, 30, 30], thr=0.7, lr=0.0001, batch_size=12, lr_decay=0\n",
      "average validation risk: 1.0\n",
      "----------------------------------------\n",
      "Current Model:[9, 30, 30], thr=0.7, lr=0.0001, batch_size=12, lr_decay=1\n",
      "average validation risk: 0.8\n",
      "----------------------------------------\n",
      "Current Model:[9, 30, 30], thr=0.7, lr=0.001, batch_size=32, lr_decay=0\n",
      "average validation risk: 0.9\n",
      "----------------------------------------\n",
      "Current Model:[9, 30, 30], thr=0.7, lr=0.001, batch_size=32, lr_decay=1\n",
      "average validation risk: 0.7\n",
      "----------------------------------------\n",
      "Current Model:[9, 30, 30], thr=0.7, lr=0.001, batch_size=64, lr_decay=0\n",
      "average validation risk: 0.8\n",
      "----------------------------------------\n",
      "Current Model:[9, 30, 30], thr=0.7, lr=0.001, batch_size=64, lr_decay=1\n",
      "average validation risk: 0.6\n",
      "----------------------------------------\n",
      "Current Model:[9, 30, 30], thr=0.7, lr=0.001, batch_size=500, lr_decay=0\n",
      "average validation risk: 1.0\n",
      "----------------------------------------\n",
      "Current Model:[9, 30, 30], thr=0.7, lr=0.001, batch_size=500, lr_decay=1\n",
      "average validation risk: 0.7\n",
      "----------------------------------------\n",
      "Current Model:[9, 30, 30], thr=0.7, lr=0.001, batch_size=12, lr_decay=0\n",
      "average validation risk: 0.6\n",
      "----------------------------------------\n",
      "Current Model:[9, 30, 30], thr=0.7, lr=0.001, batch_size=12, lr_decay=1\n",
      "average validation risk: 0.7\n",
      "----------------------------------------\n",
      "Current Model:[9, 30, 30], thr=0.7, lr=0.01, batch_size=32, lr_decay=0\n",
      "average validation risk: 1.0\n",
      "----------------------------------------\n",
      "Current Model:[9, 30, 30], thr=0.7, lr=0.01, batch_size=32, lr_decay=1\n",
      "average validation risk: 0.7\n",
      "----------------------------------------\n",
      "Current Model:[9, 30, 30], thr=0.7, lr=0.01, batch_size=64, lr_decay=0\n",
      "average validation risk: 0.4\n",
      "----------------------------------------\n",
      "Current Model:[9, 30, 30], thr=0.7, lr=0.01, batch_size=64, lr_decay=1\n",
      "average validation risk: 1.0\n",
      "----------------------------------------\n",
      "Current Model:[9, 30, 30], thr=0.7, lr=0.01, batch_size=500, lr_decay=0\n",
      "average validation risk: 0.7\n",
      "----------------------------------------\n",
      "Current Model:[9, 30, 30], thr=0.7, lr=0.01, batch_size=500, lr_decay=1\n",
      "average validation risk: 0.6\n",
      "----------------------------------------\n",
      "Current Model:[9, 30, 30], thr=0.7, lr=0.01, batch_size=12, lr_decay=0\n",
      "average validation risk: 0.8\n",
      "----------------------------------------\n",
      "Current Model:[9, 30, 30], thr=0.7, lr=0.01, batch_size=12, lr_decay=1\n",
      "average validation risk: 0.8\n",
      "----------------------------------------\n",
      "Current Model:[9, 30, 30], thr=0.7, lr=0.03, batch_size=32, lr_decay=0\n",
      "average validation risk: 0.6\n",
      "----------------------------------------\n",
      "Current Model:[9, 30, 30], thr=0.7, lr=0.03, batch_size=32, lr_decay=1\n",
      "average validation risk: 0.7\n",
      "----------------------------------------\n",
      "Current Model:[9, 30, 30], thr=0.7, lr=0.03, batch_size=64, lr_decay=0\n",
      "average validation risk: 0.8\n",
      "----------------------------------------\n",
      "Current Model:[9, 30, 30], thr=0.7, lr=0.03, batch_size=64, lr_decay=1\n",
      "average validation risk: 0.7\n",
      "----------------------------------------\n",
      "Current Model:[9, 30, 30], thr=0.7, lr=0.03, batch_size=500, lr_decay=0\n",
      "average validation risk: 0.9\n",
      "----------------------------------------\n",
      "Current Model:[9, 30, 30], thr=0.7, lr=0.03, batch_size=500, lr_decay=1\n",
      "average validation risk: 0.7\n",
      "----------------------------------------\n",
      "Current Model:[9, 30, 30], thr=0.7, lr=0.03, batch_size=12, lr_decay=0\n",
      "average validation risk: 0.9\n",
      "----------------------------------------\n",
      "Current Model:[9, 30, 30], thr=0.7, lr=0.03, batch_size=12, lr_decay=1\n",
      "average validation risk: 0.5\n",
      "----------------------------------------\n",
      "Current Model:[9, 30, 30], thr=0.8, lr=0.0001, batch_size=32, lr_decay=0\n",
      "average validation risk: 0.8\n",
      "----------------------------------------\n",
      "Current Model:[9, 30, 30], thr=0.8, lr=0.0001, batch_size=32, lr_decay=1\n",
      "average validation risk: 0.4\n",
      "----------------------------------------\n",
      "Current Model:[9, 30, 30], thr=0.8, lr=0.0001, batch_size=64, lr_decay=0\n",
      "average validation risk: 0.7\n",
      "----------------------------------------\n",
      "Current Model:[9, 30, 30], thr=0.8, lr=0.0001, batch_size=64, lr_decay=1\n",
      "average validation risk: 0.9\n",
      "----------------------------------------\n",
      "Current Model:[9, 30, 30], thr=0.8, lr=0.0001, batch_size=500, lr_decay=0\n",
      "average validation risk: 0.8\n",
      "----------------------------------------\n",
      "Current Model:[9, 30, 30], thr=0.8, lr=0.0001, batch_size=500, lr_decay=1\n",
      "average validation risk: 0.6\n",
      "----------------------------------------\n",
      "Current Model:[9, 30, 30], thr=0.8, lr=0.0001, batch_size=12, lr_decay=0\n",
      "average validation risk: 0.8\n",
      "----------------------------------------\n",
      "Current Model:[9, 30, 30], thr=0.8, lr=0.0001, batch_size=12, lr_decay=1\n",
      "average validation risk: 0.9\n",
      "----------------------------------------\n",
      "Current Model:[9, 30, 30], thr=0.8, lr=0.001, batch_size=32, lr_decay=0\n",
      "average validation risk: 0.9\n",
      "----------------------------------------\n",
      "Current Model:[9, 30, 30], thr=0.8, lr=0.001, batch_size=32, lr_decay=1\n",
      "average validation risk: 0.8\n",
      "----------------------------------------\n",
      "Current Model:[9, 30, 30], thr=0.8, lr=0.001, batch_size=64, lr_decay=0\n",
      "average validation risk: 0.6\n",
      "----------------------------------------\n",
      "Current Model:[9, 30, 30], thr=0.8, lr=0.001, batch_size=64, lr_decay=1\n",
      "average validation risk: 1.0\n",
      "----------------------------------------\n",
      "Current Model:[9, 30, 30], thr=0.8, lr=0.001, batch_size=500, lr_decay=0\n",
      "average validation risk: 0.9\n",
      "----------------------------------------\n",
      "Current Model:[9, 30, 30], thr=0.8, lr=0.001, batch_size=500, lr_decay=1\n",
      "average validation risk: 0.8\n",
      "----------------------------------------\n",
      "Current Model:[9, 30, 30], thr=0.8, lr=0.001, batch_size=12, lr_decay=0\n",
      "average validation risk: 0.7\n",
      "----------------------------------------\n",
      "Current Model:[9, 30, 30], thr=0.8, lr=0.001, batch_size=12, lr_decay=1\n",
      "average validation risk: 0.7\n",
      "----------------------------------------\n",
      "Current Model:[9, 30, 30], thr=0.8, lr=0.01, batch_size=32, lr_decay=0\n",
      "average validation risk: 0.6\n",
      "----------------------------------------\n",
      "Current Model:[9, 30, 30], thr=0.8, lr=0.01, batch_size=32, lr_decay=1\n",
      "average validation risk: 0.7\n",
      "----------------------------------------\n",
      "Current Model:[9, 30, 30], thr=0.8, lr=0.01, batch_size=64, lr_decay=0\n",
      "average validation risk: 0.8\n",
      "----------------------------------------\n",
      "Current Model:[9, 30, 30], thr=0.8, lr=0.01, batch_size=64, lr_decay=1\n",
      "average validation risk: 0.8\n",
      "----------------------------------------\n",
      "Current Model:[9, 30, 30], thr=0.8, lr=0.01, batch_size=500, lr_decay=0\n",
      "average validation risk: 0.9\n",
      "----------------------------------------\n",
      "Current Model:[9, 30, 30], thr=0.8, lr=0.01, batch_size=500, lr_decay=1\n",
      "average validation risk: 0.6\n",
      "----------------------------------------\n",
      "Current Model:[9, 30, 30], thr=0.8, lr=0.01, batch_size=12, lr_decay=0\n",
      "average validation risk: 0.7\n",
      "----------------------------------------\n",
      "Current Model:[9, 30, 30], thr=0.8, lr=0.01, batch_size=12, lr_decay=1\n",
      "average validation risk: 0.8\n",
      "----------------------------------------\n",
      "Current Model:[9, 30, 30], thr=0.8, lr=0.03, batch_size=32, lr_decay=0\n",
      "average validation risk: 0.8\n",
      "----------------------------------------\n",
      "Current Model:[9, 30, 30], thr=0.8, lr=0.03, batch_size=32, lr_decay=1\n",
      "average validation risk: 0.7\n",
      "----------------------------------------\n",
      "Current Model:[9, 30, 30], thr=0.8, lr=0.03, batch_size=64, lr_decay=0\n",
      "average validation risk: 0.8\n",
      "----------------------------------------\n",
      "Current Model:[9, 30, 30], thr=0.8, lr=0.03, batch_size=64, lr_decay=1\n",
      "average validation risk: 0.4\n",
      "----------------------------------------\n",
      "Current Model:[9, 30, 30], thr=0.8, lr=0.03, batch_size=500, lr_decay=0\n",
      "average validation risk: 0.9\n",
      "----------------------------------------\n",
      "Current Model:[9, 30, 30], thr=0.8, lr=0.03, batch_size=500, lr_decay=1\n",
      "average validation risk: 0.9\n",
      "----------------------------------------\n",
      "Current Model:[9, 30, 30], thr=0.8, lr=0.03, batch_size=12, lr_decay=0\n",
      "average validation risk: 0.7\n",
      "----------------------------------------\n",
      "Current Model:[9, 30, 30], thr=0.8, lr=0.03, batch_size=12, lr_decay=1\n",
      "average validation risk: 0.8\n",
      "----------------------------------------\n",
      "Current Model:[9, 30, 30], thr=1, lr=0.0001, batch_size=32, lr_decay=0\n",
      "average validation risk: 0.7\n",
      "----------------------------------------\n",
      "Current Model:[9, 30, 30], thr=1, lr=0.0001, batch_size=32, lr_decay=1\n",
      "average validation risk: 0.6\n",
      "----------------------------------------\n",
      "Current Model:[9, 30, 30], thr=1, lr=0.0001, batch_size=64, lr_decay=0\n",
      "average validation risk: 0.6\n",
      "----------------------------------------\n",
      "Current Model:[9, 30, 30], thr=1, lr=0.0001, batch_size=64, lr_decay=1\n",
      "average validation risk: 0.7\n",
      "----------------------------------------\n",
      "Current Model:[9, 30, 30], thr=1, lr=0.0001, batch_size=500, lr_decay=0\n",
      "average validation risk: 0.6\n",
      "----------------------------------------\n",
      "Current Model:[9, 30, 30], thr=1, lr=0.0001, batch_size=500, lr_decay=1\n",
      "average validation risk: 0.8\n",
      "----------------------------------------\n",
      "Current Model:[9, 30, 30], thr=1, lr=0.0001, batch_size=12, lr_decay=0\n",
      "average validation risk: 0.7\n",
      "----------------------------------------\n",
      "Current Model:[9, 30, 30], thr=1, lr=0.0001, batch_size=12, lr_decay=1\n",
      "average validation risk: 0.4\n",
      "----------------------------------------\n",
      "Current Model:[9, 30, 30], thr=1, lr=0.001, batch_size=32, lr_decay=0\n",
      "average validation risk: 0.7\n",
      "----------------------------------------\n",
      "Current Model:[9, 30, 30], thr=1, lr=0.001, batch_size=32, lr_decay=1\n",
      "average validation risk: 0.9\n",
      "----------------------------------------\n",
      "Current Model:[9, 30, 30], thr=1, lr=0.001, batch_size=64, lr_decay=0\n",
      "average validation risk: 0.6\n",
      "----------------------------------------\n",
      "Current Model:[9, 30, 30], thr=1, lr=0.001, batch_size=64, lr_decay=1\n",
      "average validation risk: 0.5\n",
      "----------------------------------------\n",
      "Current Model:[9, 30, 30], thr=1, lr=0.001, batch_size=500, lr_decay=0\n",
      "average validation risk: 0.5\n",
      "----------------------------------------\n",
      "Current Model:[9, 30, 30], thr=1, lr=0.001, batch_size=500, lr_decay=1\n",
      "average validation risk: 0.8\n",
      "----------------------------------------\n",
      "Current Model:[9, 30, 30], thr=1, lr=0.001, batch_size=12, lr_decay=0\n",
      "average validation risk: 0.8\n",
      "----------------------------------------\n",
      "Current Model:[9, 30, 30], thr=1, lr=0.001, batch_size=12, lr_decay=1\n",
      "average validation risk: 0.7\n",
      "----------------------------------------\n",
      "Current Model:[9, 30, 30], thr=1, lr=0.01, batch_size=32, lr_decay=0\n",
      "average validation risk: 0.6\n",
      "----------------------------------------\n",
      "Current Model:[9, 30, 30], thr=1, lr=0.01, batch_size=32, lr_decay=1\n",
      "average validation risk: 0.8\n",
      "----------------------------------------\n",
      "Current Model:[9, 30, 30], thr=1, lr=0.01, batch_size=64, lr_decay=0\n",
      "average validation risk: 0.5\n",
      "----------------------------------------\n",
      "Current Model:[9, 30, 30], thr=1, lr=0.01, batch_size=64, lr_decay=1\n",
      "average validation risk: 0.7\n",
      "----------------------------------------\n",
      "Current Model:[9, 30, 30], thr=1, lr=0.01, batch_size=500, lr_decay=0\n",
      "average validation risk: 0.9\n",
      "----------------------------------------\n",
      "Current Model:[9, 30, 30], thr=1, lr=0.01, batch_size=500, lr_decay=1\n",
      "average validation risk: 0.7\n",
      "----------------------------------------\n",
      "Current Model:[9, 30, 30], thr=1, lr=0.01, batch_size=12, lr_decay=0\n",
      "average validation risk: 0.9\n",
      "----------------------------------------\n",
      "Current Model:[9, 30, 30], thr=1, lr=0.01, batch_size=12, lr_decay=1\n",
      "average validation risk: 0.9\n",
      "----------------------------------------\n",
      "Current Model:[9, 30, 30], thr=1, lr=0.03, batch_size=32, lr_decay=0\n",
      "average validation risk: 0.7\n",
      "----------------------------------------\n",
      "Current Model:[9, 30, 30], thr=1, lr=0.03, batch_size=32, lr_decay=1\n",
      "average validation risk: 0.8\n",
      "----------------------------------------\n",
      "Current Model:[9, 30, 30], thr=1, lr=0.03, batch_size=64, lr_decay=0\n",
      "average validation risk: 0.8\n",
      "----------------------------------------\n",
      "Current Model:[9, 30, 30], thr=1, lr=0.03, batch_size=64, lr_decay=1\n",
      "average validation risk: 0.7\n",
      "----------------------------------------\n",
      "Current Model:[9, 30, 30], thr=1, lr=0.03, batch_size=500, lr_decay=0\n",
      "average validation risk: 0.6\n",
      "----------------------------------------\n",
      "Current Model:[9, 30, 30], thr=1, lr=0.03, batch_size=500, lr_decay=1\n",
      "average validation risk: 0.8\n",
      "----------------------------------------\n",
      "Current Model:[9, 30, 30], thr=1, lr=0.03, batch_size=12, lr_decay=0\n",
      "average validation risk: 0.5\n",
      "----------------------------------------\n",
      "Current Model:[9, 30, 30], thr=1, lr=0.03, batch_size=12, lr_decay=1\n",
      "average validation risk: 1.0\n",
      "----------------------------------------\n",
      "Current Model:[9, 30, 30], thr=3, lr=0.0001, batch_size=32, lr_decay=0\n",
      "average validation risk: 0.7\n",
      "----------------------------------------\n",
      "Current Model:[9, 30, 30], thr=3, lr=0.0001, batch_size=32, lr_decay=1\n",
      "average validation risk: 0.7\n",
      "----------------------------------------\n",
      "Current Model:[9, 30, 30], thr=3, lr=0.0001, batch_size=64, lr_decay=0\n",
      "average validation risk: 0.8\n",
      "----------------------------------------\n",
      "Current Model:[9, 30, 30], thr=3, lr=0.0001, batch_size=64, lr_decay=1\n",
      "average validation risk: 1.0\n",
      "----------------------------------------\n",
      "Current Model:[9, 30, 30], thr=3, lr=0.0001, batch_size=500, lr_decay=0\n",
      "average validation risk: 0.7\n",
      "----------------------------------------\n",
      "Current Model:[9, 30, 30], thr=3, lr=0.0001, batch_size=500, lr_decay=1\n",
      "average validation risk: 0.8\n",
      "----------------------------------------\n",
      "Current Model:[9, 30, 30], thr=3, lr=0.0001, batch_size=12, lr_decay=0\n",
      "average validation risk: 0.9\n",
      "----------------------------------------\n",
      "Current Model:[9, 30, 30], thr=3, lr=0.0001, batch_size=12, lr_decay=1\n",
      "average validation risk: 0.8\n",
      "----------------------------------------\n",
      "Current Model:[9, 30, 30], thr=3, lr=0.001, batch_size=32, lr_decay=0\n",
      "average validation risk: 0.8\n",
      "----------------------------------------\n",
      "Current Model:[9, 30, 30], thr=3, lr=0.001, batch_size=32, lr_decay=1\n",
      "average validation risk: 0.7\n",
      "----------------------------------------\n",
      "Current Model:[9, 30, 30], thr=3, lr=0.001, batch_size=64, lr_decay=0\n",
      "average validation risk: 0.8\n",
      "----------------------------------------\n",
      "Current Model:[9, 30, 30], thr=3, lr=0.001, batch_size=64, lr_decay=1\n",
      "average validation risk: 0.9\n",
      "----------------------------------------\n",
      "Current Model:[9, 30, 30], thr=3, lr=0.001, batch_size=500, lr_decay=0\n",
      "average validation risk: 0.9\n",
      "----------------------------------------\n",
      "Current Model:[9, 30, 30], thr=3, lr=0.001, batch_size=500, lr_decay=1\n",
      "average validation risk: 0.7\n",
      "----------------------------------------\n",
      "Current Model:[9, 30, 30], thr=3, lr=0.001, batch_size=12, lr_decay=0\n",
      "average validation risk: 0.9\n",
      "----------------------------------------\n",
      "Current Model:[9, 30, 30], thr=3, lr=0.001, batch_size=12, lr_decay=1\n",
      "average validation risk: 0.8\n",
      "----------------------------------------\n",
      "Current Model:[9, 30, 30], thr=3, lr=0.01, batch_size=32, lr_decay=0\n",
      "average validation risk: 1.0\n",
      "----------------------------------------\n",
      "Current Model:[9, 30, 30], thr=3, lr=0.01, batch_size=32, lr_decay=1\n",
      "average validation risk: 0.7\n",
      "----------------------------------------\n",
      "Current Model:[9, 30, 30], thr=3, lr=0.01, batch_size=64, lr_decay=0\n",
      "average validation risk: 0.8\n",
      "----------------------------------------\n",
      "Current Model:[9, 30, 30], thr=3, lr=0.01, batch_size=64, lr_decay=1\n",
      "average validation risk: 0.7\n",
      "----------------------------------------\n",
      "Current Model:[9, 30, 30], thr=3, lr=0.01, batch_size=500, lr_decay=0\n",
      "average validation risk: 0.8\n",
      "----------------------------------------\n",
      "Current Model:[9, 30, 30], thr=3, lr=0.01, batch_size=500, lr_decay=1\n",
      "average validation risk: 0.9\n",
      "----------------------------------------\n",
      "Current Model:[9, 30, 30], thr=3, lr=0.01, batch_size=12, lr_decay=0\n",
      "average validation risk: 0.5\n",
      "----------------------------------------\n",
      "Current Model:[9, 30, 30], thr=3, lr=0.01, batch_size=12, lr_decay=1\n",
      "average validation risk: 0.7\n",
      "----------------------------------------\n",
      "Current Model:[9, 30, 30], thr=3, lr=0.03, batch_size=32, lr_decay=0\n",
      "average validation risk: 0.8\n",
      "----------------------------------------\n",
      "Current Model:[9, 30, 30], thr=3, lr=0.03, batch_size=32, lr_decay=1\n",
      "average validation risk: 0.8\n",
      "----------------------------------------\n",
      "Current Model:[9, 30, 30], thr=3, lr=0.03, batch_size=64, lr_decay=0\n",
      "average validation risk: 1.0\n",
      "----------------------------------------\n",
      "Current Model:[9, 30, 30], thr=3, lr=0.03, batch_size=64, lr_decay=1\n",
      "average validation risk: 0.9\n",
      "----------------------------------------\n",
      "Current Model:[9, 30, 30], thr=3, lr=0.03, batch_size=500, lr_decay=0\n",
      "average validation risk: 0.7\n",
      "----------------------------------------\n",
      "Current Model:[9, 30, 30], thr=3, lr=0.03, batch_size=500, lr_decay=1\n",
      "average validation risk: 0.9\n",
      "----------------------------------------\n",
      "Current Model:[9, 30, 30], thr=3, lr=0.03, batch_size=12, lr_decay=0\n",
      "average validation risk: 0.6\n",
      "----------------------------------------\n",
      "Current Model:[9, 30, 30], thr=3, lr=0.03, batch_size=12, lr_decay=1\n",
      "average validation risk: 0.7\n",
      "----------------------------------------\n",
      "Current Model:[9, 30, 30], thr=5, lr=0.0001, batch_size=32, lr_decay=0\n",
      "average validation risk: 0.8\n",
      "----------------------------------------\n",
      "Current Model:[9, 30, 30], thr=5, lr=0.0001, batch_size=32, lr_decay=1\n",
      "average validation risk: 0.6\n",
      "----------------------------------------\n",
      "Current Model:[9, 30, 30], thr=5, lr=0.0001, batch_size=64, lr_decay=0\n",
      "average validation risk: 0.8\n",
      "----------------------------------------\n",
      "Current Model:[9, 30, 30], thr=5, lr=0.0001, batch_size=64, lr_decay=1\n",
      "average validation risk: 0.9\n",
      "----------------------------------------\n",
      "Current Model:[9, 30, 30], thr=5, lr=0.0001, batch_size=500, lr_decay=0\n",
      "average validation risk: 0.7\n",
      "----------------------------------------\n",
      "Current Model:[9, 30, 30], thr=5, lr=0.0001, batch_size=500, lr_decay=1\n",
      "average validation risk: 0.8\n",
      "----------------------------------------\n",
      "Current Model:[9, 30, 30], thr=5, lr=0.0001, batch_size=12, lr_decay=0\n",
      "average validation risk: 0.7\n",
      "----------------------------------------\n",
      "Current Model:[9, 30, 30], thr=5, lr=0.0001, batch_size=12, lr_decay=1\n",
      "average validation risk: 0.8\n",
      "----------------------------------------\n",
      "Current Model:[9, 30, 30], thr=5, lr=0.001, batch_size=32, lr_decay=0\n",
      "average validation risk: 0.9\n",
      "----------------------------------------\n",
      "Current Model:[9, 30, 30], thr=5, lr=0.001, batch_size=32, lr_decay=1\n",
      "average validation risk: 0.7\n",
      "----------------------------------------\n",
      "Current Model:[9, 30, 30], thr=5, lr=0.001, batch_size=64, lr_decay=0\n",
      "average validation risk: 0.9\n",
      "----------------------------------------\n",
      "Current Model:[9, 30, 30], thr=5, lr=0.001, batch_size=64, lr_decay=1\n",
      "average validation risk: 0.6\n",
      "----------------------------------------\n",
      "Current Model:[9, 30, 30], thr=5, lr=0.001, batch_size=500, lr_decay=0\n",
      "average validation risk: 0.8\n",
      "----------------------------------------\n",
      "Current Model:[9, 30, 30], thr=5, lr=0.001, batch_size=500, lr_decay=1\n",
      "average validation risk: 0.6\n",
      "----------------------------------------\n",
      "Current Model:[9, 30, 30], thr=5, lr=0.001, batch_size=12, lr_decay=0\n",
      "average validation risk: 0.8\n",
      "----------------------------------------\n",
      "Current Model:[9, 30, 30], thr=5, lr=0.001, batch_size=12, lr_decay=1\n",
      "average validation risk: 0.7\n",
      "----------------------------------------\n",
      "Current Model:[9, 30, 30], thr=5, lr=0.01, batch_size=32, lr_decay=0\n",
      "average validation risk: 0.7\n",
      "----------------------------------------\n",
      "Current Model:[9, 30, 30], thr=5, lr=0.01, batch_size=32, lr_decay=1\n",
      "average validation risk: 0.6\n",
      "----------------------------------------\n",
      "Current Model:[9, 30, 30], thr=5, lr=0.01, batch_size=64, lr_decay=0\n",
      "average validation risk: 0.8\n",
      "----------------------------------------\n",
      "Current Model:[9, 30, 30], thr=5, lr=0.01, batch_size=64, lr_decay=1\n",
      "average validation risk: 0.7\n",
      "----------------------------------------\n",
      "Current Model:[9, 30, 30], thr=5, lr=0.01, batch_size=500, lr_decay=0\n",
      "average validation risk: 0.7\n",
      "----------------------------------------\n",
      "Current Model:[9, 30, 30], thr=5, lr=0.01, batch_size=500, lr_decay=1\n",
      "average validation risk: 0.7\n",
      "----------------------------------------\n",
      "Current Model:[9, 30, 30], thr=5, lr=0.01, batch_size=12, lr_decay=0\n",
      "average validation risk: 0.7\n",
      "----------------------------------------\n",
      "Current Model:[9, 30, 30], thr=5, lr=0.01, batch_size=12, lr_decay=1\n",
      "average validation risk: 0.8\n",
      "----------------------------------------\n",
      "Current Model:[9, 30, 30], thr=5, lr=0.03, batch_size=32, lr_decay=0\n",
      "average validation risk: 0.8\n",
      "----------------------------------------\n",
      "Current Model:[9, 30, 30], thr=5, lr=0.03, batch_size=32, lr_decay=1\n",
      "average validation risk: 0.8\n",
      "----------------------------------------\n",
      "Current Model:[9, 30, 30], thr=5, lr=0.03, batch_size=64, lr_decay=0\n",
      "average validation risk: 0.6\n",
      "----------------------------------------\n",
      "Current Model:[9, 30, 30], thr=5, lr=0.03, batch_size=64, lr_decay=1\n",
      "average validation risk: 0.8\n",
      "----------------------------------------\n",
      "Current Model:[9, 30, 30], thr=5, lr=0.03, batch_size=500, lr_decay=0\n",
      "average validation risk: 0.8\n",
      "----------------------------------------\n",
      "Current Model:[9, 30, 30], thr=5, lr=0.03, batch_size=500, lr_decay=1\n",
      "average validation risk: 0.8\n",
      "----------------------------------------\n",
      "Current Model:[9, 30, 30], thr=5, lr=0.03, batch_size=12, lr_decay=0\n",
      "average validation risk: 0.9\n",
      "----------------------------------------\n",
      "Current Model:[9, 30, 30], thr=5, lr=0.03, batch_size=12, lr_decay=1\n",
      "average validation risk: 0.6\n",
      "----------------------------------------\n",
      "Current Model:[9, 30, 30], thr=7, lr=0.0001, batch_size=32, lr_decay=0\n",
      "average validation risk: 0.7\n",
      "----------------------------------------\n",
      "Current Model:[9, 30, 30], thr=7, lr=0.0001, batch_size=32, lr_decay=1\n",
      "average validation risk: 0.8\n",
      "----------------------------------------\n",
      "Current Model:[9, 30, 30], thr=7, lr=0.0001, batch_size=64, lr_decay=0\n",
      "average validation risk: 0.9\n",
      "----------------------------------------\n",
      "Current Model:[9, 30, 30], thr=7, lr=0.0001, batch_size=64, lr_decay=1\n",
      "average validation risk: 0.9\n",
      "----------------------------------------\n",
      "Current Model:[9, 30, 30], thr=7, lr=0.0001, batch_size=500, lr_decay=0\n",
      "average validation risk: 0.8\n",
      "----------------------------------------\n",
      "Current Model:[9, 30, 30], thr=7, lr=0.0001, batch_size=500, lr_decay=1\n",
      "average validation risk: 0.8\n",
      "----------------------------------------\n",
      "Current Model:[9, 30, 30], thr=7, lr=0.0001, batch_size=12, lr_decay=0\n",
      "average validation risk: 0.9\n",
      "----------------------------------------\n",
      "Current Model:[9, 30, 30], thr=7, lr=0.0001, batch_size=12, lr_decay=1\n",
      "average validation risk: 0.7\n",
      "----------------------------------------\n",
      "Current Model:[9, 30, 30], thr=7, lr=0.001, batch_size=32, lr_decay=0\n",
      "average validation risk: 0.9\n",
      "----------------------------------------\n",
      "Current Model:[9, 30, 30], thr=7, lr=0.001, batch_size=32, lr_decay=1\n",
      "average validation risk: 0.9\n",
      "----------------------------------------\n",
      "Current Model:[9, 30, 30], thr=7, lr=0.001, batch_size=64, lr_decay=0\n",
      "average validation risk: 0.6\n",
      "----------------------------------------\n",
      "Current Model:[9, 30, 30], thr=7, lr=0.001, batch_size=64, lr_decay=1\n",
      "average validation risk: 0.8\n",
      "----------------------------------------\n",
      "Current Model:[9, 30, 30], thr=7, lr=0.001, batch_size=500, lr_decay=0\n",
      "average validation risk: 0.8\n",
      "----------------------------------------\n",
      "Current Model:[9, 30, 30], thr=7, lr=0.001, batch_size=500, lr_decay=1\n",
      "average validation risk: 0.9\n",
      "----------------------------------------\n",
      "Current Model:[9, 30, 30], thr=7, lr=0.001, batch_size=12, lr_decay=0\n",
      "average validation risk: 0.6\n",
      "----------------------------------------\n",
      "Current Model:[9, 30, 30], thr=7, lr=0.001, batch_size=12, lr_decay=1\n",
      "average validation risk: 0.6\n",
      "----------------------------------------\n",
      "Current Model:[9, 30, 30], thr=7, lr=0.01, batch_size=32, lr_decay=0\n",
      "average validation risk: 0.6\n",
      "----------------------------------------\n",
      "Current Model:[9, 30, 30], thr=7, lr=0.01, batch_size=32, lr_decay=1\n",
      "average validation risk: 0.9\n",
      "----------------------------------------\n",
      "Current Model:[9, 30, 30], thr=7, lr=0.01, batch_size=64, lr_decay=0\n",
      "average validation risk: 0.8\n",
      "----------------------------------------\n",
      "Current Model:[9, 30, 30], thr=7, lr=0.01, batch_size=64, lr_decay=1\n",
      "average validation risk: 0.6\n",
      "----------------------------------------\n",
      "Current Model:[9, 30, 30], thr=7, lr=0.01, batch_size=500, lr_decay=0\n",
      "average validation risk: 0.9\n",
      "----------------------------------------\n",
      "Current Model:[9, 30, 30], thr=7, lr=0.01, batch_size=500, lr_decay=1\n"
     ]
    },
    {
     "name": "stderr",
     "output_type": "stream",
     "text": [
      "100%|██████████| 1/1 [00:06<00:00,  6.45s/it]"
     ]
    },
    {
     "name": "stdout",
     "output_type": "stream",
     "text": [
      "average validation risk: 0.8\n",
      "----------------------------------------\n",
      "Current Model:[9, 30, 30], thr=7, lr=0.01, batch_size=12, lr_decay=0\n",
      "average validation risk: 0.8\n",
      "----------------------------------------\n",
      "Current Model:[9, 30, 30], thr=7, lr=0.01, batch_size=12, lr_decay=1\n",
      "average validation risk: 1.0\n",
      "----------------------------------------\n",
      "Current Model:[9, 30, 30], thr=7, lr=0.03, batch_size=32, lr_decay=0\n",
      "average validation risk: 0.9\n",
      "----------------------------------------\n",
      "Current Model:[9, 30, 30], thr=7, lr=0.03, batch_size=32, lr_decay=1\n",
      "average validation risk: 0.7\n",
      "----------------------------------------\n",
      "Current Model:[9, 30, 30], thr=7, lr=0.03, batch_size=64, lr_decay=0\n",
      "average validation risk: 0.8\n",
      "----------------------------------------\n",
      "Current Model:[9, 30, 30], thr=7, lr=0.03, batch_size=64, lr_decay=1\n",
      "average validation risk: 0.8\n",
      "----------------------------------------\n",
      "Current Model:[9, 30, 30], thr=7, lr=0.03, batch_size=500, lr_decay=0\n",
      "average validation risk: 0.8\n",
      "----------------------------------------\n",
      "Current Model:[9, 30, 30], thr=7, lr=0.03, batch_size=500, lr_decay=1\n",
      "average validation risk: 0.9\n",
      "----------------------------------------\n",
      "Current Model:[9, 30, 30], thr=7, lr=0.03, batch_size=12, lr_decay=0\n",
      "average validation risk: 0.6\n",
      "----------------------------------------\n",
      "Current Model:[9, 30, 30], thr=7, lr=0.03, batch_size=12, lr_decay=1\n",
      "average validation risk: 0.6\n",
      "----------------------------------------\n"
     ]
    },
    {
     "name": "stderr",
     "output_type": "stream",
     "text": [
      "100%|██████████| 1/1 [00:06<00:00,  6.45s/it]"
     ]
    },
    {
     "name": "stdout",
     "output_type": "stream",
     "text": [
      "Best model: ([9, 30, 30], 0.6, 0.03, 500, 1), with risk: 0.4\n"
     ]
    },
    {
     "name": "stderr",
     "output_type": "stream",
     "text": [
      "\n"
     ]
    }
   ],
   "source": [
    "# Hyperparameters\n",
    "architectures = [\n",
    "    [9,30,30],\n",
    "    [9,100,100],\n",
    "    [9,500,500],\n",
    "    [9,100,100,100],\n",
    "    [9,200,200,200],\n",
    "    [9,1000,1000,1000],\n",
    "    [9,2000,2000,2000,2000],\n",
    "]\n",
    "thresholds = [0.3, 0.4, 0.5, 0.6, 0.7, 0.8, 1, 3, 5, 7]\n",
    "learning_rates = [0.0001,0.001,0.01,0.03]\n",
    "n_epochs = 240\n",
    "n_folds = 10\n",
    "batch_sizes = [32, 64, 500, len(x_train)]\n",
    "lr_decays = [0, 1]\n",
    "\n",
    "best_model = cross_validation(\n",
    "    x_pos, \n",
    "    x_neg, \n",
    "    architectures,\n",
    "    thresholds,\n",
    "    learning_rates,\n",
    "    n_epochs,\n",
    "    n_folds,\n",
    "    batch_sizes,\n",
    "    lr_decays\n",
    ")"
   ]
  },
  {
   "cell_type": "code",
   "execution_count": 111,
   "metadata": {},
   "outputs": [
    {
     "name": "stdout",
     "output_type": "stream",
     "text": [
      "Best model: [9, 30, 30], thr=0.6, lr=0.03, batch_size=500, lr_decay=1\n"
     ]
    }
   ],
   "source": [
    "# Best model hyperparameters\n",
    "architecture_best = best_model[0]\n",
    "threshold_best = best_model[1]\n",
    "learning_rate_best = best_model[2]\n",
    "epochs = 240 #1000?\n",
    "batch_size = best_model[3]\n",
    "lr_decay = best_model[4]\n",
    "\n",
    "print(f\"Best model: {architecture_best}, thr={threshold_best}, lr={learning_rate_best}, batch_size={batch_size}, lr_decay={lr_decay}\")\n",
    "\n",
    "model = FFNN(\n",
    "    device=device,\n",
    "    layers=architecture_best,\n",
    "    threshold=threshold_best,\n",
    "    learning_rate=learning_rate_best,\n",
    "    epochs=epochs,\n",
    "    batch_size=batch_size,\n",
    "    lr_decay=lr_decay\n",
    ").to(device)"
   ]
  },
  {
   "cell_type": "code",
   "execution_count": 114,
   "metadata": {},
   "outputs": [
    {
     "name": "stdout",
     "output_type": "stream",
     "text": [
      "\n",
      "Training Layer: 1\n",
      "----------------------------------------\n"
     ]
    },
    {
     "name": "stderr",
     "output_type": "stream",
     "text": [
      "100%|██████████| 240/240 [00:00<00:00, 313788.33it/s]\n"
     ]
    },
    {
     "name": "stdout",
     "output_type": "stream",
     "text": [
      "\n",
      "Training Layer: 2\n",
      "----------------------------------------\n"
     ]
    },
    {
     "name": "stderr",
     "output_type": "stream",
     "text": [
      "100%|██████████| 240/240 [00:00<?, ?it/s]\n"
     ]
    }
   ],
   "source": [
    "last_layer_losses = model.train(x_pos, x_neg)\n",
    "model.save_model('../models/best_model.pth')"
   ]
  },
  {
   "cell_type": "code",
   "execution_count": 126,
   "metadata": {},
   "outputs": [
    {
     "data": {
      "image/png": "[encoded data removed]",
      "text/plain": [
       "<Figure size 640x480 with 1 Axes>"
      ]
     },
     "metadata": {},
     "output_type": "display_data"
    },
    {
     "name": "stdout",
     "output_type": "stream",
     "text": [
      "[1 0 0]\n",
      "[2 2 2]\n",
      "Accuracy: 0.0\n"
     ]
    },
    {
     "data": {
      "image/png": "[encoded data removed]",
      "text/plain": [
       "<Figure size 640x480 with 2 Axes>"
      ]
     },
     "metadata": {},
     "output_type": "display_data"
    }
   ],
   "source": [
    "plot_losses(last_layer_losses, \"Training Loss Last Layer Best Model\", \"best_model\")\n",
    "print_accuracy(model.predict_accumulated_goodness(x_test), y_test)\n"
   ]
  },
  {
   "cell_type": "markdown",
   "metadata": {},
   "source": [
    "### FFNN with Softmax Classifier"
   ]
  },
  {
   "cell_type": "code",
   "execution_count": 142,
   "metadata": {},
   "outputs": [],
   "source": [
    "architecture_best = best_model[0]\n",
    "threshold_best = best_model[1]\n",
    "learning_rate_best = best_model[2]\n",
    "batch_size = best_model[3]\n",
    "lr_decay = best_model[4]\n",
    "\n",
    "# Create equal model with classifier\n",
    "model = FFNN(\n",
    "    device=device,\n",
    "    layers=architecture_best,\n",
    "    threshold=threshold_best,\n",
    "    learning_rate=learning_rate_best,\n",
    "    epochs=epochs,\n",
    "    batch_size=batch_size,\n",
    "    lr_decay=lr_decay,\n",
    "    classifier=True\n",
    ").to(device)\n",
    "\n",
    "model.load_model('../models/best_model.pth')"
   ]
  },
  {
   "cell_type": "code",
   "execution_count": 143,
   "metadata": {},
   "outputs": [
    {
     "name": "stdout",
     "output_type": "stream",
     "text": [
      "\n",
      "Training Softmax\n",
      "----------------------------------------\n"
     ]
    },
    {
     "name": "stderr",
     "output_type": "stream",
     "text": [
      "100%|██████████| 240/240 [00:01<00:00, 152.94it/s]"
     ]
    },
    {
     "name": "stdout",
     "output_type": "stream",
     "text": [
      "Last epoch loss: 0.7832029859224955\n"
     ]
    },
    {
     "name": "stderr",
     "output_type": "stream",
     "text": [
      "\n"
     ]
    }
   ],
   "source": [
    "classifier_layer_loss = model.train_classifier(x_train, y_train_OH, epochs, batch_size)\n",
    "torch.save(model.classifier.state_dict(), '../models/softmax_model_classifier.pth')"
   ]
  },
  {
   "cell_type": "code",
   "execution_count": 144,
   "metadata": {},
   "outputs": [
    {
     "data": {
      "image/png": "[encoded data removed]",
      "text/plain": [
       "<Figure size 640x480 with 1 Axes>"
      ]
     },
     "metadata": {},
     "output_type": "display_data"
    },
    {
     "name": "stdout",
     "output_type": "stream",
     "text": [
      "[0 0 0 1 0 0 1 0 1 2 0 1 1 1 0 0 0 1 2]\n",
      "[0 0 1 1 1 0 1 0 1 1 0 0 0 0 0 0 0 1 1]\n",
      "Accuracy: 0.6315789222717285\n"
     ]
    },
    {
     "data": {
      "image/png": "[encoded data removed]",
      "text/plain": [
       "<Figure size 640x480 with 2 Axes>"
      ]
     },
     "metadata": {},
     "output_type": "display_data"
    }
   ],
   "source": [
    "plot_losses(classifier_layer_loss, \"Training Loss Classifier\", \"classifier\")\n",
    "print_accuracy(model.predict_classifier(x_test),y_test)"
   ]
  },
  {
   "cell_type": "code",
   "execution_count": 12,
   "metadata": {},
   "outputs": [
    {
     "name": "stdout",
     "output_type": "stream",
     "text": [
      "Best model: [9, 100, 100, 100], thr=0.5, lr=0.03\n",
      "\n",
      "Training Layer: 1\n",
      "----------------------------------------\n"
     ]
    },
    {
     "name": "stderr",
     "output_type": "stream",
     "text": [
      "100%|██████████| 200/200 [00:02<00:00, 70.19it/s]\n"
     ]
    },
    {
     "name": "stdout",
     "output_type": "stream",
     "text": [
      "\n",
      "Training Layer: 2\n",
      "----------------------------------------\n"
     ]
    },
    {
     "name": "stderr",
     "output_type": "stream",
     "text": [
      "100%|██████████| 200/200 [00:03<00:00, 59.31it/s]\n"
     ]
    },
    {
     "name": "stdout",
     "output_type": "stream",
     "text": [
      "\n",
      "Training Layer: 3\n",
      "----------------------------------------\n"
     ]
    },
    {
     "name": "stderr",
     "output_type": "stream",
     "text": [
      "100%|██████████| 200/200 [00:03<00:00, 63.17it/s]\n"
     ]
    },
    {
     "name": "stdout",
     "output_type": "stream",
     "text": [
      "\n",
      "Training Softmax\n",
      "----------------------------------------\n"
     ]
    },
    {
     "name": "stderr",
     "output_type": "stream",
     "text": [
      "100%|██████████| 200/200 [00:00<00:00, 623.32it/s]"
     ]
    },
    {
     "name": "stdout",
     "output_type": "stream",
     "text": [
      "Last epoch loss: 0.5441149398684502\n"
     ]
    },
    {
     "name": "stderr",
     "output_type": "stream",
     "text": [
      "\n"
     ]
    }
   ],
   "source": [
    "# testing!\n",
    "\n",
    "# Best model hyperparameters\n",
    "architecture_best = [9,100,100,100]\n",
    "threshold_best = 0.5\n",
    "learning_rate_best = 0.03\n",
    "epochs = 200\n",
    "batch_size = 1\n",
    "lr_decay = False\n",
    "\n",
    "print(f\"Best model: {architecture_best}, thr={threshold_best}, lr={learning_rate_best}\")\n",
    "\n",
    "model = FFNN(\n",
    "    device=device,\n",
    "    layers=architecture_best,\n",
    "    threshold=threshold_best,\n",
    "    learning_rate=learning_rate_best,\n",
    "    epochs=epochs,\n",
    "    batch_size=batch_size,\n",
    "    lr_decay=lr_decay,\n",
    "    classifier=True\n",
    ").to(device)\n",
    "\n",
    "model.train(x_pos, x_neg)\n",
    "classifier_layer_loss = model.train_classifier(x_train, y_train_OH, epochs, batch_size=5)\n",
    "model.save_model('../models/softmax_model.pth')\n",
    "torch.save(model.classifier.state_dict(), '../models/softmax_model_classifier.pth')"
   ]
  },
  {
   "cell_type": "code",
   "execution_count": 18,
   "metadata": {},
   "outputs": [
    {
     "data": {
      "image/png": "[encoded data removed]",
      "text/plain": [
       "<Figure size 640x480 with 1 Axes>"
      ]
     },
     "metadata": {},
     "output_type": "display_data"
    },
    {
     "name": "stdout",
     "output_type": "stream",
     "text": [
      "[0 0 0 0 1 0 0 0 1 0 1 3 1 1 0 1 2 0 0 0 1 1]\n",
      "[1 0 0 1 1 0 1 0 1 0 1 1 1 1 0 1 1 0 0 1 1 1]\n",
      "Accuracy: 0.7272727489471436\n"
     ]
    },
    {
     "data": {
      "image/png": "[encoded data removed]",
      "text/plain": [
       "<Figure size 640x480 with 2 Axes>"
      ]
     },
     "metadata": {},
     "output_type": "display_data"
    }
   ],
   "source": [
    "plot_losses(classifier_layer_loss, \"Training Loss Classifier\", \"classifier\")\n",
    "print_accuracy(model.predict_classifier(x_train.to(device)),y_train)"
   ]
  },
  {
   "cell_type": "markdown",
   "metadata": {},
   "source": [
    "## Backpropagation"
   ]
  },
  {
   "cell_type": "code",
   "execution_count": 145,
   "metadata": {},
   "outputs": [],
   "source": [
    "def train(model, x, y, epochs, loss_function, optimizer, batch_size):\n",
    "    \n",
    "    model.train()\n",
    "    num_batches = len(x) // batch_size\n",
    "    \n",
    "    for epoch in range(epochs):\n",
    "        losses = []\n",
    "        for batch in range(num_batches):\n",
    "            start_idx = batch * batch_size\n",
    "            end_idx = start_idx + batch_size\n",
    "            \n",
    "            x_batch = x[start_idx:end_idx]\n",
    "            y_batch = y[start_idx:end_idx]\n",
    "            \n",
    "            predictions = model(x_batch)\n",
    "            loss = loss_function(predictions, y_batch)\n",
    "            losses.append(loss.item())\n",
    "            loss.backward()\n",
    "            optimizer.step()\n",
    "            optimizer.zero_grad()\n",
    "            \n",
    "        print(f\"epoch: {epoch + 1}/{epochs} avg. loss: {sum(losses)/len(losses)}\")"
   ]
  },
  {
   "cell_type": "code",
   "execution_count": 146,
   "metadata": {},
   "outputs": [],
   "source": [
    "def test(model, x_test, y_test, loss_function):\n",
    "    \n",
    "    model.eval()\n",
    "    \n",
    "    with torch.no_grad():\n",
    "        predictions = model(x_test)\n",
    "        test_loss = loss_function(predictions, y_test).item()\n",
    "        \n",
    "    print(f\"avg. test loss: {test_loss}\")   \n",
    "    \n",
    "def predict_actions(model, x):\n",
    "    model.eval()\n",
    "    \n",
    "    with torch.no_grad():\n",
    "        predictions = model(x)\n",
    "        return predictions.argmax(1)"
   ]
  },
  {
   "cell_type": "code",
   "execution_count": 150,
   "metadata": {},
   "outputs": [],
   "source": [
    "from backpropNN import BackpropNN\n",
    "\n",
    "input_size = 5\n",
    "output_size = 4\n",
    "\n",
    "# hyperparameters\n",
    "hidden_size = 30\n",
    "activation_function = nn.ReLU()\n",
    "epochs = 60 #100?\n",
    "batch_size = 64\n",
    "learning_rate = 0.001\n",
    "\n",
    "# fully connected neural network with 4 hidden layers\n",
    "backprop_model = BackpropNN(input_size, output_size, hidden_size, activation_function)\n",
    "\n",
    "optimizer = torch.optim.Adam(backprop_model.parameters(), lr=learning_rate);\n",
    "loss_fn = nn.CrossEntropyLoss()"
   ]
  },
  {
   "cell_type": "code",
   "execution_count": 151,
   "metadata": {},
   "outputs": [
    {
     "name": "stdout",
     "output_type": "stream",
     "text": [
      "epoch: 1/60 avg. loss: 1.411288857460022\n",
      "epoch: 2/60 avg. loss: 1.3957710266113281\n",
      "epoch: 3/60 avg. loss: 1.3803730010986328\n",
      "epoch: 4/60 avg. loss: 1.3654338121414185\n",
      "epoch: 5/60 avg. loss: 1.3508508205413818\n",
      "epoch: 6/60 avg. loss: 1.3365002870559692\n",
      "epoch: 7/60 avg. loss: 1.322275161743164\n",
      "epoch: 8/60 avg. loss: 1.3084380626678467\n",
      "epoch: 9/60 avg. loss: 1.2949998378753662\n",
      "epoch: 10/60 avg. loss: 1.2822860479354858\n",
      "epoch: 11/60 avg. loss: 1.2704025506973267\n",
      "epoch: 12/60 avg. loss: 1.2587827444076538\n",
      "epoch: 13/60 avg. loss: 1.2468080520629883\n",
      "epoch: 14/60 avg. loss: 1.2345478534698486\n",
      "epoch: 15/60 avg. loss: 1.2221531867980957\n",
      "epoch: 16/60 avg. loss: 1.209874153137207\n",
      "epoch: 17/60 avg. loss: 1.1975761651992798\n",
      "epoch: 18/60 avg. loss: 1.185117244720459\n",
      "epoch: 19/60 avg. loss: 1.1723473072052002\n",
      "epoch: 20/60 avg. loss: 1.159080147743225\n",
      "epoch: 21/60 avg. loss: 1.145310878753662\n",
      "epoch: 22/60 avg. loss: 1.1309713125228882\n",
      "epoch: 23/60 avg. loss: 1.1160025596618652\n",
      "epoch: 24/60 avg. loss: 1.1004371643066406\n",
      "epoch: 25/60 avg. loss: 1.0843924283981323\n",
      "epoch: 26/60 avg. loss: 1.067968487739563\n",
      "epoch: 27/60 avg. loss: 1.051224708557129\n",
      "epoch: 28/60 avg. loss: 1.0342777967453003\n",
      "epoch: 29/60 avg. loss: 1.017248511314392\n",
      "epoch: 30/60 avg. loss: 1.0002509355545044\n",
      "epoch: 31/60 avg. loss: 0.9832939505577087\n",
      "epoch: 32/60 avg. loss: 0.9664217233657837\n",
      "epoch: 33/60 avg. loss: 0.9496697187423706\n",
      "epoch: 34/60 avg. loss: 0.9332517981529236\n",
      "epoch: 35/60 avg. loss: 0.917234480381012\n",
      "epoch: 36/60 avg. loss: 0.9020051956176758\n",
      "epoch: 37/60 avg. loss: 0.8876498937606812\n",
      "epoch: 38/60 avg. loss: 0.8740788102149963\n",
      "epoch: 39/60 avg. loss: 0.8612010478973389\n",
      "epoch: 40/60 avg. loss: 0.8492459654808044\n",
      "epoch: 41/60 avg. loss: 0.8383640646934509\n",
      "epoch: 42/60 avg. loss: 0.828427791595459\n",
      "epoch: 43/60 avg. loss: 0.8192117810249329\n",
      "epoch: 44/60 avg. loss: 0.810801088809967\n",
      "epoch: 45/60 avg. loss: 0.8031566143035889\n",
      "epoch: 46/60 avg. loss: 0.7959876656532288\n",
      "epoch: 47/60 avg. loss: 0.7892918586730957\n",
      "epoch: 48/60 avg. loss: 0.7827374935150146\n",
      "epoch: 49/60 avg. loss: 0.7761883735656738\n",
      "epoch: 50/60 avg. loss: 0.7697956562042236\n",
      "epoch: 51/60 avg. loss: 0.763371467590332\n",
      "epoch: 52/60 avg. loss: 0.7568248510360718\n",
      "epoch: 53/60 avg. loss: 0.7504174113273621\n",
      "epoch: 54/60 avg. loss: 0.7442004084587097\n",
      "epoch: 55/60 avg. loss: 0.7382087707519531\n",
      "epoch: 56/60 avg. loss: 0.7326219081878662\n",
      "epoch: 57/60 avg. loss: 0.7272266149520874\n",
      "epoch: 58/60 avg. loss: 0.7220646142959595\n",
      "epoch: 59/60 avg. loss: 0.7172424793243408\n",
      "epoch: 60/60 avg. loss: 0.712470531463623\n"
     ]
    }
   ],
   "source": [
    "train(backprop_model, x_train, y_train_OH, epochs, loss_fn, optimizer, batch_size)\n",
    "torch.save(backprop_model.state_dict(), '../models/backprop_model.pth')"
   ]
  },
  {
   "cell_type": "code",
   "execution_count": 152,
   "metadata": {},
   "outputs": [
    {
     "name": "stdout",
     "output_type": "stream",
     "text": [
      "avg. test loss: 0.755010724067688\n"
     ]
    }
   ],
   "source": [
    "test(backprop_model, x_test, y_test_OH, loss_fn)"
   ]
  },
  {
   "cell_type": "code",
   "execution_count": 153,
   "metadata": {},
   "outputs": [
    {
     "name": "stdout",
     "output_type": "stream",
     "text": [
      "0.7368420958518982\n"
     ]
    }
   ],
   "source": [
    "# print(torch.from_numpy(y_test))\n",
    "# print(predict_action(backprop_model, x_test))\n",
    "accuracy = predict_actions(backprop_model, x_test).eq(torch.from_numpy(y_test)).float().mean().item() # heet dit accuracy?\n",
    "print(accuracy)"
   ]
  },
  {
   "cell_type": "markdown",
   "metadata": {},
   "source": [
    "## FFNN Blackjack"
   ]
  },
  {
   "cell_type": "markdown",
   "metadata": {},
   "source": [
    "### FFNN & Backpropagation"
   ]
  },
  {
   "cell_type": "code",
   "execution_count": 160,
   "metadata": {},
   "outputs": [
    {
     "name": "stderr",
     "output_type": "stream",
     "text": [
      "100%|██████████| 1500/1500 [00:01<00:00, 801.29it/s]\n"
     ]
    },
    {
     "name": "stdout",
     "output_type": "stream",
     "text": [
      "Average Reward:  -0.8273333333333334\n",
      "Variance:  2.566897487213628\n"
     ]
    },
    {
     "data": {
      "image/png": "[encoded data removed]",
      "text/plain": [
       "<Figure size 640x480 with 1 Axes>"
      ]
     },
     "metadata": {},
     "output_type": "display_data"
    }
   ],
   "source": [
    "# FFNN hyperparameters\n",
    "model_path = '../models/best_model.pth'\n",
    "layers = best_model[0]\n",
    "threshold = best_model[1]\n",
    "lr = best_model[2]\n",
    "\n",
    "agent = FFNNAgent(\n",
    "    env,\n",
    "    model_path=model_path,\n",
    "    device=device,\n",
    "    layers=layers,\n",
    "    threshold=threshold,\n",
    "    lr=lr,\n",
    "    filename=\"ffnn_agent\"\n",
    ")\n",
    "\n",
    "rewards_FFNN = play_game(env, episodes, agent, collect_data)\n",
    "plot_reward([rewards_FFNN, rewards_random], \"FFNN Agent\", \"ffnn_random_agent\", [\"FFNN Agent\", \"Random Agent\"])"
   ]
  },
  {
   "cell_type": "code",
   "execution_count": 161,
   "metadata": {},
   "outputs": [
    {
     "name": "stderr",
     "output_type": "stream",
     "text": [
      "  0%|          | 0/1500 [00:00<?, ?it/s]"
     ]
    },
    {
     "name": "stderr",
     "output_type": "stream",
     "text": [
      "100%|██████████| 1500/1500 [00:00<00:00, 3011.83it/s]\n"
     ]
    },
    {
     "name": "stdout",
     "output_type": "stream",
     "text": [
      "Average Reward:  -0.084\n",
      "Variance:  0.9735930620413816\n"
     ]
    },
    {
     "data": {
      "image/png": "[encoded data removed]",
      "text/plain": [
       "<Figure size 640x480 with 1 Axes>"
      ]
     },
     "metadata": {},
     "output_type": "display_data"
    },
    {
     "data": {
      "image/png": "[encoded data removed]",
      "text/plain": [
       "<Figure size 640x480 with 1 Axes>"
      ]
     },
     "metadata": {},
     "output_type": "display_data"
    }
   ],
   "source": [
    "# Backprop hyperparameters\n",
    "input_size = 5\n",
    "output_size = 4\n",
    "hidden_size = 30\n",
    "activation_fn = nn.ReLU()\n",
    "\n",
    "agent = BackpropAgent(\n",
    "    env, \n",
    "    model=torch.load('../models/backprop_model.pth'),\n",
    "    input_size=input_size, \n",
    "    output_size=output_size, \n",
    "    hidden_size=hidden_size, \n",
    "    activation_fn=activation_fn,\n",
    "    filename=\"backprop_agent\"\n",
    ")\n",
    "\n",
    "rewards_BP = play_game(env, episodes, agent, collect_data)\n",
    "plot_reward([rewards_BP, rewards_random], \"Backpropagation Agent\", \"backprop_random_agent\", [\"Backpropagation Agent\", \"Basic Strategy Agent\"])\n",
    "plot_reward([rewards_BP, rewards_random, rewards_basic_strategy], \"Backpropagation Agent\", \"backprop_random_basic_agent\", [\"Backpropagation Agent\", \"Random Agent\", \"Basic Strategy Agent\"])"
   ]
  },
  {
   "cell_type": "markdown",
   "metadata": {},
   "source": [
    "### DQFFL"
   ]
  },
  {
   "cell_type": "code",
   "execution_count": 163,
   "metadata": {},
   "outputs": [
    {
     "name": "stdout",
     "output_type": "stream",
     "text": [
      "\n",
      "Run 1\n",
      "----------------------------------------\n"
     ]
    },
    {
     "name": "stderr",
     "output_type": "stream",
     "text": [
      "  0%|          | 0/150 [00:00<?, ?it/s]"
     ]
    },
    {
     "name": "stderr",
     "output_type": "stream",
     "text": [
      "100%|██████████| 150/150 [00:09<00:00, 15.39it/s]\n"
     ]
    },
    {
     "name": "stdout",
     "output_type": "stream",
     "text": [
      "\n",
      "Run 2\n",
      "----------------------------------------\n"
     ]
    },
    {
     "name": "stderr",
     "output_type": "stream",
     "text": [
      "100%|██████████| 150/150 [00:07<00:00, 18.92it/s]\n"
     ]
    },
    {
     "name": "stdout",
     "output_type": "stream",
     "text": [
      "\n",
      "Run 3\n",
      "----------------------------------------\n"
     ]
    },
    {
     "name": "stderr",
     "output_type": "stream",
     "text": [
      "100%|██████████| 150/150 [00:07<00:00, 20.75it/s]\n"
     ]
    },
    {
     "name": "stdout",
     "output_type": "stream",
     "text": [
      "\n",
      "Run 4\n",
      "----------------------------------------\n"
     ]
    },
    {
     "name": "stderr",
     "output_type": "stream",
     "text": [
      "100%|██████████| 150/150 [00:07<00:00, 20.99it/s]\n"
     ]
    },
    {
     "name": "stdout",
     "output_type": "stream",
     "text": [
      "\n",
      "Run 5\n",
      "----------------------------------------\n"
     ]
    },
    {
     "name": "stderr",
     "output_type": "stream",
     "text": [
      "100%|██████████| 150/150 [00:07<00:00, 19.60it/s]\n"
     ]
    },
    {
     "ename": "ValueError",
     "evalue": "setting an array element with a sequence. The requested array has an inhomogeneous shape after 1 dimensions. The detected shape was (2,) + inhomogeneous part.",
     "output_type": "error",
     "traceback": [
      "\u001b[1;31m---------------------------------------------------------------------------\u001b[0m",
      "\u001b[1;31mValueError\u001b[0m                                Traceback (most recent call last)",
      "Cell \u001b[1;32mIn [163], line 37\u001b[0m\n\u001b[0;32m     34\u001b[0m     total_rewards\u001b[38;5;241m.\u001b[39mappend(rewards_DQFFNN)\n\u001b[0;32m     36\u001b[0m agent\u001b[38;5;241m.\u001b[39mmodel\u001b[38;5;241m.\u001b[39msave_model(path\u001b[38;5;241m=\u001b[39m\u001b[38;5;124m'\u001b[39m\u001b[38;5;124m../models/DQFFNN_model.pth\u001b[39m\u001b[38;5;124m'\u001b[39m)\n\u001b[1;32m---> 37\u001b[0m \u001b[43mplot_reward\u001b[49m\u001b[43m(\u001b[49m\u001b[43m[\u001b[49m\u001b[43mrewards_DQFFNN\u001b[49m\u001b[43m,\u001b[49m\u001b[43m \u001b[49m\u001b[43mrewards_random\u001b[49m\u001b[43m]\u001b[49m\u001b[43m,\u001b[49m\u001b[43m \u001b[49m\u001b[38;5;124;43m\"\u001b[39;49m\u001b[38;5;124;43mDQFFNN Agent\u001b[39;49m\u001b[38;5;124;43m\"\u001b[39;49m\u001b[43m,\u001b[49m\u001b[43m \u001b[49m\u001b[38;5;124;43mf\u001b[39;49m\u001b[38;5;124;43m\"\u001b[39;49m\u001b[38;5;124;43mDQFFNN_agent_lr=\u001b[39;49m\u001b[38;5;132;43;01m{\u001b[39;49;00m\u001b[43mlr\u001b[49m\u001b[38;5;132;43;01m}\u001b[39;49;00m\u001b[38;5;124;43m_df=\u001b[39;49m\u001b[38;5;132;43;01m{\u001b[39;49;00m\u001b[43mdiscount_factor\u001b[49m\u001b[38;5;132;43;01m}\u001b[39;49;00m\u001b[38;5;124;43m_batch=\u001b[39;49m\u001b[38;5;132;43;01m{\u001b[39;49;00m\u001b[43mbatch_size\u001b[49m\u001b[38;5;132;43;01m}\u001b[39;49;00m\u001b[38;5;124;43m_update=\u001b[39;49m\u001b[38;5;132;43;01m{\u001b[39;49;00m\u001b[43mupdate_td_target\u001b[49m\u001b[38;5;132;43;01m}\u001b[39;49;00m\u001b[38;5;124;43m_buffer=\u001b[39;49m\u001b[38;5;132;43;01m{\u001b[39;49;00m\u001b[43mbuffer_size\u001b[49m\u001b[38;5;132;43;01m}\u001b[39;49;00m\u001b[38;5;124;43m_random_agent\u001b[39;49m\u001b[38;5;124;43m\"\u001b[39;49m\u001b[43m,\u001b[49m\u001b[43m \u001b[49m\u001b[43m[\u001b[49m\u001b[38;5;124;43m\"\u001b[39;49m\u001b[38;5;124;43mDQFFNN Agent\u001b[39;49m\u001b[38;5;124;43m\"\u001b[39;49m\u001b[43m,\u001b[49m\u001b[43m \u001b[49m\u001b[38;5;124;43m\"\u001b[39;49m\u001b[38;5;124;43mRandom Agent\u001b[39;49m\u001b[38;5;124;43m\"\u001b[39;49m\u001b[43m]\u001b[49m\u001b[43m,\u001b[49m\u001b[43m \u001b[49m\u001b[43mrolling_length\u001b[49m\u001b[38;5;241;43m=\u001b[39;49m\u001b[38;5;241;43m100\u001b[39;49m\u001b[43m)\u001b[49m\n\u001b[0;32m     38\u001b[0m plot_reward(total_rewards, \u001b[38;5;124m\"\u001b[39m\u001b[38;5;124mDQFFNN Agent\u001b[39m\u001b[38;5;124m\"\u001b[39m, \u001b[38;5;124mf\u001b[39m\u001b[38;5;124m\"\u001b[39m\u001b[38;5;124mDQFFNN_agent_lr=\u001b[39m\u001b[38;5;132;01m{\u001b[39;00mlr\u001b[38;5;132;01m}\u001b[39;00m\u001b[38;5;124m_df=\u001b[39m\u001b[38;5;132;01m{\u001b[39;00mdiscount_factor\u001b[38;5;132;01m}\u001b[39;00m\u001b[38;5;124m_batch=\u001b[39m\u001b[38;5;132;01m{\u001b[39;00mbatch_size\u001b[38;5;132;01m}\u001b[39;00m\u001b[38;5;124m_update=\u001b[39m\u001b[38;5;132;01m{\u001b[39;00mupdate_td_target\u001b[38;5;132;01m}\u001b[39;00m\u001b[38;5;124m_buffer=\u001b[39m\u001b[38;5;132;01m{\u001b[39;00mbuffer_size\u001b[38;5;132;01m}\u001b[39;00m\u001b[38;5;124m\"\u001b[39m, [\u001b[38;5;124m\"\u001b[39m\u001b[38;5;124mDQFFNN Agent\u001b[39m\u001b[38;5;124m\"\u001b[39m], plot_variance\u001b[38;5;241m=\u001b[39m\u001b[38;5;28;01mTrue\u001b[39;00m, rolling_length\u001b[38;5;241m=\u001b[39m\u001b[38;5;241m100\u001b[39m)\n",
      "Cell \u001b[1;32mIn [79], line 2\u001b[0m, in \u001b[0;36mplot_reward\u001b[1;34m(data, title, filename, labels, plot_variance, rolling_length)\u001b[0m\n\u001b[0;32m      1\u001b[0m \u001b[38;5;28;01mdef\u001b[39;00m \u001b[38;5;21mplot_reward\u001b[39m(data, title, filename, labels, plot_variance\u001b[38;5;241m=\u001b[39m\u001b[38;5;28;01mFalse\u001b[39;00m, rolling_length\u001b[38;5;241m=\u001b[39m\u001b[38;5;241m1000\u001b[39m):\n\u001b[1;32m----> 2\u001b[0m     data \u001b[38;5;241m=\u001b[39m \u001b[43mnp\u001b[49m\u001b[38;5;241;43m.\u001b[39;49m\u001b[43marray\u001b[49m\u001b[43m(\u001b[49m\u001b[43mdata\u001b[49m\u001b[43m)\u001b[49m\n\u001b[0;32m      3\u001b[0m     np\u001b[38;5;241m.\u001b[39msavetxt(\u001b[38;5;124mf\u001b[39m\u001b[38;5;124m'\u001b[39m\u001b[38;5;124m../data/\u001b[39m\u001b[38;5;132;01m{\u001b[39;00mfilename\u001b[38;5;132;01m}\u001b[39;00m\u001b[38;5;124m_rewards.csv\u001b[39m\u001b[38;5;124m'\u001b[39m, data\u001b[38;5;241m.\u001b[39mreshape(data\u001b[38;5;241m.\u001b[39mshape[\u001b[38;5;241m0\u001b[39m], \u001b[38;5;241m-\u001b[39m\u001b[38;5;241m1\u001b[39m), delimiter\u001b[38;5;241m=\u001b[39m\u001b[38;5;124m'\u001b[39m\u001b[38;5;124m,\u001b[39m\u001b[38;5;124m'\u001b[39m)\n\u001b[0;32m      5\u001b[0m     _, ax \u001b[38;5;241m=\u001b[39m plt\u001b[38;5;241m.\u001b[39msubplots()\n",
      "\u001b[1;31mValueError\u001b[0m: setting an array element with a sequence. The requested array has an inhomogeneous shape after 1 dimensions. The detected shape was (2,) + inhomogeneous part."
     ]
    }
   ],
   "source": [
    "# DQFFL hyperparameters\n",
    "layers = [9,1000,1000,1000]\n",
    "threshold = 0.5\n",
    "lr = 0.001\n",
    "\n",
    "#RL hyperparameters\n",
    "episodes = 2000 \n",
    "epsilon = 1.0\n",
    "epsilon_decay = epsilon / (episodes / 2)\n",
    "discount_factor = 0.99\n",
    "batch_size = 32\n",
    "update_td_target = 50\n",
    "buffer_size = 10000\n",
    "\n",
    "total_rewards = []\n",
    "for i in range(5):\n",
    "    print(f\"\\nRun {i+1}\")\n",
    "    print(\"-\"*40)\n",
    "    agent = DQFFNNAgentBJ(\n",
    "        env,\n",
    "        device=device,\n",
    "        layers=layers,\n",
    "        threshold=threshold,\n",
    "        lr=lr,\n",
    "        epsilon=epsilon,\n",
    "        epsilon_decay=epsilon_decay,\n",
    "        discount_factor=discount_factor,\n",
    "        batch_size=batch_size,\n",
    "        update_td_target=update_td_target,\n",
    "        buffer_size=buffer_size,\n",
    "        filename=\"dqffnn_agent\"\n",
    "    )\n",
    "    rewards_DQFFNN = play_game(env, episodes, agent, collect_data, print_rewards=False)\n",
    "    total_rewards.append(rewards_DQFFNN)\n",
    "    \n",
    "agent.model.save_model(path='../models/DQFFNN_model.pth')\n",
    "plot_reward(total_rewards, \"DQFFNN Agent\", f\"DQFFNN_agent_lr={lr}_df={discount_factor}_batch={batch_size}_update={update_td_target}_buffer={buffer_size}\", [\"DQFFNN Agent\"], plot_variance=True, rolling_length=100)"
   ]
  },
  {
   "cell_type": "code",
   "execution_count": 164,
   "metadata": {},
   "outputs": [
    {
     "name": "stdout",
     "output_type": "stream",
     "text": [
      "[0 0 0 1 0 0 1 0 1 2 0 1 1 1 0 0 0 1 2]\n",
      "[0 0 0 0 0 0 0 0 0 0 0 0 0 0 0 0 0 0 0]\n",
      "Accuracy: 0.5263158082962036\n"
     ]
    },
    {
     "data": {
      "image/png": "[encoded data removed]",
      "text/plain": [
       "<Figure size 640x480 with 2 Axes>"
      ]
     },
     "metadata": {},
     "output_type": "display_data"
    }
   ],
   "source": [
    "print_accuracy(agent.model.predict_accumulated_goodness(x_test), y_test)"
   ]
  },
  {
   "cell_type": "markdown",
   "metadata": {},
   "source": [
    "#### Frozen Lake"
   ]
  },
  {
   "cell_type": "code",
   "execution_count": 165,
   "metadata": {},
   "outputs": [
    {
     "name": "stdout",
     "output_type": "stream",
     "text": [
      "\n",
      "Run 1\n",
      "----------------------------------------\n"
     ]
    },
    {
     "name": "stderr",
     "output_type": "stream",
     "text": [
      "  0%|          | 0/100 [00:00<?, ?it/s]"
     ]
    },
    {
     "name": "stderr",
     "output_type": "stream",
     "text": [
      "100%|██████████| 100/100 [00:08<00:00, 11.18it/s]\n"
     ]
    },
    {
     "name": "stdout",
     "output_type": "stream",
     "text": [
      "\n",
      "Run 2\n",
      "----------------------------------------\n"
     ]
    },
    {
     "name": "stderr",
     "output_type": "stream",
     "text": [
      "100%|██████████| 100/100 [00:05<00:00, 17.06it/s]\n"
     ]
    },
    {
     "name": "stdout",
     "output_type": "stream",
     "text": [
      "\n",
      "Run 3\n",
      "----------------------------------------\n"
     ]
    },
    {
     "name": "stderr",
     "output_type": "stream",
     "text": [
      "100%|██████████| 100/100 [00:06<00:00, 16.22it/s]\n"
     ]
    },
    {
     "name": "stdout",
     "output_type": "stream",
     "text": [
      "\n",
      "Run 4\n",
      "----------------------------------------\n"
     ]
    },
    {
     "name": "stderr",
     "output_type": "stream",
     "text": [
      "100%|██████████| 100/100 [00:17<00:00,  5.61it/s]\n"
     ]
    },
    {
     "name": "stdout",
     "output_type": "stream",
     "text": [
      "\n",
      "Run 5\n",
      "----------------------------------------\n"
     ]
    },
    {
     "name": "stderr",
     "output_type": "stream",
     "text": [
      "100%|██████████| 100/100 [00:18<00:00,  5.40it/s]\n"
     ]
    },
    {
     "data": {
      "image/png": "[encoded data removed]",
      "text/plain": [
       "<Figure size 640x480 with 1 Axes>"
      ]
     },
     "metadata": {},
     "output_type": "display_data"
    }
   ],
   "source": [
    "layers = [20,100,100,100]\n",
    "threshold = 0.5\n",
    "lr = 0.001\n",
    "\n",
    "#RL hyperparameters\n",
    "episodes = 100\n",
    "epsilon = 0.99\n",
    "epsilon_decay = epsilon / (episodes / 2)\n",
    "discount_factor = 0.9\n",
    "batch_size = 32\n",
    "update_td_target = 10\n",
    "buffer_size = 1000\n",
    "\n",
    "env = gym.make(\"FrozenLake-v1\", max_episode_steps=100, desc=None, map_name=\"4x4\", is_slippery=False)\n",
    "env = gym.wrappers.RecordEpisodeStatistics(env, deque_size=episodes)\n",
    "\n",
    "\n",
    "total_rewards = []\n",
    "for i in range(5):\n",
    "    print(f\"\\nRun {i+1}\")\n",
    "    print(\"-\"*40)\n",
    "    agent = DQFFNNAgent(\n",
    "        env,\n",
    "        device=device,\n",
    "        layers=layers,\n",
    "        threshold=threshold,\n",
    "        lr=lr,\n",
    "        epsilon=epsilon,\n",
    "        epsilon_decay=epsilon_decay,\n",
    "        discount_factor=discount_factor,\n",
    "        batch_size=batch_size,\n",
    "        update_td_target=update_td_target,\n",
    "        buffer_size=buffer_size\n",
    "    )\n",
    "\n",
    "    play_game(env, episodes, agent, False, False, True)\n",
    "    rewards = np.array(env.return_queue).flatten()\n",
    "    total_rewards.append(rewards)\n",
    "\n",
    "average_reward = sum(rewards)/episodes\n",
    "variance = sum([((x - average_reward) ** 2) for x in rewards]) / (episodes - 1)\n",
    "agent.model.save_model(path='../models/FrozenLake_DQFFNN_model.pth')\n",
    "\n",
    "#print(\"Rewards: \", rewards)\n",
    "# print(\"Average Reward: \", average_reward)\n",
    "# print(\"Variance: \", variance)\n",
    "plot_reward(total_rewards, \"FrozenLake\", f\"FrozenLake_DQFFNN_agent_lr={lr}_df={discount_factor}_batch={batch_size}_update={update_td_target}_buffer={buffer_size}\", [\"Frozen Lake\"],plot_variance=True , rolling_length=50)"
   ]
  }
 ],
 "metadata": {
  "kernelspec": {
   "display_name": "Python 3",
   "language": "python",
   "name": "python3"
  },
  "language_info": {
   "codemirror_mode": {
    "name": "ipython",
    "version": 3
   },
   "file_extension": ".py",
   "mimetype": "text/x-python",
   "name": "python",
   "nbconvert_exporter": "python",
   "pygments_lexer": "ipython3",
   "version": "3.9.6"
  }
 },
 "nbformat": 4,
 "nbformat_minor": 2
}
