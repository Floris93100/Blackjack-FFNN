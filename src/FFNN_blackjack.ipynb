{
 "cells": [
  {
   "cell_type": "code",
   "execution_count": 1,
   "metadata": {},
   "outputs": [
    {
     "name": "stderr",
     "output_type": "stream",
     "text": [
      "c:\\Python39\\lib\\site-packages\\scipy\\__init__.py:146: UserWarning: A NumPy version >=1.16.5 and <1.23.0 is required for this version of SciPy (detected version 1.26.2\n",
      "  warnings.warn(f\"A NumPy version >={np_minversion} and <{np_maxversion}\"\n"
     ]
    },
    {
     "name": "stdout",
     "output_type": "stream",
     "text": [
      "using cpu\n"
     ]
    }
   ],
   "source": [
    "import pandas as pd\n",
    "import numpy as np\n",
    "from sklearn.model_selection import train_test_split\n",
    "from sklearn.metrics import ConfusionMatrixDisplay\n",
    "import torch\n",
    "import torch.nn as nn\n",
    "from tqdm import tqdm\n",
    "from FFNN import FFNN\n",
    "import csv\n",
    "\n",
    "from basic_strategy_agent import BasicStrategyAgent\n",
    "from blackjackenv_extended import BlackjackEnv\n",
    "\n",
    "if torch.cuda.is_available():\n",
    "    device = torch.device('cuda')\n",
    "    print(\"using gpu: \", torch.cuda.get_device_name())\n",
    "else:\n",
    "    device = torch.device('cpu')\n",
    "    print(\"using cpu\")\n",
    "\n",
    "np.random.seed(43)"
   ]
  },
  {
   "cell_type": "markdown",
   "metadata": {},
   "source": [
    "## Data Generation"
   ]
  },
  {
   "cell_type": "markdown",
   "metadata": {},
   "source": [
    "### Simulated Data"
   ]
  },
  {
   "cell_type": "code",
   "execution_count": 2,
   "metadata": {},
   "outputs": [],
   "source": [
    "def read_data(file):\n",
    "    return pd.read_csv(file, delimiter=',')"
   ]
  },
  {
   "cell_type": "code",
   "execution_count": 3,
   "metadata": {},
   "outputs": [],
   "source": [
    "def split_data(data, test_split=True):\n",
    "    x = data[:, :5]\n",
    "    y = data[:, 5]\n",
    "    if test_split:\n",
    "        x_train, x_test, y_train, y_test = train_test_split(x, y, test_size=0.2, random_state=37)\n",
    "    else:\n",
    "        x_train, x_test, y_train, y_test = x, x, y, y\n",
    "    return x_train, x_test, y_train, y_test\n",
    "\n",
    "def transform(data):\n",
    "    data = torch.tensor(data, dtype=torch.float32)\n",
    "    return data"
   ]
  },
  {
   "cell_type": "code",
   "execution_count": 4,
   "metadata": {},
   "outputs": [],
   "source": [
    "def preprocess(filename, test_split=True):\n",
    "    df_raw = read_data(filename)\n",
    "    print(df_raw.head())\n",
    "    d_raw = df_raw.to_numpy() # data to binary?\n",
    "    x, x_test, y, y_test = split_data(d_raw, test_split)\n",
    "    x, x_test = transform(x), transform(x_test)\n",
    "    \n",
    "    return x, x_test, y, y_test"
   ]
  },
  {
   "cell_type": "code",
   "execution_count": 5,
   "metadata": {},
   "outputs": [
    {
     "name": "stdout",
     "output_type": "stream",
     "text": [
      "   Player sum  Dealer card  Usable ace  Double down allowed  Split allowed  \\\n",
      "0          20            3           0                    1              1   \n",
      "1          20           10           0                    1              1   \n",
      "2          17            9           0                    1              0   \n",
      "3          20            2           0                    1              1   \n",
      "4          20            3           0                    1              1   \n",
      "\n",
      "   Action  \n",
      "0       0  \n",
      "1       0  \n",
      "2       0  \n",
      "3       0  \n",
      "4       0  \n"
     ]
    }
   ],
   "source": [
    "datafile = '../data/basic_strategy_agent.csv'\n",
    "x_train, x_test, y_train, y_test = preprocess(datafile)"
   ]
  },
  {
   "cell_type": "code",
   "execution_count": 6,
   "metadata": {},
   "outputs": [],
   "source": [
    "def one_hot_encode(y, n):\n",
    "    return torch.eye(n)[y]\n",
    "\n",
    "def combine_input_and_label(x, y, n):\n",
    "    y_one_hot = one_hot_encode(y, n)\n",
    "    return torch.concat((x, y_one_hot), 1)\n",
    "\n",
    "def generate_neg_labels(y, n):\n",
    "    y_ = y.copy()\n",
    "    for i in range(len(y)):\n",
    "        negative_labels = [j for j in range(n) if j != y[i]]\n",
    "        y_[i] = np.random.choice(negative_labels)\n",
    "\n",
    "    return y_"
   ]
  },
  {
   "cell_type": "code",
   "execution_count": 7,
   "metadata": {},
   "outputs": [
    {
     "name": "stdout",
     "output_type": "stream",
     "text": [
      "x_pos[0]: tensor([20., 10.,  0.,  1.,  1.,  1.,  0.,  0.,  0.])\n",
      "x_neg[0]: tensor([20., 10.,  0.,  1.,  1.,  0.,  1.,  0.,  0.])\n",
      "Train size: 10\n",
      "Test size: 3\n"
     ]
    }
   ],
   "source": [
    "x_pos = combine_input_and_label(x_train, y_train, 4)\n",
    "\n",
    "y_neg = generate_neg_labels(y_train, 4)\n",
    "x_neg = combine_input_and_label(x_train, y_neg, 4)\n",
    "\n",
    "y_train_OH = one_hot_encode(y_train, 4)\n",
    "y_test_OH = one_hot_encode(y_test, 4)\n",
    "\n",
    "\n",
    "print(f\"x_pos[0]: {x_pos[0]}\")\n",
    "print(f\"x_neg[0]: {x_neg[0]}\")\n",
    "print(f\"Train size: {len(x_train)}\")\n",
    "print(f\"Test size: {len(x_test)}\")"
   ]
  },
  {
   "cell_type": "markdown",
   "metadata": {},
   "source": [
    "### Balanced Data"
   ]
  },
  {
   "cell_type": "code",
   "execution_count": 21,
   "metadata": {},
   "outputs": [],
   "source": [
    "env = BlackjackEnv(natural=True)\n",
    "basic_strategy_agent = BasicStrategyAgent(env, filename='../data/blackjack_combinations')\n",
    "\n",
    "def create_combinations():\n",
    "    for player_hand in range(4, 22):\n",
    "        for dealer_hand in range(2, 12):\n",
    "            for usable_ace in range(2):\n",
    "                for can_double_down in range(2):\n",
    "                    for can_split in range(2):\n",
    "                        observation = (player_hand, dealer_hand, usable_ace, can_double_down, can_split)\n",
    "                        if (dealer_hand == 11 and usable_ace) == 1:\n",
    "                            # impossible combination\n",
    "                        \n",
    "                            continue\n",
    "                        action = basic_strategy_agent.get_action(observation)\n",
    "                        basic_strategy_agent.collect_data(observation, action)\n",
    "    \n",
    "    basic_strategy_agent.save_data()\n",
    "                        \n",
    "            \n",
    "def get_combinations_for_action(action):\n",
    "    samples = []\n",
    "    with open('../data/blackjack_combinations.csv', 'r') as file:\n",
    "        reader = csv.reader(file)\n",
    "        next(reader)\n",
    "        for row in reader:\n",
    "            if int(row[-1]) == action:\n",
    "                samples.append(row)\n",
    "    return samples\n",
    "\n",
    "def sample_balanced_data(n_samples):\n",
    "    data = []\n",
    "    combinations = np.empty(4, dtype=object)\n",
    "    \n",
    "    for action in range(4):\n",
    "        combinations[action] = get_combinations_for_action(action)\n",
    "        \n",
    "        for i in range(n_samples):\n",
    "            sample_idx = np.random.choice(len(combinations[action]))\n",
    "            data.append(combinations[action][sample_idx])\n",
    "\n",
    "    with open('../data/balanced_data.csv', 'w', newline='') as file:\n",
    "        writer = csv.writer(file)\n",
    "        \n",
    "        writer.writerow([\"Player sum\", \"Dealer card\", \"Usable ace\", \"Double down allowed\", \"Split allowed\", \"Action\"])\n",
    "        writer.writerows(data)"
   ]
  },
  {
   "cell_type": "code",
   "execution_count": 9,
   "metadata": {},
   "outputs": [],
   "source": [
    "create_combinations()\n",
    "samples_per_action = 25_000\n",
    "sample_balanced_data(samples_per_action)"
   ]
  },
  {
   "cell_type": "code",
   "execution_count": 32,
   "metadata": {},
   "outputs": [
    {
     "name": "stdout",
     "output_type": "stream",
     "text": [
      "   Player sum  Dealer card  Usable ace  Double down allowed  Split allowed  \\\n",
      "0           4            2           0                    0              0   \n",
      "1           4            2           0                    0              1   \n",
      "2           4            2           0                    1              0   \n",
      "3           4            2           0                    1              1   \n",
      "4           4            2           1                    0              0   \n",
      "\n",
      "   Action  \n",
      "0       1  \n",
      "1       3  \n",
      "2       1  \n",
      "3       3  \n",
      "4       1  \n",
      "x_pos[0]: tensor([4., 2., 0., 0., 0., 0., 1., 0., 0.])\n",
      "x_neg[0]: tensor([4., 2., 0., 0., 0., 0., 0., 0., 1.])\n",
      "Train size: 1368\n",
      "Test size: 1368\n"
     ]
    }
   ],
   "source": [
    "datafile = '../data/blackjack_combinations.csv'\n",
    "x_train_bal, x_test_bal, y_train_bal, y_test_bal = preprocess(datafile, test_split=False)\n",
    "\n",
    "x_pos_bal = combine_input_and_label(x_train_bal, y_train_bal, 4)\n",
    "\n",
    "y_neg_bal = generate_neg_labels(y_train_bal, 4)\n",
    "x_neg_bal = combine_input_and_label(x_train_bal, y_neg_bal, 4)\n",
    "\n",
    "y_train_OH_bal = one_hot_encode(y_train_bal, 4)\n",
    "y_test_OH_bal = one_hot_encode(y_test_bal, 4)\n",
    "\n",
    "\n",
    "print(f\"x_pos[0]: {x_pos_bal[0]}\")\n",
    "print(f\"x_neg[0]: {x_neg_bal[0]}\")\n",
    "print(f\"Train size: {len(x_train_bal)}\")\n",
    "print(f\"Test size: {len(x_test_bal)}\")"
   ]
  },
  {
   "cell_type": "markdown",
   "metadata": {},
   "source": [
    "## Forward-Forward"
   ]
  },
  {
   "cell_type": "code",
   "execution_count": 8,
   "metadata": {},
   "outputs": [],
   "source": [
    "def cross_validation(x_pos, x_neg,architectures, thresholds, learning_rates, n_epochs, n_folds, batch_sizes, lr_decays):\n",
    "    \n",
    "    size_subset = len(x_pos) // n_folds\n",
    "    validation_risks = []\n",
    "    \n",
    "    for architecture in tqdm(architectures):\n",
    "        for threshold in thresholds:\n",
    "            for lr in learning_rates:\n",
    "                for batch_size in batch_sizes:\n",
    "                    for lr_decay in lr_decays:\n",
    "                        print(f\"Current Model:{architecture}, thr={threshold}, lr={lr}, batch_size={batch_size}, lr_decay={lr_decay}\")\n",
    "                        print(\"-\"*40)\n",
    "                        val_risks_model = []\n",
    "                        \n",
    "                        for fold in range(n_folds):\n",
    "                            print(f\"Fold {fold}\")\n",
    "                            print(\"-\"*40)\n",
    "                            \n",
    "                            # Split data into training and validation\n",
    "                            start_idx = fold * size_subset\n",
    "                            end_idx = (fold + 1) * size_subset\n",
    "                            x_pos_train = torch.cat((x_pos[:start_idx], x_pos[end_idx:]))\n",
    "                            x_neg_train = torch.cat((x_neg[:start_idx], x_neg[end_idx:]))\n",
    "                            x_val = x_train[start_idx:end_idx]\n",
    "                            y_val = y_train[start_idx:end_idx]\n",
    "                            \n",
    "                            # Initialize current model\n",
    "                            model = FFNN(\n",
    "                                device=device,\n",
    "                                layers=architecture,\n",
    "                                bias=True,\n",
    "                                threshold=threshold,\n",
    "                                learning_rate=lr,\n",
    "                                epochs=n_epochs,\n",
    "                                batch_size=batch_size,\n",
    "                                lr_decay=lr_decay\n",
    "                            ).to(device)\n",
    "                            \n",
    "                            # Train model\n",
    "                            model.train(x_pos_train, x_neg_train)\n",
    "                            \n",
    "                            # Compute validation risk\n",
    "                            predictions = model.predict_accumulated_goodness(x_val) # juiste risk?\n",
    "                            val_risk = 1 - predictions.eq(torch.from_numpy(y_val).to(device)).float().mean().item()\n",
    "                            val_risks_model.append(val_risk)\n",
    "                            \n",
    "                            print(f\"\\n validation risk: {val_risk}\")\n",
    "                            \n",
    "                        avg_val_risk = np.mean(val_risks_model)\n",
    "                        validation_risks.append((architecture, threshold, lr, avg_val_risk))\n",
    "                        #model.save_model(f'../models/model_{architecture}_{threshold}_{lr}_{avg_val_risk}.pth')\n",
    "                        \n",
    "                        with open('../data/cxv_results.csv', 'a', newline='') as file:\n",
    "                            writer = csv.writer(file)\n",
    "                            writer.writerow([architecture, threshold, lr, batch_size, lr_decay, avg_val_risk])\n",
    "                            \n",
    "                        print(\"-\"*40)\n",
    "                        print(f\"validation risks for model {architecture}, thr={threshold}, lr={lr}: {val_risks_model}\")\n",
    "                        print(f\"average validation risk: {avg_val_risk}\\n\")\n",
    "    \n",
    "    print(\"total validation risks:\" , validation_risks)  \n",
    "    min_risk_model = min(validation_risks, key=lambda x: x[-1])\n",
    "    print(f\"Best model: {min_risk_model}\")   \n",
    "    return min_risk_model               "
   ]
  },
  {
   "cell_type": "code",
   "execution_count": null,
   "metadata": {},
   "outputs": [],
   "source": [
    "# Hyperparameters\n",
    "architectures = [\n",
    "    [9,30,30],\n",
    "    [9,100,100],\n",
    "    [9,500,500],\n",
    "    [9,100,100,100],\n",
    "    [9,200,200,200],\n",
    "    [9,1000,1000,1000],\n",
    "    [9,2000,2000,2000,2000],\n",
    "]\n",
    "thresholds = [0.3, 0.4, 0.5, 0.6, 0.7, 0.8, 1, 3, 5, 7]\n",
    "learning_rates = [0.0001,0.001,0.01,0.03]\n",
    "n_epochs = 1000\n",
    "n_folds = 10\n",
    "batch_sizes = [64, 500, len(x_train)]\n",
    "lr_decays = [0, 1]\n",
    "\n",
    "best_model = cross_validation(\n",
    "    x_pos, \n",
    "    x_neg, \n",
    "    architectures,\n",
    "    thresholds,\n",
    "    learning_rates,\n",
    "    n_epochs,\n",
    "    n_folds,\n",
    "    batch_sizes,\n",
    "    lr_decays\n",
    ")"
   ]
  },
  {
   "cell_type": "code",
   "execution_count": 9,
   "metadata": {},
   "outputs": [
    {
     "name": "stdout",
     "output_type": "stream",
     "text": [
      "Best model: [9, 100, 100], thr=0.5, lr=0.01\n"
     ]
    }
   ],
   "source": [
    "# Best model hyperparameters\n",
    "architecture_best = [9,100,100]\n",
    "threshold_best = 0.5\n",
    "learning_rate_best = 0.01\n",
    "epochs = 100\n",
    "batch_size = 1\n",
    "lr_decay = False\n",
    "\n",
    "print(f\"Best model: {architecture_best}, thr={threshold_best}, lr={learning_rate_best}\")\n",
    "\n",
    "model = FFNN(\n",
    "    device=device,\n",
    "    layers=architecture_best,\n",
    "    threshold=threshold_best,\n",
    "    learning_rate=learning_rate_best,\n",
    "    epochs=epochs,\n",
    "    batch_size=batch_size,\n",
    "    lr_decay=lr_decay\n",
    ").to(device)"
   ]
  },
  {
   "cell_type": "code",
   "execution_count": null,
   "metadata": {},
   "outputs": [],
   "source": [
    "model.train(x_pos, x_neg)\n",
    "model.save_model('../models/best_model.pth')"
   ]
  },
  {
   "cell_type": "code",
   "execution_count": 29,
   "metadata": {},
   "outputs": [
    {
     "name": "stdout",
     "output_type": "stream",
     "text": [
      "Accuracy: 0.7056105732917786\n"
     ]
    },
    {
     "data": {
      "text/plain": [
       "<sklearn.metrics._plot.confusion_matrix.ConfusionMatrixDisplay at 0x1d5fdb6f220>"
      ]
     },
     "execution_count": 29,
     "metadata": {},
     "output_type": "execute_result"
    },
    {
     "data": {
      "image/png": "[encoded data removed]",
      "text/plain": [
       "<Figure size 640x480 with 2 Axes>"
      ]
     },
     "metadata": {},
     "output_type": "display_data"
    }
   ],
   "source": [
    "predictions = np.array(torch.Tensor.cpu(model.predict_accumulated_goodness(x_test))).flatten()\n",
    "\n",
    "# print(x_test)\n",
    "print(y_test)\n",
    "print(predictions)\n",
    "\n",
    "accuracy =  model.predict_accumulated_goodness(x_test).eq(torch.from_numpy(y_test).to(device)).float().mean().item() # heet dit accuracy?\n",
    "print(f'Accuracy: {accuracy}')\n",
    "\n",
    "ConfusionMatrixDisplay.from_predictions(y_test, predictions)\n"
   ]
  },
  {
   "cell_type": "markdown",
   "metadata": {},
   "source": [
    "### FFNN with Softmax Classifier"
   ]
  },
  {
   "cell_type": "code",
   "execution_count": 9,
   "metadata": {},
   "outputs": [
    {
     "name": "stdout",
     "output_type": "stream",
     "text": [
      "Best model: [9, 100, 100, 100], thr=0.5, lr=0.03\n"
     ]
    },
    {
     "name": "stderr",
     "output_type": "stream",
     "text": [
      "100%|██████████| 400/400 [00:02<00:00, 148.46it/s]\n",
      "100%|██████████| 400/400 [00:03<00:00, 132.04it/s]\n",
      "100%|██████████| 400/400 [00:03<00:00, 128.32it/s]\n"
     ]
    },
    {
     "name": "stdout",
     "output_type": "stream",
     "text": [
      "Training Softmax\n",
      "----------------------------------------\n"
     ]
    },
    {
     "name": "stderr",
     "output_type": "stream",
     "text": [
      "100%|██████████| 400/400 [00:00<00:00, 924.03it/s]"
     ]
    },
    {
     "name": "stdout",
     "output_type": "stream",
     "text": [
      "Last epoch loss: 6.191149586811661e-05\n"
     ]
    },
    {
     "name": "stderr",
     "output_type": "stream",
     "text": [
      "\n"
     ]
    }
   ],
   "source": [
    "# Best model hyperparameters\n",
    "architecture_best = [9,100,100,100]\n",
    "threshold_best = 0.5\n",
    "learning_rate_best = 0.03\n",
    "epochs = 400\n",
    "batch_size = 1\n",
    "lr_decay = False\n",
    "\n",
    "print(f\"Best model: {architecture_best}, thr={threshold_best}, lr={learning_rate_best}\")\n",
    "\n",
    "model = FFNN(\n",
    "    device=device,\n",
    "    layers=architecture_best,\n",
    "    threshold=threshold_best,\n",
    "    learning_rate=learning_rate_best,\n",
    "    epochs=epochs,\n",
    "    batch_size=batch_size,\n",
    "    lr_decay=lr_decay,\n",
    "    classifier=True\n",
    ").to(device)\n",
    "\n",
    "model.train(x_pos, x_neg)\n",
    "model.train_classifier(x_pos, y_train_OH, epochs)\n",
    "model.save_model('../models/softmax_model.pth')\n",
    "torch.save(model.classifier.state_dict(), '../models/softmax_model_classifier.pth')"
   ]
  },
  {
   "cell_type": "markdown",
   "metadata": {},
   "source": [
    "### Balanced Data FFNN"
   ]
  },
  {
   "cell_type": "code",
   "execution_count": 48,
   "metadata": {},
   "outputs": [
    {
     "name": "stdout",
     "output_type": "stream",
     "text": [
      "3000\n"
     ]
    }
   ],
   "source": [
    "# Hyperparameters\n",
    "layers = [9, 2000, 2000, 2000, 2000]\n",
    "threshold = 6\n",
    "learning_rate = 0.001\n",
    "epochs = 120\n",
    "batch_size = 64\n",
    "lr_decay = False\n",
    "\n",
    "model = FFNN(\n",
    "    device=device,\n",
    "    layers=layers,\n",
    "    threshold=threshold,\n",
    "    learning_rate=learning_rate,\n",
    "    epochs=epochs,\n",
    "    batch_size=batch_size,\n",
    "    lr_decay=lr_decay,\n",
    "    ).to(device)\n"
   ]
  },
  {
   "cell_type": "code",
   "execution_count": null,
   "metadata": {},
   "outputs": [],
   "source": [
    "model.train(x_pos_bal, x_neg_bal)\n",
    "model.save_model('../models/model_balanced.pth')"
   ]
  },
  {
   "cell_type": "code",
   "execution_count": 46,
   "metadata": {},
   "outputs": [
    {
     "name": "stdout",
     "output_type": "stream",
     "text": [
      "Accuracy: 0.7909356951713562\n"
     ]
    },
    {
     "data": {
      "text/plain": [
       "<sklearn.metrics._plot.confusion_matrix.ConfusionMatrixDisplay at 0x17d8db17af0>"
      ]
     },
     "execution_count": 46,
     "metadata": {},
     "output_type": "execute_result"
    },
    {
     "data": {
      "image/png": "[encoded data removed]",
      "text/plain": [
       "<Figure size 640x480 with 2 Axes>"
      ]
     },
     "metadata": {},
     "output_type": "display_data"
    }
   ],
   "source": [
    "predictions = torch.Tensor.cpu(model.predict_accumulated_goodness(x_test_bal))\n",
    "accuracy =  predictions.eq(torch.from_numpy(y_test_bal).to(device)).float().mean().item() # heet dit accuracy?\n",
    "print(f'Accuracy: {accuracy}')\n",
    "\n",
    "ConfusionMatrixDisplay.from_predictions(y_test_bal, np.array(predictions).flatten())"
   ]
  },
  {
   "cell_type": "markdown",
   "metadata": {},
   "source": [
    "## Backpropagation"
   ]
  },
  {
   "cell_type": "code",
   "execution_count": 26,
   "metadata": {},
   "outputs": [],
   "source": [
    "def train(model, x, y, epochs, loss_function, optimizer, batch_size):\n",
    "    \n",
    "    model.train()\n",
    "    num_batches = len(x) // batch_size\n",
    "    \n",
    "    for epoch in range(epochs):\n",
    "        losses = []\n",
    "        for batch in tqdm(range(num_batches)):\n",
    "            start_idx = batch * batch_size\n",
    "            end_idx = start_idx + batch_size\n",
    "            \n",
    "            x_batch = x[start_idx:end_idx]\n",
    "            y_batch = y[start_idx:end_idx]\n",
    "            \n",
    "            predictions = model(x_batch)\n",
    "            loss = loss_function(predictions, y_batch)\n",
    "            losses.append(loss.item())\n",
    "            loss.backward()\n",
    "            optimizer.step()\n",
    "            optimizer.zero_grad()\n",
    "            \n",
    "        print(f\"epoch: {epoch + 1}/{epochs} avg. loss: {sum(losses)/len(losses)}\")"
   ]
  },
  {
   "cell_type": "code",
   "execution_count": 27,
   "metadata": {},
   "outputs": [],
   "source": [
    "def test(model, x_test, y_test, loss_function):\n",
    "    \n",
    "    model.eval()\n",
    "    \n",
    "    with torch.no_grad():\n",
    "        predictions = model(x_test)\n",
    "        test_loss = loss_function(predictions, y_test).item()\n",
    "        \n",
    "    print(f\"avg. test loss: {test_loss}\")   \n",
    "    \n",
    "def predict_actions(model, x):\n",
    "    model.eval()\n",
    "    \n",
    "    with torch.no_grad():\n",
    "        predictions = model(x)\n",
    "        return predictions.argmax(1)"
   ]
  },
  {
   "cell_type": "code",
   "execution_count": 28,
   "metadata": {},
   "outputs": [],
   "source": [
    "from backpropNN import BackpropNN\n",
    "\n",
    "input_size = 5\n",
    "output_size = 4\n",
    "\n",
    "# hyperparameters\n",
    "hidden_size = 30\n",
    "activation_function = nn.ReLU()\n",
    "\n",
    "# fully connected neural network with 4 hidden layers\n",
    "backprop_model = BackpropNN(input_size, output_size, hidden_size, activation_function)"
   ]
  },
  {
   "cell_type": "code",
   "execution_count": 32,
   "metadata": {},
   "outputs": [
    {
     "name": "stderr",
     "output_type": "stream",
     "text": [
      "100%|██████████| 26/26 [00:00<00:00, 519.77it/s]\n"
     ]
    },
    {
     "name": "stdout",
     "output_type": "stream",
     "text": [
      "epoch: 1/10 avg. loss: 1.3648410806289086\n"
     ]
    },
    {
     "name": "stderr",
     "output_type": "stream",
     "text": [
      "100%|██████████| 26/26 [00:00<00:00, 806.64it/s]\n"
     ]
    },
    {
     "name": "stdout",
     "output_type": "stream",
     "text": [
      "epoch: 2/10 avg. loss: 1.268617909688216\n"
     ]
    },
    {
     "name": "stderr",
     "output_type": "stream",
     "text": [
      "100%|██████████| 26/26 [00:00<00:00, 812.50it/s]\n"
     ]
    },
    {
     "name": "stdout",
     "output_type": "stream",
     "text": [
      "epoch: 3/10 avg. loss: 1.1571954580453725\n"
     ]
    },
    {
     "name": "stderr",
     "output_type": "stream",
     "text": [
      "100%|██████████| 26/26 [00:00<00:00, 649.74it/s]\n"
     ]
    },
    {
     "name": "stdout",
     "output_type": "stream",
     "text": [
      "epoch: 4/10 avg. loss: 1.072003308397073\n"
     ]
    },
    {
     "name": "stderr",
     "output_type": "stream",
     "text": [
      "100%|██████████| 26/26 [00:00<00:00, 788.24it/s]\n"
     ]
    },
    {
     "name": "stdout",
     "output_type": "stream",
     "text": [
      "epoch: 5/10 avg. loss: 1.028952459876354\n"
     ]
    },
    {
     "name": "stderr",
     "output_type": "stream",
     "text": [
      "100%|██████████| 26/26 [00:00<00:00, 896.65it/s]\n"
     ]
    },
    {
     "name": "stdout",
     "output_type": "stream",
     "text": [
      "epoch: 6/10 avg. loss: 1.009978154530892\n"
     ]
    },
    {
     "name": "stderr",
     "output_type": "stream",
     "text": [
      "100%|██████████| 26/26 [00:00<00:00, 758.64it/s]\n"
     ]
    },
    {
     "name": "stdout",
     "output_type": "stream",
     "text": [
      "epoch: 7/10 avg. loss: 0.9906617953227117\n"
     ]
    },
    {
     "name": "stderr",
     "output_type": "stream",
     "text": [
      "100%|██████████| 26/26 [00:00<00:00, 684.24it/s]\n"
     ]
    },
    {
     "name": "stdout",
     "output_type": "stream",
     "text": [
      "epoch: 8/10 avg. loss: 0.970029585636579\n"
     ]
    },
    {
     "name": "stderr",
     "output_type": "stream",
     "text": [
      "100%|██████████| 26/26 [00:00<00:00, 837.89it/s]\n"
     ]
    },
    {
     "name": "stdout",
     "output_type": "stream",
     "text": [
      "epoch: 9/10 avg. loss: 0.9461542574258951\n"
     ]
    },
    {
     "name": "stderr",
     "output_type": "stream",
     "text": [
      "100%|██████████| 26/26 [00:00<00:00, 896.49it/s]\n"
     ]
    },
    {
     "name": "stdout",
     "output_type": "stream",
     "text": [
      "epoch: 10/10 avg. loss: 0.9243824871686789\n"
     ]
    }
   ],
   "source": [
    "# hyperparameters\n",
    "epochs = 100\n",
    "batch_size = 64\n",
    "learning_rate = 0.001\n",
    "\n",
    "optimizer = torch.optim.Adam(backprop_model.parameters(), lr=learning_rate);\n",
    "loss_fn = nn.CrossEntropyLoss()\n",
    "\n",
    "train(backprop_model, x_train, y_train_OH, epochs, loss_fn, optimizer, batch_size)\n",
    "torch.save(backprop_model.state_dict(), '../models/backprop_model.pth')"
   ]
  },
  {
   "cell_type": "code",
   "execution_count": 152,
   "metadata": {},
   "outputs": [
    {
     "name": "stdout",
     "output_type": "stream",
     "text": [
      "avg. test loss: 0.9507748484611511\n"
     ]
    }
   ],
   "source": [
    "test(backprop_model, x_test, y_test_OH, loss_fn)"
   ]
  },
  {
   "cell_type": "code",
   "execution_count": 153,
   "metadata": {},
   "outputs": [
    {
     "name": "stdout",
     "output_type": "stream",
     "text": [
      "tensor([0, 1, 1,  ..., 1, 0, 0])\n",
      "tensor([0, 0, 0,  ..., 0, 0, 0])\n",
      "0.5006591975688934\n"
     ]
    }
   ],
   "source": [
    "# print(torch.from_numpy(y_test))\n",
    "# print(predict_action(backprop_model, x_test))\n",
    "accuracy = predict_actions(backprop_model, x_test).eq(torch.from_numpy(y_test)).float().mean().item() # heet dit accuracy?\n",
    "print(accuracy)"
   ]
  },
  {
   "cell_type": "markdown",
   "metadata": {},
   "source": [
    "## DQFFNN Testing"
   ]
  },
  {
   "cell_type": "code",
   "execution_count": 24,
   "metadata": {},
   "outputs": [
    {
     "name": "stdout",
     "output_type": "stream",
     "text": [
      "Best model: [9, 100, 100], thr=0.5, lr=0.01\n"
     ]
    }
   ],
   "source": [
    "# DQFFNN hyperparameters\n",
    "architecture_best = [9,100,100]\n",
    "threshold_best = 0.5\n",
    "learning_rate_best = 0.01\n",
    "epochs = 100\n",
    "batch_size = 1\n",
    "lr_decay = False\n",
    "\n",
    "print(f\"Best model: {architecture_best}, thr={threshold_best}, lr={learning_rate_best}\")\n",
    "\n",
    "model = FFNN(\n",
    "    device=device,\n",
    "    layers=architecture_best,\n",
    "    threshold=threshold_best,\n",
    "    learning_rate=learning_rate_best,\n",
    "    epochs=epochs,\n",
    "    batch_size=batch_size,\n",
    "    lr_decay=lr_decay\n",
    ").to(device)\n",
    "\n",
    "model.load_model('../models/DQFFNN_model.pth')"
   ]
  },
  {
   "cell_type": "code",
   "execution_count": 25,
   "metadata": {},
   "outputs": [
    {
     "name": "stdout",
     "output_type": "stream",
     "text": [
      "Accuracy: 0.7056105732917786\n"
     ]
    },
    {
     "data": {
      "text/plain": [
       "<sklearn.metrics._plot.confusion_matrix.ConfusionMatrixDisplay at 0x1d5802da970>"
      ]
     },
     "execution_count": 25,
     "metadata": {},
     "output_type": "execute_result"
    },
    {
     "data": {
      "image/png": "[encoded data removed]",
      "text/plain": [
       "<Figure size 640x480 with 2 Axes>"
      ]
     },
     "metadata": {},
     "output_type": "display_data"
    }
   ],
   "source": [
    "predictions = np.array(model.predict_accumulated_goodness(x_test.to(device))).flatten()\n",
    "accuracy =  model.predict_accumulated_goodness(x_test).eq(torch.from_numpy(y_test).to(device)).float().mean().item() # heet dit accuracy?\n",
    "print(f'Accuracy: {accuracy}')\n",
    "ConfusionMatrixDisplay.from_predictions(y_test, predictions)"
   ]
  }
 ],
 "metadata": {
  "kernelspec": {
   "display_name": "Python 3",
   "language": "python",
   "name": "python3"
  },
  "language_info": {
   "codemirror_mode": {
    "name": "ipython",
    "version": 3
   },
   "file_extension": ".py",
   "mimetype": "text/x-python",
   "name": "python",
   "nbconvert_exporter": "python",
   "pygments_lexer": "ipython3",
   "version": "3.9.6"
  }
 },
 "nbformat": 4,
 "nbformat_minor": 2
}
