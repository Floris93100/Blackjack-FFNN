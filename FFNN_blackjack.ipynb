{
 "cells": [
  {
   "cell_type": "code",
   "execution_count": 80,
   "metadata": {},
   "outputs": [],
   "source": [
    "import pandas as pd\n",
    "import numpy as np\n",
    "from sklearn.model_selection import train_test_split\n",
    "import torch\n",
    "import torch.nn as nn\n",
    "from torch.nn.functional import normalize\n",
    "from tqdm import tqdm"
   ]
  },
  {
   "cell_type": "code",
   "execution_count": 81,
   "metadata": {},
   "outputs": [],
   "source": [
    "def read_data(file):\n",
    "    return pd.read_csv(file, delimiter=',')"
   ]
  },
  {
   "cell_type": "code",
   "execution_count": 82,
   "metadata": {},
   "outputs": [],
   "source": [
    "def split_data(data):\n",
    "    x = data[:, :5]\n",
    "    y = data[:, 5]\n",
    "    x_train, x_test, y_train, y_test = train_test_split(x, y, test_size=0.2, random_state=37)\n",
    "    return x_train, x_test, y_train, y_test\n",
    "\n",
    "def transform(data):\n",
    "    data = torch.tensor(data, dtype=torch.float32)\n",
    "    # data = normalize(data)\n",
    "    return data"
   ]
  },
  {
   "cell_type": "code",
   "execution_count": 83,
   "metadata": {},
   "outputs": [],
   "source": [
    "def preprocess(filename):\n",
    "    df_raw = read_data(filename)\n",
    "    print(df_raw.head())\n",
    "    d_raw = df_raw.to_numpy() # data to binary?\n",
    "    x, x_test, y, y_test = split_data(d_raw)\n",
    "\n",
    "    x, x_test = transform(x), transform(x_test)\n",
    "    \n",
    "    return x, x_test, y, y_test"
   ]
  },
  {
   "cell_type": "code",
   "execution_count": 124,
   "metadata": {},
   "outputs": [
    {
     "name": "stdout",
     "output_type": "stream",
     "text": [
      "   Player sum  Dealer card  Usable ace  Double down allowed  Split allowed  \\\n",
      "0           9            4           0                    1              0   \n",
      "1          16           10           0                    1              0   \n",
      "2          14            4           0                    1              0   \n",
      "3          20            8           0                    1              1   \n",
      "4          13            3           0                    1              0   \n",
      "\n",
      "   Action  \n",
      "0       2  \n",
      "1       1  \n",
      "2       0  \n",
      "3       0  \n",
      "4       0  \n"
     ]
    }
   ],
   "source": [
    "datafile = 'data/basic_strategy_agent.csv'\n",
    "x_train, x_test, y_train, y_test = preprocess(datafile)"
   ]
  },
  {
   "cell_type": "code",
   "execution_count": 85,
   "metadata": {},
   "outputs": [],
   "source": [
    "def one_hot_encode(y, n):\n",
    "    return torch.eye(n)[y]\n",
    "\n",
    "def combine_input_and_label(x, y, n):\n",
    "    y_one_hot = one_hot_encode(y, n)\n",
    "    return torch.concat((x, y_one_hot), 1)\n",
    "\n",
    "def generate_neg_labels(y, n):\n",
    "    y_ = y.copy()\n",
    "    for i in range(len(y)):\n",
    "        negative_labels = [j for j in range(n) if j != y[i]]\n",
    "        y_[i] = np.random.choice(negative_labels)\n",
    "\n",
    "    return y_"
   ]
  },
  {
   "cell_type": "code",
   "execution_count": 103,
   "metadata": {},
   "outputs": [
    {
     "name": "stdout",
     "output_type": "stream",
     "text": [
      "x_pos[0]: tensor([15.,  4.,  0.,  1.,  0.,  1.,  0.,  0.,  0.])\n",
      "x_neg[0]: tensor([15.,  4.,  0.,  1.,  0.,  0.,  1.,  0.,  0.])\n"
     ]
    }
   ],
   "source": [
    "\n",
    "x_pos = combine_input_and_label(x_train, y_train, 4)\n",
    "\n",
    "y_neg = generate_neg_labels(y_train, 4)\n",
    "x_neg = combine_input_and_label(x_train, y_neg, 4)\n",
    "\n",
    "y_train_OH = one_hot_encode(y_train, 4)\n",
    "y_test_OH = one_hot_encode(y_test, 4)\n",
    "\n",
    "\n",
    "print(f\"x_pos[0]: {x_pos[0]}\")\n",
    "print(f\"x_neg[0]: {x_neg[0]}\")"
   ]
  },
  {
   "cell_type": "markdown",
   "metadata": {},
   "source": [
    "## Backpropegation"
   ]
  },
  {
   "cell_type": "code",
   "execution_count": 94,
   "metadata": {},
   "outputs": [],
   "source": [
    "def train(model, x, y, epochs, loss_function, optimizer, batch_size):\n",
    "    \n",
    "    model.train()\n",
    "    num_batches = len(x) // batch_size\n",
    "    \n",
    "    for epoch in range(epochs):\n",
    "        losses = []\n",
    "        for batch in tqdm(range(num_batches)):\n",
    "            start_idx = batch * batch_size\n",
    "            end_idx = start_idx + batch_size\n",
    "            \n",
    "            x_batch = x[start_idx:end_idx]\n",
    "            y_batch = y[start_idx:end_idx]\n",
    "            \n",
    "            predictions = model(x_batch)\n",
    "            loss = loss_function(predictions, y_batch)\n",
    "            losses.append(loss.item())\n",
    "            loss.backward()\n",
    "            optimizer.step()\n",
    "            optimizer.zero_grad()\n",
    "            \n",
    "        print(f\"epoch: {epoch + 1}/{epochs} avg. loss: {sum(losses)/len(losses)}\")"
   ]
  },
  {
   "cell_type": "code",
   "execution_count": 137,
   "metadata": {},
   "outputs": [],
   "source": [
    "def test(model, x_test, y_test, loss_function):\n",
    "    \n",
    "    model.eval()\n",
    "    \n",
    "    with torch.no_grad():\n",
    "        predictions = model(x_test)\n",
    "        test_loss = loss_function(predictions, y_test).item()\n",
    "        \n",
    "    print(f\"avg. test loss: {test_loss}\")   \n",
    "    \n",
    "def predict_action(model, x):\n",
    "    model.eval()\n",
    "    \n",
    "    with torch.no_grad():\n",
    "        predictions = model(x)\n",
    "        return predictions.argmax(1)"
   ]
  },
  {
   "cell_type": "code",
   "execution_count": 147,
   "metadata": {},
   "outputs": [],
   "source": [
    "from backpropNN import BackpropNN\n",
    "\n",
    "input_size = 5\n",
    "output_size = 4\n",
    "\n",
    "# hyperparameters\n",
    "hidden_size = 2000\n",
    "activation_function = nn.ReLU()\n",
    "\n",
    "# fully connected neural network with 4 hidden layers\n",
    "backprop_model = BackpropNN(input_size, output_size, hidden_size, activation_function)"
   ]
  },
  {
   "cell_type": "code",
   "execution_count": 151,
   "metadata": {},
   "outputs": [
    {
     "name": "stderr",
     "output_type": "stream",
     "text": [
      "100%|██████████| 379/379 [00:41<00:00,  9.08it/s]\n"
     ]
    },
    {
     "name": "stdout",
     "output_type": "stream",
     "text": [
      "epoch: 1/2 Avg. loss: 0.9681648470481027\n"
     ]
    },
    {
     "name": "stderr",
     "output_type": "stream",
     "text": [
      "100%|██████████| 379/379 [00:42<00:00,  9.00it/s]"
     ]
    },
    {
     "name": "stdout",
     "output_type": "stream",
     "text": [
      "epoch: 2/2 Avg. loss: 0.9680799989712899\n"
     ]
    },
    {
     "name": "stderr",
     "output_type": "stream",
     "text": [
      "\n"
     ]
    }
   ],
   "source": [
    "# hyperparameters\n",
    "epochs = 2\n",
    "batch_size = 32\n",
    "learning_rate = 0.005\n",
    "\n",
    "optimizer = torch.optim.Adam(backprop_model.parameters(), lr=learning_rate);\n",
    "loss_fn = nn.CrossEntropyLoss()\n",
    "\n",
    "train(backprop_model, x_train, y_train_OH, epochs, loss_fn, optimizer, batch_size)"
   ]
  },
  {
   "cell_type": "code",
   "execution_count": 152,
   "metadata": {},
   "outputs": [
    {
     "name": "stdout",
     "output_type": "stream",
     "text": [
      "avg. test loss: 0.9507748484611511\n"
     ]
    }
   ],
   "source": [
    "test(backprop_model, x_test, y_test_OH, loss_fn)"
   ]
  },
  {
   "cell_type": "code",
   "execution_count": 153,
   "metadata": {},
   "outputs": [
    {
     "name": "stdout",
     "output_type": "stream",
     "text": [
      "tensor([0, 1, 1,  ..., 1, 0, 0])\n",
      "tensor([0, 0, 0,  ..., 0, 0, 0])\n",
      "0.5006591975688934\n"
     ]
    }
   ],
   "source": [
    "# print(torch.from_numpy(y_test))\n",
    "# print(predict_action(backprop_model, x_test))\n",
    "test_error = 1 - predict_action(backprop_model, x_test).eq(torch.from_numpy(y_test)).float().mean().item()\n",
    "print(test_error)"
   ]
  }
 ],
 "metadata": {
  "kernelspec": {
   "display_name": "Python 3",
   "language": "python",
   "name": "python3"
  },
  "language_info": {
   "codemirror_mode": {
    "name": "ipython",
    "version": 3
   },
   "file_extension": ".py",
   "mimetype": "text/x-python",
   "name": "python",
   "nbconvert_exporter": "python",
   "pygments_lexer": "ipython3",
   "version": "undefined.undefined.undefined"
  }
 },
 "nbformat": 4,
 "nbformat_minor": 2
}
