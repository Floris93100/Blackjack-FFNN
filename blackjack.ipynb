{
 "cells": [
  {
   "cell_type": "code",
   "execution_count": 1,
   "metadata": {},
   "outputs": [],
   "source": [
    "from blackjackenv_floris import BlackjackEnv\n",
    "\n",
    "env = BlackjackEnv(natural=True)\n",
    "KEY = {0: 'STAND', 1:'HIT', 2:'DOUBLE', 3: 'SPLIT'}\n",
    "\n",
    "rewards = []\n",
    "\n",
    "def play_game(env, episodes, agent):\n",
    "\n",
    "    for episode in range(episodes):\n",
    "        observation, info = env.reset()\n",
    "        done = False\n",
    "        print(\"Start Observation: \", observation)\n",
    "        print(\"hand 1\", env.player)\n",
    "        print(\"hand 2\", env.player2)\n",
    "        \n",
    "        while not done:\n",
    "            action = agent.get_action(observation)\n",
    "            print(\"Action: \", KEY[action])\n",
    "\n",
    "            observation, reward, terminated, truncated, info = env.step(action) \n",
    "            print(\"Observation: \", observation, \"Reward: \", reward)\n",
    "            print(\"hand 1\", env.player)\n",
    "            print(\"hand 2\", env.player2)\n",
    "\n",
    "            if terminated or truncated:\n",
    "                print(f\"Dealer hand: \", env.dealer)\n",
    "                rewards.append(reward)\n",
    "                observation = env.reset()\n",
    "                done = True\n"
   ]
  },
  {
   "cell_type": "code",
   "execution_count": 54,
   "metadata": {},
   "outputs": [
    {
     "name": "stdout",
     "output_type": "stream",
     "text": [
      "Start Observation:  (20, 3, False, True, False, True)\n",
      "hand 1 [10, 10]\n",
      "hand 2 []\n",
      "Action:  SPLIT\n",
      "Observation:  (20, 3, False, False, True, True) Reward:  0.0\n",
      "hand 1 [10, 10]\n",
      "hand 2 [10, 6]\n",
      "Action:  HIT\n",
      "Observation:  (30, 3, False, False, True, False) Reward:  -1.0\n",
      "hand 1 [10, 10, 10]\n",
      "hand 2 [10, 6]\n",
      "Action:  HIT\n",
      "Observation:  (26, 3, False, False, True, False) Reward:  -1.0\n",
      "hand 1 [10, 10, 10]\n",
      "hand 2 [10, 6, 10]\n",
      "Dealer hand:  [3, 2]\n",
      "Rewards:  [-1.0]\n",
      "Average Reward:  -1.0\n"
     ]
    }
   ],
   "source": [
    "from random_agent import RandomAgent\n",
    "\n",
    "episodes = 1\n",
    "rewards = []\n",
    "\n",
    "agent = RandomAgent()\n",
    "play_game(env, episodes, agent)\n",
    "\n",
    "print(\"Rewards: \", rewards)\n",
    "print(\"Average Reward: \", sum(rewards)/episodes)"
   ]
  }
 ],
 "metadata": {
  "kernelspec": {
   "display_name": "Python 3",
   "language": "python",
   "name": "python3"
  },
  "language_info": {
   "codemirror_mode": {
    "name": "ipython",
    "version": 3
   },
   "file_extension": ".py",
   "mimetype": "text/x-python",
   "name": "python",
   "nbconvert_exporter": "python",
   "pygments_lexer": "ipython3",
   "version": "3.9.6"
  }
 },
 "nbformat": 4,
 "nbformat_minor": 2
}
