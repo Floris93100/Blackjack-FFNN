{
 "cells": [
  {
   "cell_type": "code",
   "execution_count": 6,
   "metadata": {},
   "outputs": [],
   "source": [
    "from tqdm import tqdm\n",
    "from random_agent import RandomAgent\n",
    "from basic_strategy_agent import BasicStrategyAgent\n",
    "from blackjackenv_extended import BlackjackEnv"
   ]
  },
  {
   "cell_type": "code",
   "execution_count": 7,
   "metadata": {},
   "outputs": [],
   "source": [
    "KEY = {0: 'STAND', 1:'HIT', 2:'DOUBLE', 3: 'SPLIT'}\n",
    "\n",
    "rewards = []\n",
    "\n",
    "def play_game(env, episodes, agent, collect_data=False):\n",
    "\n",
    "    for episode in tqdm(range(episodes)):\n",
    "        observation, info = env.reset()\n",
    "        done = False\n",
    "        \n",
    "        # print(\"hand 1\", env.player)\n",
    "        # print(\"hand 2\", env.player2)\n",
    "        # print(\"Start Observation: \", observation)\n",
    "        \n",
    "        \n",
    "        while not done:\n",
    "            \n",
    "            action = agent.get_action(observation)\n",
    "            # print(\"Action: \", KEY[action])\n",
    "\n",
    "            # save data for training\n",
    "            if collect_data:\n",
    "                agent.collect_data(observation, action)\n",
    "            \n",
    "            observation, reward, terminated, truncated, info = env.step(action) \n",
    "            # print(\"hand 1\", env.player)\n",
    "            # print(\"hand 2\", env.player2)\n",
    "            # print(\"Observation: \", observation, \"Reward: \", reward)\n",
    "            \n",
    "\n",
    "            if terminated or truncated:\n",
    "                # print(f\"Dealer hand: \", env.dealer)\n",
    "                rewards.append(reward)\n",
    "                observation = env.reset()\n",
    "                done = True\n",
    "            \n",
    "\n",
    "    if collect_data:\n",
    "        agent.save_data()"
   ]
  },
  {
   "cell_type": "code",
   "execution_count": 8,
   "metadata": {},
   "outputs": [
    {
     "name": "stderr",
     "output_type": "stream",
     "text": [
      "100%|██████████| 3/3 [00:00<00:00, 801.66it/s]"
     ]
    },
    {
     "name": "stdout",
     "output_type": "stream",
     "text": [
      "Average Reward:  0.3333333333333333\n",
      "Variance:  1.3333333333333335\n"
     ]
    },
    {
     "name": "stderr",
     "output_type": "stream",
     "text": [
      "\n"
     ]
    }
   ],
   "source": [
    "# Hyperparameters\n",
    "episodes = 3\n",
    "\n",
    "env = BlackjackEnv(natural=True)\n",
    "#agent = RandomAgent(env, filename=\"random_agent\")\n",
    "agent = BasicStrategyAgent(env, filename=\"basic_strategy_agent\")\n",
    "collect_data = True\n",
    "rewards = []\n",
    "\n",
    "play_game(env, episodes, agent, collect_data)\n",
    "\n",
    "average_reward = sum(rewards)/episodes\n",
    "variance = sum([((x - average_reward) ** 2) for x in rewards]) / (episodes - 1)\n",
    "\n",
    "#print(\"Rewards: \", rewards)\n",
    "print(\"Average Reward: \", average_reward)\n",
    "print(\"Variance: \", variance)"
   ]
  }
 ],
 "metadata": {
  "kernelspec": {
   "display_name": "Python 3",
   "language": "python",
   "name": "python3"
  },
  "language_info": {
   "codemirror_mode": {
    "name": "ipython",
    "version": 3
   },
   "file_extension": ".py",
   "mimetype": "text/x-python",
   "name": "python",
   "nbconvert_exporter": "python",
   "pygments_lexer": "ipython3",
   "version": "3.9.6"
  }
 },
 "nbformat": 4,
 "nbformat_minor": 2
}
